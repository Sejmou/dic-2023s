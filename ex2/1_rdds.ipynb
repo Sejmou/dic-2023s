{
 "cells": [
  {
   "cell_type": "markdown",
   "metadata": {},
   "source": [
    "# Part 1: RDDs"
   ]
  },
  {
   "cell_type": "markdown",
   "metadata": {},
   "source": [
    "Setup Spark"
   ]
  },
  {
   "cell_type": "code",
   "execution_count": 1,
   "metadata": {
    "tags": []
   },
   "outputs": [
    {
     "name": "stderr",
     "output_type": "stream",
     "text": [
      "SLF4J: Class path contains multiple SLF4J bindings.\n",
      "SLF4J: Found binding in [jar:file:/usr/lib/spark/jars/slf4j-log4j12-1.7.30.jar!/org/slf4j/impl/StaticLoggerBinder.class]\n",
      "SLF4J: Found binding in [jar:file:/usr/lib/hadoop/lib/slf4j-reload4j-1.7.36.jar!/org/slf4j/impl/StaticLoggerBinder.class]\n",
      "SLF4J: See http://www.slf4j.org/codes.html#multiple_bindings for an explanation.\n",
      "SLF4J: Actual binding is of type [org.slf4j.impl.Log4jLoggerFactory]\n",
      "23/05/27 10:58:29 WARN NativeCodeLoader: Unable to load native-hadoop library for your platform... using builtin-java classes where applicable\n",
      "23/05/27 10:58:32 WARN Client: Neither spark.yarn.jars nor spark.yarn.archive is set, falling back to uploading libraries under SPARK_HOME.\n"
     ]
    }
   ],
   "source": [
    "from pyspark.sql import SparkSession\n",
    "spark = SparkSession.builder.appName(\"ChiSquaredRDD\").getOrCreate()\n",
    "sc = spark.sparkContext"
   ]
  },
  {
   "cell_type": "markdown",
   "metadata": {},
   "source": [
    "define helper function for benchmarking steps of Chi-square computation 'pipeline'"
   ]
  },
  {
   "cell_type": "markdown",
   "metadata": {},
   "source": [
    "## Load reviews as RDD"
   ]
  },
  {
   "cell_type": "code",
   "execution_count": 2,
   "metadata": {
    "tags": []
   },
   "outputs": [
    {
     "name": "stdout",
     "output_type": "stream",
     "text": [
      "CPU times: user 751 µs, sys: 2.32 ms, total: 3.07 ms\n",
      "Wall time: 604 ms\n"
     ]
    }
   ],
   "source": [
    "%%time\n",
    "\n",
    "review_path = \"hdfs:///user/dic23_shared/amazon-reviews/full/reviewscombined.json\"\n",
    "# review_path = \"hdfs:///user/dic23_shared/amazon-reviews/full/reviews_devset.json\"\n",
    "# review_path = \"hdfs:///user/e11809642/reviews/reduced_devset.json\"\n",
    "input_rdd = sc.textFile(review_path)"
   ]
  },
  {
   "cell_type": "markdown",
   "metadata": {},
   "source": [
    "## Obtain stopwords"
   ]
  },
  {
   "cell_type": "markdown",
   "metadata": {},
   "source": [
    "Load stopwords into (local) memory (Note: file contains duplicates, so convert to set)"
   ]
  },
  {
   "cell_type": "code",
   "execution_count": 3,
   "metadata": {
    "tags": []
   },
   "outputs": [
    {
     "name": "stdout",
     "output_type": "stream",
     "text": [
      "CPU times: user 1.07 ms, sys: 0 ns, total: 1.07 ms\n",
      "Wall time: 962 µs\n"
     ]
    }
   ],
   "source": [
    "%%time\n",
    "\n",
    "stopwords_path = 'stopwords.txt'\n",
    "\n",
    "def load_unique_lines(filename):\n",
    "    lines = set()\n",
    "\n",
    "    with open(filename, 'r') as file:\n",
    "        for line in file:\n",
    "            line = line.strip()  # Remove leading/trailing whitespace and newline characters\n",
    "            lines.add(line)\n",
    "\n",
    "    return lines\n",
    "\n",
    "\n",
    "stopwords = load_unique_lines(stopwords_path) "
   ]
  },
  {
   "cell_type": "markdown",
   "metadata": {},
   "source": [
    "Note: local variables like this one will be automatically broadcast to all data nodes if accessed in any RDD transformation"
   ]
  },
  {
   "cell_type": "markdown",
   "metadata": {},
   "source": [
    "## Extract the category + review text"
   ]
  },
  {
   "cell_type": "code",
   "execution_count": 4,
   "metadata": {
    "ExecuteTime": {
     "end_time": "2023-04-29T18:34:45.585066Z",
     "start_time": "2023-04-29T18:34:45.573062Z"
    },
    "tags": []
   },
   "outputs": [
    {
     "name": "stdout",
     "output_type": "stream",
     "text": [
      "CPU times: user 1.38 ms, sys: 569 µs, total: 1.95 ms\n",
      "Wall time: 31 ms\n"
     ]
    }
   ],
   "source": [
    "%%time\n",
    "\n",
    "import json\n",
    "category_review_rdd = input_rdd \\\n",
    "    .map(lambda json_str: json.loads(json_str)) \\\n",
    "    .map(lambda json_obj: (json_obj['category'], json_obj['reviewText']))"
   ]
  },
  {
   "cell_type": "markdown",
   "metadata": {},
   "source": [
    "## Compute total number of documents and number of documents per category"
   ]
  },
  {
   "cell_type": "markdown",
   "metadata": {},
   "source": [
    "We could do something like this:"
   ]
  },
  {
   "cell_type": "code",
   "execution_count": 6,
   "metadata": {
    "ExecuteTime": {
     "end_time": "2023-04-29T18:34:47.233787Z",
     "start_time": "2023-04-29T18:34:45.585066Z"
    },
    "collapsed": false,
    "jupyter": {
     "outputs_hidden": false
    },
    "tags": []
   },
   "outputs": [
    {
     "name": "stderr",
     "output_type": "stream",
     "text": [
      "[Stage 0:======================================================>(434 + 1) / 435]\r"
     ]
    },
    {
     "name": "stdout",
     "output_type": "stream",
     "text": [
      "CPU times: user 690 ms, sys: 121 ms, total: 811 ms\n",
      "Wall time: 8min\n"
     ]
    },
    {
     "name": "stderr",
     "output_type": "stream",
     "text": [
      "                                                                                \r"
     ]
    }
   ],
   "source": [
    "#%%time\n",
    "\n",
    "#review_count = category_review_rdd.count()"
   ]
  },
  {
   "cell_type": "markdown",
   "metadata": {},
   "source": [
    "But actually, we can also just count the number of documents by category and then sum up the number of documents per category to get the total number of documents!\n",
    "\n",
    "Just call `keys()` on the RDD for the review texts and then collect the counts with `countByValue()`:"
   ]
  },
  {
   "cell_type": "code",
   "execution_count": 5,
   "metadata": {
    "tags": []
   },
   "outputs": [
    {
     "name": "stderr",
     "output_type": "stream",
     "text": [
      "[Stage 0:======================================================>(434 + 1) / 435]\r"
     ]
    },
    {
     "name": "stdout",
     "output_type": "stream",
     "text": [
      "CPU times: user 676 ms, sys: 117 ms, total: 792 ms\n",
      "Wall time: 7min 40s\n"
     ]
    },
    {
     "name": "stderr",
     "output_type": "stream",
     "text": [
      "                                                                                \r"
     ]
    },
    {
     "data": {
      "text/plain": [
       "defaultdict(int,\n",
       "            {'Patio_Lawn_and_Garde': 993490,\n",
       "             'Apps_for_Android': 2638173,\n",
       "             'Book': 22507155,\n",
       "             'Toys_and_Game': 2252771,\n",
       "             'Office_Product': 1243186,\n",
       "             'Digital_Music': 836006,\n",
       "             'Sports_and_Outdoor': 3268695,\n",
       "             'Automotive': 1373768,\n",
       "             'Beauty': 2023070,\n",
       "             'Musical_Instrument': 500176,\n",
       "             'CDs_and_Vinyl': 3749004,\n",
       "             'Kindle_Store': 3205467,\n",
       "             'Clothing_Shoes_and_Jewelry': 5748920,\n",
       "             'Electronic': 7824482,\n",
       "             'Home_and_Kitche': 4253926,\n",
       "             'Cell_Phones_and_Accessorie': 3447249,\n",
       "             'Pet_Supplie': 1235316,\n",
       "             'Movies_and_TV': 4607047,\n",
       "             'Baby': 915446,\n",
       "             'Tools_and_Home_Improvement': 1926047,\n",
       "             'Grocery_and_Gourmet_Food': 1297156,\n",
       "             'Health_and_Personal_Care': 2982326})"
      ]
     },
     "execution_count": 5,
     "metadata": {},
     "output_type": "execute_result"
    }
   ],
   "source": [
    "%%time\n",
    "\n",
    "category_counts = category_review_rdd.keys().countByValue()\n",
    "category_counts"
   ]
  },
  {
   "cell_type": "markdown",
   "metadata": {},
   "source": [
    "This dict is really small (one key-value pair for each category) and will easily fit into memory on the datanodes."
   ]
  },
  {
   "cell_type": "code",
   "execution_count": 7,
   "metadata": {
    "tags": []
   },
   "outputs": [
    {
     "data": {
      "text/plain": [
       "78828876"
      ]
     },
     "execution_count": 7,
     "metadata": {},
     "output_type": "execute_result"
    }
   ],
   "source": [
    "review_count = sum(category_counts.values())\n",
    "review_count"
   ]
  },
  {
   "cell_type": "markdown",
   "metadata": {},
   "source": [
    "### Testing alternative approach for obtaining category counts"
   ]
  },
  {
   "cell_type": "code",
   "execution_count": 18,
   "metadata": {
    "tags": []
   },
   "outputs": [],
   "source": [
    "category_rdd = (\n",
    "    input_rdd\n",
    "    .map(lambda inputstring: json.loads((inputstring))['category'])\n",
    ")"
   ]
  },
  {
   "cell_type": "code",
   "execution_count": 20,
   "metadata": {
    "tags": []
   },
   "outputs": [
    {
     "name": "stderr",
     "output_type": "stream",
     "text": [
      "[Stage 7:======================================================>(434 + 1) / 435]\r"
     ]
    },
    {
     "name": "stdout",
     "output_type": "stream",
     "text": [
      "CPU times: user 600 ms, sys: 97.7 ms, total: 698 ms\n",
      "Wall time: 6min 50s\n"
     ]
    },
    {
     "name": "stderr",
     "output_type": "stream",
     "text": [
      "                                                                                \r"
     ]
    },
    {
     "data": {
      "text/plain": [
       "defaultdict(int,\n",
       "            {'Patio_Lawn_and_Garde': 993490,\n",
       "             'Apps_for_Android': 2638173,\n",
       "             'Book': 22507155,\n",
       "             'Toys_and_Game': 2252771,\n",
       "             'Office_Product': 1243186,\n",
       "             'Digital_Music': 836006,\n",
       "             'Sports_and_Outdoor': 3268695,\n",
       "             'Automotive': 1373768,\n",
       "             'Beauty': 2023070,\n",
       "             'Musical_Instrument': 500176,\n",
       "             'CDs_and_Vinyl': 3749004,\n",
       "             'Kindle_Store': 3205467,\n",
       "             'Clothing_Shoes_and_Jewelry': 5748920,\n",
       "             'Electronic': 7824482,\n",
       "             'Home_and_Kitche': 4253926,\n",
       "             'Cell_Phones_and_Accessorie': 3447249,\n",
       "             'Pet_Supplie': 1235316,\n",
       "             'Movies_and_TV': 4607047,\n",
       "             'Baby': 915446,\n",
       "             'Tools_and_Home_Improvement': 1926047,\n",
       "             'Grocery_and_Gourmet_Food': 1297156,\n",
       "             'Health_and_Personal_Care': 2982326})"
      ]
     },
     "execution_count": 20,
     "metadata": {},
     "output_type": "execute_result"
    }
   ],
   "source": [
    "%%time\n",
    "\n",
    "category_counts_2 = category_rdd.countByValue()\n",
    "category_counts_2"
   ]
  },
  {
   "cell_type": "markdown",
   "metadata": {},
   "source": [
    "Hmm, so is this alternative approach faster or was that just a coincidence?"
   ]
  },
  {
   "cell_type": "markdown",
   "metadata": {},
   "source": [
    "## Obtain number of ocurrences of each term by category"
   ]
  },
  {
   "cell_type": "code",
   "execution_count": 21,
   "metadata": {
    "tags": []
   },
   "outputs": [
    {
     "name": "stdout",
     "output_type": "stream",
     "text": [
      "CPU times: user 17.6 ms, sys: 3.99 ms, total: 21.5 ms\n",
      "Wall time: 83 ms\n"
     ]
    }
   ],
   "source": [
    "%%time\n",
    "\n",
    "# define pattern for splitting/tokenizing\n",
    "import re\n",
    "pattern = re.compile(r\"[^a-zA-Z<>^|]+\")\n",
    "\n",
    "def map_review_data(pair):\n",
    "    category, review_text = pair\n",
    "    # obtain set of unique(!) terms for each document via tokenization followed by stopword removal\n",
    "    terms = [\n",
    "        t\n",
    "        for t in set(token.lower() for token in pattern.split(review_text))\n",
    "        if t not in stopwords and len(t) >= 2\n",
    "    ]\n",
    "    return [((term, category), 1) for term in terms]\n",
    "\n",
    "def remap(pair):\n",
    "    term_and_cat, count = pair\n",
    "    term, cat = term_and_cat\n",
    "    return term, (cat, count)\n",
    "\n",
    "term_cat_occ_rdd = (\n",
    "    category_review_rdd.flatMap(\n",
    "        map_review_data\n",
    "    )\n",
    "    .reduceByKey(lambda x, y: x + y)\n",
    "    .map(remap) # can I avoid having to do this somehow?\n",
    "    .groupByKey()\n",
    ")"
   ]
  },
  {
   "cell_type": "code",
   "execution_count": null,
   "metadata": {
    "tags": []
   },
   "outputs": [
    {
     "name": "stderr",
     "output_type": "stream",
     "text": [
      "[Stage 3:===>                                                    (31 + 2) / 435]\r"
     ]
    }
   ],
   "source": [
    "# DON'T run this when using full dataset - will take A LONG TIME (even though only 3 values are printed)\n",
    "# term_cat_occ_rdd.take(3)"
   ]
  },
  {
   "cell_type": "markdown",
   "metadata": {},
   "source": [
    "## Calculate Chi-square"
   ]
  },
  {
   "cell_type": "code",
   "execution_count": 22,
   "metadata": {
    "ExecuteTime": {
     "end_time": "2023-04-29T18:53:14.481513Z",
     "start_time": "2023-04-29T18:53:14.460034Z"
    },
    "collapsed": false,
    "jupyter": {
     "outputs_hidden": false
    },
    "tags": []
   },
   "outputs": [],
   "source": [
    "def calculate_chi_square(pair):\n",
    "    term, term_counts_for_categories = pair\n",
    "    term_count_list = [t for t in term_counts_for_categories]\n",
    "\n",
    "    doc_count_for_cat = dict(term_count_list) # use to retrieve no. of documents containing term for a particular category\n",
    "    total_doc_count_for_term = sum(doc_count_for_cat.values()) # total number of documents containing the term\n",
    "    \n",
    "    term_and_cat_chi_squared = []\n",
    "    \n",
    "    for category, count in doc_count_for_cat.items():\n",
    "        a = count # number of documents in c which contain t\n",
    "        b = total_doc_count_for_term - a # number of documents not in c which contain t\n",
    "        total_doc_count_for_cat = category_counts[category] # total no. of documents for current category\n",
    "        c = total_doc_count_for_cat - a # number of documents in c without t\n",
    "        d = review_count - a - b - c # number of documents not in c without t\n",
    "        term_and_cat_chi_squared.append(\n",
    "            (\n",
    "                category,\n",
    "                (term, review_count * (a * d - b * c) ** 2 / ((a + b) * (a + c) * (b + d) * (c + d)))\n",
    "            )\n",
    "        )\n",
    "    return term_and_cat_chi_squared"
   ]
  },
  {
   "cell_type": "code",
   "execution_count": 23,
   "metadata": {
    "tags": []
   },
   "outputs": [
    {
     "data": {
      "text/plain": [
       "[('Patio_Lawn_and_Garde', ('term', 426.4088951575854)),\n",
       " ('Apps_for_Android', ('term', 33.21413580372739)),\n",
       " ('Book', ('term', 1.246417097859693))]"
      ]
     },
     "execution_count": 23,
     "metadata": {},
     "output_type": "execute_result"
    }
   ],
   "source": [
    "# quick test\n",
    "cat1, cat2, cat3 = [c for c in category_counts.keys()][:3]\n",
    "pair = ('term', [(cat1, 10), (cat2, 5), (cat3, 3)])\n",
    "calculate_chi_square(pair)"
   ]
  },
  {
   "cell_type": "code",
   "execution_count": 24,
   "metadata": {
    "tags": []
   },
   "outputs": [
    {
     "name": "stdout",
     "output_type": "stream",
     "text": [
      "CPU times: user 6.49 ms, sys: 1.38 ms, total: 7.87 ms\n",
      "Wall time: 22.8 ms\n"
     ]
    }
   ],
   "source": [
    "%%time\n",
    "\n",
    "# Compute the chi-squared value for each unique term and category pair\n",
    "# (term, category) -> chi-square\n",
    "term_cat_chi_squared_rdd = (term_cat_occ_rdd\n",
    "    .flatMap(calculate_chi_square)\n",
    "    .groupByKey()\n",
    ")"
   ]
  },
  {
   "cell_type": "code",
   "execution_count": 25,
   "metadata": {
    "tags": []
   },
   "outputs": [
    {
     "name": "stderr",
     "output_type": "stream",
     "text": [
      "[Stage 20:=====================================================>(427 + 2) / 435]\r"
     ]
    },
    {
     "name": "stdout",
     "output_type": "stream",
     "text": [
      "CPU times: user 1.92 s, sys: 470 ms, total: 2.39 s\n",
      "Wall time: 1h 19min 58s\n"
     ]
    },
    {
     "name": "stderr",
     "output_type": "stream",
     "text": [
      "                                                                                \r"
     ]
    }
   ],
   "source": [
    "%%time\n",
    "\n",
    "# Perform top K query for each category\n",
    "topK = 75  # Number of terms to retrieve per category\n",
    "\n",
    "def get_top_terms(pair):\n",
    "    category, terms = pair\n",
    "    top_terms = sorted(terms, key=lambda x: x[1], reverse=True)[:topK]  # Sort and retrieve top K terms\n",
    "    return category, top_terms\n",
    "\n",
    "# Apply the transformation and collect the results\n",
    "results = term_cat_chi_squared_rdd.map(get_top_terms).sortByKey().collect()"
   ]
  },
  {
   "cell_type": "code",
   "execution_count": 26,
   "metadata": {
    "tags": []
   },
   "outputs": [
    {
     "data": {
      "text/plain": [
       "22"
      ]
     },
     "execution_count": 26,
     "metadata": {},
     "output_type": "execute_result"
    }
   ],
   "source": [
    "len(results)"
   ]
  },
  {
   "cell_type": "code",
   "execution_count": 27,
   "metadata": {
    "tags": []
   },
   "outputs": [
    {
     "data": {
      "text/plain": [
       "22"
      ]
     },
     "execution_count": 27,
     "metadata": {},
     "output_type": "execute_result"
    }
   ],
   "source": [
    "len(category_counts)"
   ]
  },
  {
   "cell_type": "code",
   "execution_count": 28,
   "metadata": {
    "tags": []
   },
   "outputs": [
    {
     "data": {
      "text/plain": [
       "('Apps_for_Android',\n",
       " [('games', 2537037.1055596066),\n",
       "  ('play', 2247113.8091989527),\n",
       "  ('graphics', 1713265.4482352666),\n",
       "  ('kindle', 1623429.5418573343),\n",
       "  ('addicting', 1242808.2184094565),\n",
       "  ('addictive', 1035936.0441975455),\n",
       "  ('challenging', 992713.5393625504),\n",
       "  ('coins', 955141.6796828125),\n",
       "  ('fire', 873237.7713834605),\n",
       "  ('playing', 858860.1408184121),\n",
       "  ('puzzles', 685415.5497323661),\n",
       "  ('apps', 581592.8839890066),\n",
       "  ('levels', 524737.622313832),\n",
       "  ('free', 501001.8215785628),\n",
       "  ('download', 468874.6800539256),\n",
       "  ('downloaded', 401933.9544030182),\n",
       "  ('ads', 391326.5745358066),\n",
       "  ('bingo', 326777.76631461567),\n",
       "  ('gameplay', 292273.0536111694),\n",
       "  ('flappy', 278066.6912266814),\n",
       "  ('uninstalled', 268092.42706600856),\n",
       "  ('facebook', 244862.80021059277),\n",
       "  ('mahjong', 224833.17233451147),\n",
       "  ('solitaire', 208979.84293331063),\n",
       "  ('puzzle', 202466.74910689172),\n",
       "  ('played', 195723.39605319453),\n",
       "  ('faotd', 192946.7262648941),\n",
       "  ('waster', 191535.25318696845),\n",
       "  ('deleted', 177813.00791739573),\n",
       "  ('bought', 177044.8173788922),\n",
       "  ('android', 167433.61883271966),\n",
       "  ('minecraft', 151811.8194789197),\n",
       "  ('permissions', 150550.7209693925),\n",
       "  ('quality', 149208.72102671652),\n",
       "  ('earn', 147636.80115761294),\n",
       "  ('glitches', 146220.33418564338),\n",
       "  ('price', 143873.8683988131),\n",
       "  ('delete', 140480.6471802512),\n",
       "  ('author', 135121.91241344364),\n",
       "  ('made', 132578.25762193964),\n",
       "  ('challenge', 132521.76962298492),\n",
       "  ('reading', 132386.71021292108),\n",
       "  ('addicted', 131976.0231207244),\n",
       "  ('years', 129977.92898929075),\n",
       "  ('fit', 125061.10957800949),\n",
       "  ('freezes', 124941.4586535026),\n",
       "  ('uninstall', 115769.58405758196),\n",
       "  ('unlock', 115529.32588741611),\n",
       "  ('characters', 111292.51438930584),\n",
       "  ('series', 110420.01766034267),\n",
       "  ('downloading', 109572.87892484874),\n",
       "  ('written', 106710.57017273715),\n",
       "  ('multiplayer', 103978.08541571358),\n",
       "  ('hints', 94662.74686020764),\n",
       "  ('size', 91927.6947299047),\n",
       "  ('brain', 89846.10041286577),\n",
       "  ('crashes', 88833.95878391957),\n",
       "  ('logos', 88734.40983712598),\n",
       "  ('bored', 88520.25533082538),\n",
       "  ('appstore', 87729.0946736935),\n",
       "  ('awesome', 87075.03679771745),\n",
       "  ('end', 86583.0451994538),\n",
       "  ('sims', 86515.18481260676),\n",
       "  ('developer', 86228.95821650756),\n",
       "  ('put', 86093.68057804253),\n",
       "  ('small', 85847.10894635135),\n",
       "  ('back', 85710.11366624034),\n",
       "  ('perfect', 83950.90798345541),\n",
       "  ('feel', 83251.68008725575),\n",
       "  ('light', 82042.83124571238),\n",
       "  ('apos', 78491.83203174137),\n",
       "  ('temple', 73684.35919716455),\n",
       "  ('tetris', 73628.03791745928),\n",
       "  ('ordered', 73215.71052739459),\n",
       "  ('gameloft', 71976.95882595587)])"
      ]
     },
     "execution_count": 28,
     "metadata": {},
     "output_type": "execute_result"
    }
   ],
   "source": [
    "results[0]"
   ]
  },
  {
   "cell_type": "markdown",
   "metadata": {},
   "source": [
    "Looks legit!?"
   ]
  },
  {
   "cell_type": "markdown",
   "metadata": {},
   "source": [
    "## Obtain unique tokens (ordered alphabetically)"
   ]
  },
  {
   "cell_type": "code",
   "execution_count": 29,
   "metadata": {
    "tags": []
   },
   "outputs": [
    {
     "name": "stderr",
     "output_type": "stream",
     "text": [
      "                                                                                \r"
     ]
    },
    {
     "name": "stdout",
     "output_type": "stream",
     "text": [
      "CPU times: user 1.08 s, sys: 642 ms, total: 1.72 s\n",
      "Wall time: 1min 26s\n"
     ]
    }
   ],
   "source": [
    "%%time\n",
    "\n",
    "tokens = term_cat_occ_rdd.keys().distinct().sortBy(lambda x: x).collect()"
   ]
  },
  {
   "cell_type": "markdown",
   "metadata": {},
   "source": [
    "## Write results to local file"
   ]
  },
  {
   "cell_type": "code",
   "execution_count": 30,
   "metadata": {
    "tags": []
   },
   "outputs": [],
   "source": [
    "# format of each output line: \"<category> term1:chi_squared1 term2:chi_squared2 ... term75:chi_squared75\"\n",
    "# finally, append the list of tokens to the end of the file\n",
    "with open(f\"output_rdd{'_full_dataset' if review_count > 7000000 else ''}.txt\", \"a\") as file:\n",
    "    for pair in results:\n",
    "        file.write(\"<%s>\" % pair[0] + \" \")\n",
    "        for token, chi_square in pair[1]:\n",
    "            file.write(\"%s:%f\" % (token, chi_square) + \" \")\n",
    "        file.write(\"\\n\")\n",
    "    file.write(\" \".join(tokens) + \"\\n\")"
   ]
  },
  {
   "cell_type": "code",
   "execution_count": 31,
   "metadata": {
    "ExecuteTime": {
     "end_time": "2023-04-29T18:34:23.445308Z",
     "start_time": "2023-04-29T18:34:22.817267Z"
    },
    "collapsed": false,
    "jupyter": {
     "outputs_hidden": false
    },
    "tags": []
   },
   "outputs": [],
   "source": [
    "sc.stop()\n"
   ]
  },
  {
   "cell_type": "code",
   "execution_count": null,
   "metadata": {},
   "outputs": [],
   "source": []
  }
 ],
 "metadata": {
  "kernelspec": {
   "display_name": "Python 3 (DIC23)",
   "language": "python",
   "name": "python3_dic23"
  },
  "language_info": {
   "codemirror_mode": {
    "name": "ipython",
    "version": 3
   },
   "file_extension": ".py",
   "mimetype": "text/x-python",
   "name": "python",
   "nbconvert_exporter": "python",
   "pygments_lexer": "ipython3",
   "version": "3.9.13"
  }
 },
 "nbformat": 4,
 "nbformat_minor": 4
}
