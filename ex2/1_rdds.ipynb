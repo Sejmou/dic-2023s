{
 "cells": [
  {
   "attachments": {},
   "cell_type": "markdown",
   "metadata": {},
   "source": [
    "# Part 1: RDDs"
   ]
  },
  {
   "attachments": {},
   "cell_type": "markdown",
   "metadata": {},
   "source": [
    "Setup Spark"
   ]
  },
  {
   "cell_type": "code",
   "execution_count": 45,
   "metadata": {
    "tags": []
   },
   "outputs": [],
   "source": [
    "from pyspark.sql import SparkSession\n",
    "spark = SparkSession.builder.appName(\"ChiSquaredRDD\").getOrCreate()\n",
    "sc = spark.sparkContext"
   ]
  },
  {
   "attachments": {},
   "cell_type": "markdown",
   "metadata": {},
   "source": [
    "## Load reviews as RDD"
   ]
  },
  {
   "cell_type": "code",
   "execution_count": 3,
   "metadata": {
    "tags": []
   },
   "outputs": [],
   "source": [
    "# review_path = \"hdfs:///user/dic23_shared/amazon-reviews/full/reviewscombined.json\"\n",
    "review_path = \"hdfs:///user/dic23_shared/amazon-reviews/full/reviews_devset.json\"\n",
    "# review_path = \"hdfs:///user/e11809642/reviews/reduced_devset.json\"\n",
    "input_rdd = sc.textFile(review_path)"
   ]
  },
  {
   "attachments": {},
   "cell_type": "markdown",
   "metadata": {},
   "source": [
    "## Obtain stopwords"
   ]
  },
  {
   "attachments": {},
   "cell_type": "markdown",
   "metadata": {},
   "source": [
    "Load stopwords into (local) memory (Note: file contains duplicates, so convert to set)"
   ]
  },
  {
   "cell_type": "code",
   "execution_count": 4,
   "metadata": {
    "tags": []
   },
   "outputs": [],
   "source": [
    "stopwords_path = 'stopwords.txt'\n",
    "\n",
    "def load_unique_lines(filename):\n",
    "    lines = set()\n",
    "\n",
    "    with open(filename, 'r') as file:\n",
    "        for line in file:\n",
    "            line = line.strip()  # Remove leading/trailing whitespace and newline characters\n",
    "            lines.add(line)\n",
    "\n",
    "    return lines\n",
    "\n",
    "\n",
    "stopwords = load_unique_lines(stopwords_path) "
   ]
  },
  {
   "attachments": {},
   "cell_type": "markdown",
   "metadata": {},
   "source": [
    "Note: local variables like this one will be automatically broadcast to all data nodes if accessed in any RDD transformation"
   ]
  },
  {
   "attachments": {},
   "cell_type": "markdown",
   "metadata": {},
   "source": [
    "## Parse JSON strings, extract the category + review text"
   ]
  },
  {
   "cell_type": "code",
   "execution_count": 5,
   "metadata": {
    "ExecuteTime": {
     "end_time": "2023-04-29T18:34:45.585066Z",
     "start_time": "2023-04-29T18:34:45.573062Z"
    },
    "tags": []
   },
   "outputs": [],
   "source": [
    "import json\n",
    "category_review_rdd = input_rdd \\\n",
    "    .map(lambda json_str: json.loads(json_str)) \\\n",
    "    .map(lambda json_obj: (json_obj['category'], json_obj['reviewText']))"
   ]
  },
  {
   "attachments": {},
   "cell_type": "markdown",
   "metadata": {},
   "source": [
    "## Compute total number of documents"
   ]
  },
  {
   "cell_type": "code",
   "execution_count": 6,
   "metadata": {
    "ExecuteTime": {
     "end_time": "2023-04-29T18:34:47.233787Z",
     "start_time": "2023-04-29T18:34:45.585066Z"
    },
    "collapsed": false,
    "jupyter": {
     "outputs_hidden": false
    },
    "tags": []
   },
   "outputs": [
    {
     "name": "stderr",
     "output_type": "stream",
     "text": [
      "                                                                                \r"
     ]
    }
   ],
   "source": [
    "review_count = category_review_rdd.count()"
   ]
  },
  {
   "attachments": {},
   "cell_type": "markdown",
   "metadata": {
    "tags": []
   },
   "source": [
    "## Compute number of documents per category"
   ]
  },
  {
   "attachments": {},
   "cell_type": "markdown",
   "metadata": {},
   "source": [
    "define RDD with required transformations"
   ]
  },
  {
   "cell_type": "code",
   "execution_count": 7,
   "metadata": {
    "tags": []
   },
   "outputs": [],
   "source": [
    "category_counts_rdd = category_review_rdd \\\n",
    "    .map(lambda pair: (pair[0], 1)) \\\n",
    "    .reduceByKey(lambda x, y: x + y)"
   ]
  },
  {
   "attachments": {},
   "cell_type": "markdown",
   "metadata": {},
   "source": [
    "Next, collect the number of documents per category (values of the RDD above) into a local dictionary. This dict is really small (one key-value pair for each category) and will easily fit into memory on the datanodes."
   ]
  },
  {
   "cell_type": "code",
   "execution_count": 8,
   "metadata": {
    "tags": []
   },
   "outputs": [
    {
     "name": "stderr",
     "output_type": "stream",
     "text": [
      "                                                                                \r"
     ]
    }
   ],
   "source": [
    "category_counts = dict(category_counts_rdd.collect())\n",
    "#category_counts = category_counts_rdd.collect()"
   ]
  },
  {
   "cell_type": "code",
   "execution_count": 9,
   "metadata": {
    "tags": []
   },
   "outputs": [
    {
     "data": {
      "text/plain": [
       "500"
      ]
     },
     "execution_count": 9,
     "metadata": {},
     "output_type": "execute_result"
    }
   ],
   "source": [
    "category_counts['Musical_Instrument']"
   ]
  },
  {
   "attachments": {},
   "cell_type": "markdown",
   "metadata": {},
   "source": [
    "## Obtain number of ocurrences of each term by category"
   ]
  },
  {
   "cell_type": "code",
   "execution_count": 72,
   "metadata": {
    "tags": []
   },
   "outputs": [],
   "source": [
    "# define pattern for splitting/tokenizing\n",
    "import re\n",
    "pattern = re.compile(r\"[^a-zA-Z<>^|]+\")\n",
    "\n",
    "def map_review_data(pair):\n",
    "    category, review_text = pair\n",
    "    # obtain terms via tokenization followed by stopword removal\n",
    "    terms = [\n",
    "        t\n",
    "        for t in set(token.lower() for token in pattern.split(review_text))\n",
    "        if t not in stopwords and len(t) >= 2\n",
    "    ]\n",
    "    return [((term, category), 1) for term in terms]\n",
    "\n",
    "def remap(pair):\n",
    "    term_and_cat, count = pair\n",
    "    term, cat = term_and_cat\n",
    "    return term, (cat, count)\n",
    "\n",
    "term_cat_occ_rdd = (\n",
    "    category_review_rdd.flatMap(\n",
    "        map_review_data\n",
    "    )\n",
    "    .reduceByKey(lambda x, y: x + y)\n",
    "    .map(remap) # can I avoid having to do this somehow?\n",
    "    .groupByKey()\n",
    ")"
   ]
  },
  {
   "cell_type": "code",
   "execution_count": 73,
   "metadata": {
    "tags": []
   },
   "outputs": [
    {
     "name": "stderr",
     "output_type": "stream",
     "text": [
      "                                                                                \r"
     ]
    },
    {
     "data": {
      "text/plain": [
       "[('insight', <pyspark.resultiterable.ResultIterable at 0x7f03f35bd9d0>),\n",
       " ('things', <pyspark.resultiterable.ResultIterable at 0x7f03f35bde20>),\n",
       " ('raichlen', <pyspark.resultiterable.ResultIterable at 0x7f03f35bd250>)]"
      ]
     },
     "execution_count": 73,
     "metadata": {},
     "output_type": "execute_result"
    }
   ],
   "source": [
    "term_cat_occ_rdd.take(3)"
   ]
  },
  {
   "attachments": {},
   "cell_type": "markdown",
   "metadata": {
    "tags": []
   },
   "source": [
    "## Compute the number of occurrences of each term across all reviews"
   ]
  },
  {
   "attachments": {},
   "cell_type": "markdown",
   "metadata": {},
   "source": [
    "Not sure if this is required at all"
   ]
  },
  {
   "cell_type": "code",
   "execution_count": 12,
   "metadata": {
    "tags": []
   },
   "outputs": [],
   "source": [
    "term_occ_rdd = term_cat_occ_rdd \\\n",
    "    .map(lambda pair: (pair[0][0], pair[1])) \\\n",
    "    .reduceByKey(lambda x, y: x + y)"
   ]
  },
  {
   "attachments": {},
   "cell_type": "markdown",
   "metadata": {},
   "source": [
    "## Calculate Chi-square"
   ]
  },
  {
   "cell_type": "code",
   "execution_count": 82,
   "metadata": {
    "ExecuteTime": {
     "end_time": "2023-04-29T18:53:14.481513Z",
     "start_time": "2023-04-29T18:53:14.460034Z"
    },
    "collapsed": false,
    "jupyter": {
     "outputs_hidden": false
    },
    "tags": []
   },
   "outputs": [],
   "source": [
    "def calculate_chi_square(pair):\n",
    "    term, term_counts_for_categories = pair\n",
    "    term_count_list = [t for t in term_counts_for_categories]\n",
    "\n",
    "    doc_count_for_cat = dict(term_count_list) # use to retrieve no. of documents containing term for a particular category\n",
    "    total_doc_count_for_term = sum(doc_count_for_cat.values()) # total number of documents containing the term\n",
    "    \n",
    "    term_and_cat_chi_squared = []\n",
    "    \n",
    "    for category, count in doc_count_for_cat.items():\n",
    "        a = count # number of documents in c which contain t\n",
    "        b = total_doc_count_for_term - a # number of documents not in c which contain t\n",
    "        total_doc_count_for_cat = category_counts[category] # total no. of documents for current category\n",
    "        c = total_doc_count_for_cat - a # number of documents in c without t\n",
    "        d = review_count - a - b - c # number of documents not in c without t\n",
    "        term_and_cat_chi_squared.append(\n",
    "            (\n",
    "                category,\n",
    "                (term, review_count * (a * d - b * c) ** 2 / ((a + b) * (a + c) * (b + d) * (c + d)))\n",
    "            )\n",
    "        )\n",
    "    return term_and_cat_chi_squared"
   ]
  },
  {
   "cell_type": "code",
   "execution_count": 83,
   "metadata": {
    "tags": []
   },
   "outputs": [
    {
     "data": {
      "text/plain": [
       "[('Apps_for_Android', ('term', 151.725015831567)),\n",
       " ('Book', ('term', 0.00528584930912985)),\n",
       " ('Toys_and_Game', ('term', 12.364825215808038))]"
      ]
     },
     "execution_count": 83,
     "metadata": {},
     "output_type": "execute_result"
    }
   ],
   "source": [
    "# quick test\n",
    "cat1, cat2, cat3 = [c for c in category_counts.keys()][:3]\n",
    "pair = ('term', [(cat1, 10), (cat2, 5), (cat3, 3)])\n",
    "calculate_chi_square(pair)"
   ]
  },
  {
   "cell_type": "code",
   "execution_count": 96,
   "metadata": {
    "tags": []
   },
   "outputs": [],
   "source": [
    "# Compute the chi-squared value for each unique term and category pair\n",
    "# (term, category) -> chi-square\n",
    "term_cat_chi_squared_rdd = (term_cat_occ_rdd\n",
    "    .flatMap(calculate_chi_square)\n",
    "    .groupByKey()\n",
    ")"
   ]
  },
  {
   "cell_type": "code",
   "execution_count": 97,
   "metadata": {
    "tags": []
   },
   "outputs": [
    {
     "name": "stderr",
     "output_type": "stream",
     "text": [
      "                                                                                \r"
     ]
    },
    {
     "data": {
      "text/plain": [
       "[('Apps_for_Android',\n",
       "  <pyspark.resultiterable.ResultIterable at 0x7f03f3654f70>),\n",
       " ('Book', <pyspark.resultiterable.ResultIterable at 0x7f03f36465b0>),\n",
       " ('Toys_and_Game', <pyspark.resultiterable.ResultIterable at 0x7f03f5a5f490>)]"
      ]
     },
     "execution_count": 97,
     "metadata": {},
     "output_type": "execute_result"
    }
   ],
   "source": [
    "term_cat_chi_squared_rdd.take(3)"
   ]
  },
  {
   "cell_type": "code",
   "execution_count": 114,
   "metadata": {
    "tags": []
   },
   "outputs": [],
   "source": [
    "# Perform top K query for each category\n",
    "topK = 75  # Number of terms to retrieve per category\n",
    "\n",
    "def get_top_terms(pair):\n",
    "    category, terms = pair\n",
    "    top_terms = sorted(terms, key=lambda x: x[1], reverse=True)[:topK]  # Sort and retrieve top K terms\n",
    "    return category, top_terms\n",
    "\n",
    "# Apply the transformation and collect the results\n",
    "results = term_cat_chi_squared_rdd.map(get_top_terms).sortByKey().collect()"
   ]
  },
  {
   "cell_type": "code",
   "execution_count": 115,
   "metadata": {
    "tags": []
   },
   "outputs": [
    {
     "data": {
      "text/plain": [
       "22"
      ]
     },
     "execution_count": 115,
     "metadata": {},
     "output_type": "execute_result"
    }
   ],
   "source": [
    "len(results)"
   ]
  },
  {
   "cell_type": "code",
   "execution_count": 116,
   "metadata": {
    "tags": []
   },
   "outputs": [
    {
     "data": {
      "text/plain": [
       "22"
      ]
     },
     "execution_count": 116,
     "metadata": {},
     "output_type": "execute_result"
    }
   ],
   "source": [
    "len(category_counts)"
   ]
  },
  {
   "cell_type": "code",
   "execution_count": 117,
   "metadata": {
    "tags": []
   },
   "outputs": [
    {
     "data": {
      "text/plain": [
       "('Apps_for_Android',\n",
       " [('games', 3081.1493374842926),\n",
       "  ('play', 2158.3694068201294),\n",
       "  ('graphics', 1505.5108977351497),\n",
       "  ('kindle', 1470.820942569012),\n",
       "  ('addictive', 1311.905562727777),\n",
       "  ('challenging', 1038.1284558527927),\n",
       "  ('coins', 1002.6647889526382),\n",
       "  ('addicting', 990.8441134974868),\n",
       "  ('fire', 956.1470053110605),\n",
       "  ('levels', 825.3813282736016),\n",
       "  ('playing', 692.9340396014182),\n",
       "  ('ads', 642.3969794099202),\n",
       "  ('puzzles', 596.7716753070063),\n",
       "  ('apps', 548.7810653104153),\n",
       "  ('free', 500.9884786241356),\n",
       "  ('bingo', 409.2358492981346),\n",
       "  ('mahjong', 322.00891943980963),\n",
       "  ('download', 303.8649278202287),\n",
       "  ('faotd', 288.8577201586641),\n",
       "  ('facebook', 282.51705437029005),\n",
       "  ('downloaded', 262.77022492215735),\n",
       "  ('hints', 242.61029019440056),\n",
       "  ('solitaire', 211.6429957838186),\n",
       "  ('android', 211.58105849598613),\n",
       "  ('puzzle', 198.85582217352504),\n",
       "  ('gameplay', 198.5123356770461),\n",
       "  ('freezes', 189.67737127837006),\n",
       "  ('unlock', 185.7521008338788),\n",
       "  ('played', 180.39650447458513),\n",
       "  ('deleted', 179.2243589462116),\n",
       "  ('bought', 174.4587211734982),\n",
       "  ('flappy', 173.30583696524425),\n",
       "  ('upgrades', 168.99856742047183),\n",
       "  ('awesome', 155.21008166532062),\n",
       "  ('tablet', 155.13822220891723),\n",
       "  ('price', 149.5959088208227),\n",
       "  ('calculator', 148.95756302858823),\n",
       "  ('developer', 148.37746519215403),\n",
       "  ('quality', 144.19395657092494),\n",
       "  ('permissions', 137.37091512558038),\n",
       "  ('author', 135.34205354169052),\n",
       "  ('earn', 134.7527163155313),\n",
       "  ('bored', 131.23190073884672),\n",
       "  ('uninstall', 127.29106315507559),\n",
       "  ('sudoku', 126.99968483964763),\n",
       "  ('fit', 126.10402357270084),\n",
       "  ('years', 124.35784441658689),\n",
       "  ('reading', 121.6512068956907),\n",
       "  ('made', 120.91456375779856),\n",
       "  ('characters', 118.09788512184657),\n",
       "  ('gameloft', 115.53429315666729),\n",
       "  ('series', 115.05716592780018),\n",
       "  ('written', 114.84060961362133),\n",
       "  ('addicted', 109.65036786251359),\n",
       "  ('crashes', 107.3093981107394),\n",
       "  ('brain', 106.92909693130997),\n",
       "  ('multiplayer', 102.51457697684802),\n",
       "  ('challenge', 102.18967874435549),\n",
       "  ('sims', 100.44868563758436),\n",
       "  ('uninstalling', 100.32193506574053),\n",
       "  ('tetris', 99.24357491450239),\n",
       "  ('back', 99.12491188526246),\n",
       "  ('glitches', 99.02553697390849),\n",
       "  ('end', 95.24822201431749),\n",
       "  ('waster', 94.22529346826073),\n",
       "  ('crashing', 93.68803122186573),\n",
       "  ('downloading', 93.54235192211287),\n",
       "  ('size', 93.34366680110553),\n",
       "  ('put', 91.54071641565497),\n",
       "  ('logos', 88.26571319760414),\n",
       "  ('minecraft', 88.26571319760414),\n",
       "  ('glu', 86.64962060177764),\n",
       "  ('pou', 86.64962060177764),\n",
       "  ('freecell', 86.64962060177764),\n",
       "  ('apos', 86.64962060177764)])"
      ]
     },
     "execution_count": 117,
     "metadata": {},
     "output_type": "execute_result"
    }
   ],
   "source": [
    "results[0]"
   ]
  },
  {
   "attachments": {},
   "cell_type": "markdown",
   "metadata": {},
   "source": [
    "Looks legit!?"
   ]
  },
  {
   "attachments": {},
   "cell_type": "markdown",
   "metadata": {},
   "source": [
    "## Obtain unique tokens (ordered alphabetically)"
   ]
  },
  {
   "cell_type": "code",
   "execution_count": 120,
   "metadata": {
    "tags": []
   },
   "outputs": [],
   "source": [
    "tokens = term_cat_occ_rdd.keys().distinct().sortBy(lambda x: x).collect()"
   ]
  },
  {
   "attachments": {},
   "cell_type": "markdown",
   "metadata": {},
   "source": [
    "## Write results to local file"
   ]
  },
  {
   "cell_type": "code",
   "execution_count": 121,
   "metadata": {},
   "outputs": [],
   "source": [
    "# format of each output line: \"<category> term1:chi_squared1 term2:chi_squared2 ... term75:chi_squared75\"\n",
    "# finally, append the list of tokens to the end of the file\n",
    "with open(\"chi_square.txt\", \"a\") as file:\n",
    "    for pair in results:\n",
    "        file.write(\"<%s>\" % pair[0] + \" \")\n",
    "        for token, chi_square in pair[1]:\n",
    "            file.write(\"%s:%f\" % (token, chi_square) + \" \")\n",
    "        file.write(\"\\n\")\n",
    "    file.write(\" \".join(tokens) + \"\\n\")"
   ]
  },
  {
   "cell_type": "code",
   "execution_count": 122,
   "metadata": {
    "ExecuteTime": {
     "end_time": "2023-04-29T18:34:23.445308Z",
     "start_time": "2023-04-29T18:34:22.817267Z"
    },
    "collapsed": false,
    "jupyter": {
     "outputs_hidden": false
    }
   },
   "outputs": [],
   "source": [
    "sc.stop()\n"
   ]
  },
  {
   "cell_type": "code",
   "execution_count": null,
   "metadata": {},
   "outputs": [],
   "source": []
  }
 ],
 "metadata": {
  "kernelspec": {
   "display_name": "Python 3 (DIC23)",
   "language": "python",
   "name": "python3_dic23"
  },
  "language_info": {
   "codemirror_mode": {
    "name": "ipython",
    "version": 3
   },
   "file_extension": ".py",
   "mimetype": "text/x-python",
   "name": "python",
   "nbconvert_exporter": "python",
   "pygments_lexer": "ipython3",
   "version": "3.9.13"
  }
 },
 "nbformat": 4,
 "nbformat_minor": 4
}
