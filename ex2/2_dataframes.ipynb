{
 "cells": [
  {
   "cell_type": "markdown",
   "metadata": {
    "tags": []
   },
   "source": [
    "# Part 2: Datasets/DataFrames"
   ]
  },
  {
   "cell_type": "code",
   "execution_count": 1,
   "metadata": {
    "ExecuteTime": {
     "end_time": "2023-05-31T21:30:23.825933700Z",
     "start_time": "2023-05-31T21:30:22.840277Z"
    }
   },
   "outputs": [],
   "source": [
    "import pandas as pd\n",
    "from pyspark import SparkConf\n",
    "from pyspark.ml import Pipeline\n",
    "from pyspark.ml.classification import LinearSVC, OneVsRest\n",
    "from pyspark.ml.evaluation import MulticlassClassificationEvaluator\n",
    "from pyspark.ml.feature import ChiSqSelector, RegexTokenizer, StringIndexer, IDF, StopWordsRemover, \\\n",
    "    Normalizer, CountVectorizer\n",
    "from pyspark.ml.tuning import ParamGridBuilder, TrainValidationSplit, TrainValidationSplitModel\n",
    "from pyspark.mllib.evaluation import MulticlassMetrics\n",
    "from pyspark.sql import SparkSession"
   ]
  },
  {
   "cell_type": "code",
   "execution_count": 2,
   "metadata": {
    "ExecuteTime": {
     "end_time": "2023-05-31T21:30:47.938195700Z",
     "start_time": "2023-05-31T21:30:23.828919200Z"
    },
    "collapsed": false
   },
   "outputs": [
    {
     "name": "stderr",
     "output_type": "stream",
     "text": [
      "SLF4J: Class path contains multiple SLF4J bindings.\n",
      "SLF4J: Found binding in [jar:file:/usr/lib/spark/jars/slf4j-log4j12-1.7.30.jar!/org/slf4j/impl/StaticLoggerBinder.class]\n",
      "SLF4J: Found binding in [jar:file:/usr/lib/hadoop/lib/slf4j-reload4j-1.7.36.jar!/org/slf4j/impl/StaticLoggerBinder.class]\n",
      "SLF4J: See http://www.slf4j.org/codes.html#multiple_bindings for an explanation.\n",
      "SLF4J: Actual binding is of type [org.slf4j.impl.Log4jLoggerFactory]\n",
      "23/05/31 23:30:27 WARN NativeCodeLoader: Unable to load native-hadoop library for your platform... using builtin-java classes where applicable\n",
      "23/05/31 23:30:28 WARN Utils: Service 'SparkUI' could not bind on port 4040. Attempting port 4041.\n",
      "23/05/31 23:30:28 WARN Utils: Service 'SparkUI' could not bind on port 4041. Attempting port 4042.\n",
      "23/05/31 23:30:28 WARN Utils: Service 'SparkUI' could not bind on port 4042. Attempting port 4043.\n",
      "23/05/31 23:30:28 WARN Utils: Service 'SparkUI' could not bind on port 4043. Attempting port 4044.\n",
      "23/05/31 23:30:28 WARN Utils: Service 'SparkUI' could not bind on port 4044. Attempting port 4045.\n",
      "23/05/31 23:30:28 WARN Utils: Service 'SparkUI' could not bind on port 4045. Attempting port 4046.\n",
      "23/05/31 23:30:28 WARN Utils: Service 'SparkUI' could not bind on port 4046. Attempting port 4047.\n",
      "23/05/31 23:30:28 WARN Utils: Service 'SparkUI' could not bind on port 4047. Attempting port 4048.\n",
      "23/05/31 23:30:28 WARN Utils: Service 'SparkUI' could not bind on port 4048. Attempting port 4049.\n",
      "23/05/31 23:30:28 WARN Utils: Service 'SparkUI' could not bind on port 4049. Attempting port 4050.\n",
      "23/05/31 23:30:28 WARN Utils: Service 'SparkUI' could not bind on port 4050. Attempting port 4051.\n",
      "23/05/31 23:30:28 WARN Utils: Service 'SparkUI' could not bind on port 4051. Attempting port 4052.\n",
      "23/05/31 23:30:28 WARN Utils: Service 'SparkUI' could not bind on port 4052. Attempting port 4053.\n",
      "23/05/31 23:30:28 WARN Utils: Service 'SparkUI' could not bind on port 4053. Attempting port 4054.\n",
      "23/05/31 23:30:28 WARN Utils: Service 'SparkUI' could not bind on port 4054. Attempting port 4055.\n",
      "23/05/31 23:30:28 WARN Utils: Service 'SparkUI' could not bind on port 4055. Attempting port 4056.\n",
      "23/05/31 23:30:28 WARN Utils: Service 'SparkUI' could not bind on port 4056. Attempting port 4057.\n",
      "23/05/31 23:30:28 WARN Utils: Service 'SparkUI' could not bind on port 4057. Attempting port 4058.\n",
      "23/05/31 23:30:28 WARN Utils: Service 'SparkUI' could not bind on port 4058. Attempting port 4059.\n",
      "23/05/31 23:30:28 WARN Utils: Service 'SparkUI' could not bind on port 4059. Attempting port 4060.\n",
      "23/05/31 23:30:28 WARN Utils: Service 'SparkUI' could not bind on port 4060. Attempting port 4061.\n",
      "23/05/31 23:30:28 WARN Utils: Service 'SparkUI' could not bind on port 4061. Attempting port 4062.\n",
      "23/05/31 23:30:28 WARN Utils: Service 'SparkUI' could not bind on port 4062. Attempting port 4063.\n",
      "23/05/31 23:30:28 WARN Utils: Service 'SparkUI' could not bind on port 4063. Attempting port 4064.\n",
      "23/05/31 23:30:28 WARN Utils: Service 'SparkUI' could not bind on port 4064. Attempting port 4065.\n",
      "23/05/31 23:30:28 WARN Utils: Service 'SparkUI' could not bind on port 4065. Attempting port 4066.\n",
      "23/05/31 23:30:28 WARN Utils: Service 'SparkUI' could not bind on port 4066. Attempting port 4067.\n",
      "23/05/31 23:30:30 WARN Client: Neither spark.yarn.jars nor spark.yarn.archive is set, falling back to uploading libraries under SPARK_HOME.\n"
     ]
    }
   ],
   "source": [
    "# Create a SparkConf with the following settings:\n",
    "# - spark.driver.memory: 4g\n",
    "# - spark.executor.memory: 7392m\n",
    "# - spark.parallelism: 4\n",
    "conf = SparkConf() \\\n",
    "    .set(\"spark.driver.memory\", \"4g\") \\\n",
    "    .set(\"spark.executor.memory\", \"7392m\") \\\n",
    "    .set(\"spark.parallelism\", \"4\")\n",
    "\n",
    "# Create a SparkSession with the name \"ChiSquaredPipeline\" using the SparkConf above\n",
    "spark = SparkSession.builder \\\n",
    "    .appName(\"ChiSquaredPipeline\") \\\n",
    "    .config(conf=conf) \\\n",
    "    .getOrCreate()\n",
    "\n",
    "# Retrieve the SparkContext from the SparkSession\n",
    "sc = spark.sparkContext\n",
    "\n",
    "# Set the log level to WARN\n",
    "sc.setLogLevel(\"ERROR\")"
   ]
  },
  {
   "cell_type": "code",
   "execution_count": 3,
   "metadata": {
    "ExecuteTime": {
     "end_time": "2023-05-31T21:30:56.598111200Z",
     "start_time": "2023-05-31T21:30:47.945164100Z"
    }
   },
   "outputs": [
    {
     "name": "stderr",
     "output_type": "stream",
     "text": [
      "                                                                                \r"
     ]
    }
   ],
   "source": [
    "# Read the review file into a DataFrame\n",
    "review_path = \"hdfs:///user/dic23_shared/amazon-reviews/full/reviews_devset.json\"\n",
    "df = spark.read.json(review_path)"
   ]
  },
  {
   "cell_type": "code",
   "execution_count": 4,
   "metadata": {
    "ExecuteTime": {
     "end_time": "2023-05-31T21:30:56.603108700Z",
     "start_time": "2023-05-31T21:30:56.599111600Z"
    },
    "collapsed": false,
    "jupyter": {
     "outputs_hidden": false
    }
   },
   "outputs": [],
   "source": [
    "# Load the stopword file as a set from the local file system\n",
    "stopwords = set(open(\"stopwords.txt\").read().splitlines())"
   ]
  },
  {
   "cell_type": "code",
   "execution_count": 5,
   "metadata": {
    "ExecuteTime": {
     "end_time": "2023-05-31T21:30:56.753859100Z",
     "start_time": "2023-05-31T21:30:56.599111600Z"
    }
   },
   "outputs": [],
   "source": [
    "# Tokenize the review text into words using a regular expression pattern\n",
    "tokenizer = RegexTokenizer(inputCol=\"reviewText\", outputCol=\"words\", pattern=\"[^a-zA-Z<>^|]+\", gaps=True,\n",
    "                           toLowercase=True)"
   ]
  },
  {
   "cell_type": "code",
   "execution_count": 6,
   "metadata": {
    "ExecuteTime": {
     "end_time": "2023-05-31T21:30:56.758853500Z",
     "start_time": "2023-05-31T21:30:56.751857400Z"
    },
    "tags": []
   },
   "outputs": [],
   "source": [
    "# Remove stopwords from the tokenized words list using the stopword set\n",
    "remover = StopWordsRemover(inputCol=\"words\", outputCol=\"filtered\", stopWords=list(stopwords))"
   ]
  },
  {
   "cell_type": "code",
   "execution_count": 7,
   "metadata": {
    "ExecuteTime": {
     "end_time": "2023-05-31T21:30:56.781864900Z",
     "start_time": "2023-05-31T21:30:56.757850400Z"
    }
   },
   "outputs": [],
   "source": [
    "# Convert the category column to a numeric type using the StringIndexer with alphabetically ascending order to allow for easy mapping to the category names later\n",
    "indexer = StringIndexer(inputCol=\"category\", outputCol=\"categoryIndex\", stringOrderType=\"alphabetAsc\")"
   ]
  },
  {
   "cell_type": "code",
   "execution_count": 8,
   "metadata": {
    "ExecuteTime": {
     "end_time": "2023-05-31T21:30:56.807336100Z",
     "start_time": "2023-05-31T21:30:56.781864900Z"
    },
    "collapsed": false,
    "jupyter": {
     "outputs_hidden": false
    }
   },
   "outputs": [],
   "source": [
    "# Compute the term frequency vector for each document (review)\n",
    "# tf = HashingTF(inputCol=\"filtered\", outputCol=\"rawFeatures\")\n",
    "tf = CountVectorizer(inputCol=\"filtered\", outputCol=\"rawFeatures\")"
   ]
  },
  {
   "cell_type": "code",
   "execution_count": 9,
   "metadata": {
    "ExecuteTime": {
     "end_time": "2023-05-31T21:30:56.821336400Z",
     "start_time": "2023-05-31T21:30:56.802332700Z"
    },
    "collapsed": false,
    "jupyter": {
     "outputs_hidden": false
    }
   },
   "outputs": [],
   "source": [
    "# Compute the inverse document frequency vector for each document (review)\n",
    "idf = IDF(inputCol=\"rawFeatures\", outputCol=\"features\")"
   ]
  },
  {
   "cell_type": "code",
   "execution_count": 10,
   "metadata": {
    "ExecuteTime": {
     "end_time": "2023-05-31T21:30:56.852046900Z",
     "start_time": "2023-05-31T21:30:56.823343200Z"
    }
   },
   "outputs": [],
   "source": [
    "# Select the top 2000 features based on the chi-squared test for feature independence\n",
    "css = ChiSqSelector(featuresCol=\"features\", outputCol=\"selectedFeatures\", labelCol=\"categoryIndex\", numTopFeatures=2000)"
   ]
  },
  {
   "cell_type": "code",
   "execution_count": 11,
   "metadata": {
    "ExecuteTime": {
     "end_time": "2023-05-31T21:30:56.866047600Z",
     "start_time": "2023-05-31T21:30:56.852046900Z"
    },
    "collapsed": false,
    "jupyter": {
     "outputs_hidden": false
    }
   },
   "outputs": [],
   "source": [
    "# Create pipeline combining all steps\n",
    "pipeline = Pipeline(stages=[tokenizer, remover, indexer, tf, idf, css])"
   ]
  },
  {
   "cell_type": "code",
   "execution_count": null,
   "metadata": {
    "collapsed": false,
    "jupyter": {
     "outputs_hidden": false
    }
   },
   "outputs": [],
   "source": [
    "# Fit the pipeline to the DataFrame\n",
    "model = pipeline.fit(df)"
   ]
  },
  {
   "cell_type": "code",
   "execution_count": null,
   "metadata": {
    "collapsed": false,
    "jupyter": {
     "outputs_hidden": false
    }
   },
   "outputs": [],
   "source": [
    "# Get the vocabulary and selected features\n",
    "vocab = model.stages[3].vocabulary\n",
    "selected_features = model.stages[5].selectedFeatures"
   ]
  },
  {
   "cell_type": "code",
   "execution_count": null,
   "metadata": {
    "collapsed": false,
    "jupyter": {
     "outputs_hidden": false
    }
   },
   "outputs": [],
   "source": [
    "# Save the names of the selected features to a file sorted alphabetically in ascending order (space separated)\n",
    "with open(\"output_ds.txt\", \"w\") as f:\n",
    "    f.write(\" \".join(sorted([vocab[i] for i in selected_features])))"
   ]
  },
  {
   "cell_type": "markdown",
   "metadata": {},
   "source": [
    "# Part 3: Text Classification"
   ]
  },
  {
   "cell_type": "code",
   "execution_count": 12,
   "metadata": {
    "ExecuteTime": {
     "end_time": "2023-05-31T21:30:56.941049100Z",
     "start_time": "2023-05-31T21:30:56.863047300Z"
    },
    "tags": []
   },
   "outputs": [],
   "source": [
    "# Split the data into 80% training and 20% test data using a seed of 42\n",
    "training_data, test_data = df.randomSplit([0.8, 0.2], seed=42)"
   ]
  },
  {
   "cell_type": "code",
   "execution_count": 13,
   "metadata": {
    "ExecuteTime": {
     "end_time": "2023-05-31T21:30:56.947048500Z",
     "start_time": "2023-05-31T21:30:56.941049100Z"
    }
   },
   "outputs": [],
   "source": [
    "# Normalize each Vector using $L^2$ norm.\n",
    "normalizer = Normalizer(inputCol=\"features\", outputCol=\"normFeatures\", p=2.0)"
   ]
  },
  {
   "cell_type": "code",
   "execution_count": 14,
   "metadata": {
    "ExecuteTime": {
     "end_time": "2023-05-31T21:30:57.017426500Z",
     "start_time": "2023-05-31T21:30:56.953047400Z"
    },
    "collapsed": false,
    "jupyter": {
     "outputs_hidden": false
    }
   },
   "outputs": [],
   "source": [
    "# Create an SVM classifier using the normalized features and the category index\n",
    "svm = LinearSVC(featuresCol=\"normFeatures\", labelCol=\"categoryIndex\")"
   ]
  },
  {
   "cell_type": "code",
   "execution_count": 15,
   "metadata": {
    "ExecuteTime": {
     "end_time": "2023-05-31T21:30:57.021450900Z",
     "start_time": "2023-05-31T21:30:57.017426500Z"
    },
    "collapsed": false,
    "jupyter": {
     "outputs_hidden": false
    }
   },
   "outputs": [],
   "source": [
    "# Create a one-vs-rest classifier using the SVM classifier\n",
    "ovr = OneVsRest(classifier=svm, featuresCol=\"normFeatures\", labelCol=\"categoryIndex\", parallelism=4)"
   ]
  },
  {
   "cell_type": "code",
   "execution_count": 16,
   "metadata": {
    "ExecuteTime": {
     "end_time": "2023-05-31T21:30:57.066421800Z",
     "start_time": "2023-05-31T21:30:57.022466Z"
    },
    "collapsed": false,
    "jupyter": {
     "outputs_hidden": false
    }
   },
   "outputs": [],
   "source": [
    "# Create a pipeline combining all steps\n",
    "pipeline = Pipeline(stages=[tokenizer, remover, indexer, tf, idf, normalizer, css, ovr])"
   ]
  },
  {
   "cell_type": "code",
   "execution_count": 17,
   "metadata": {
    "ExecuteTime": {
     "end_time": "2023-05-31T21:30:57.084328400Z",
     "start_time": "2023-05-31T21:30:57.061426100Z"
    },
    "collapsed": false,
    "jupyter": {
     "outputs_hidden": false
    }
   },
   "outputs": [],
   "source": [
    "# Create an evaluator using the F1-score metric\n",
    "evaluator = MulticlassClassificationEvaluator(labelCol=\"categoryIndex\", predictionCol=\"prediction\", metricName=\"f1\")"
   ]
  },
  {
   "cell_type": "code",
   "execution_count": 18,
   "metadata": {
    "ExecuteTime": {
     "end_time": "2023-05-31T21:30:57.118493200Z",
     "start_time": "2023-05-31T21:30:57.104466600Z"
    },
    "collapsed": false,
    "jupyter": {
     "outputs_hidden": false
    }
   },
   "outputs": [],
   "source": [
    "# Create a parameter grid for the SVM classifier with the following parameters:\n",
    "# - numTopFeatures: 50, 2000\n",
    "# - regParam: 0.1, 0.01, 0.001\n",
    "# - standardization: True, False\n",
    "# - maxIter: 10, 100\n",
    "param_grid = ParamGridBuilder() \\\n",
    "    .addGrid(css.numTopFeatures, [50, 2000]) \\\n",
    "    .addGrid(svm.regParam, [0.1, 0.01, 0.001]) \\\n",
    "    .addGrid(svm.standardization, [True, False]) \\\n",
    "    .addGrid(svm.maxIter, [10, 100]) \\\n",
    "    .build()"
   ]
  },
  {
   "cell_type": "code",
   "execution_count": 19,
   "metadata": {
    "ExecuteTime": {
     "end_time": "2023-05-31T21:30:57.136471700Z",
     "start_time": "2023-05-31T21:30:57.110472700Z"
    },
    "collapsed": false,
    "jupyter": {
     "outputs_hidden": false
    }
   },
   "outputs": [],
   "source": [
    "# Create a train-validation-split using the pipeline, parameter grid, and evaluator\n",
    "tvs = TrainValidationSplit(estimator=pipeline, estimatorParamMaps=param_grid, evaluator=evaluator, trainRatio=0.8,\n",
    "                           seed=42, parallelism=8, collectSubModels=True)"
   ]
  },
  {
   "cell_type": "code",
   "execution_count": null,
   "metadata": {
    "collapsed": false,
    "is_executing": true,
    "jupyter": {
     "outputs_hidden": false
    }
   },
   "outputs": [],
   "source": [
    "# Fit the train-validation-split to the training data\n",
    "tvs_model = tvs.fit(training_data)"
   ]
  },
  {
   "cell_type": "code",
   "execution_count": null,
   "metadata": {
    "collapsed": false,
    "jupyter": {
     "outputs_hidden": false
    }
   },
   "outputs": [],
   "source": [
    "# Write the entire fitted tvs_model to disk\n",
    "tvs_model.write().overwrite().save(\"tvs_model\")"
   ]
  },
  {
   "cell_type": "code",
   "execution_count": 20,
   "metadata": {
    "ExecuteTime": {
     "end_time": "2023-05-31T21:35:33.500569600Z",
     "start_time": "2023-05-31T21:30:57.130472200Z"
    },
    "collapsed": false
   },
   "outputs": [
    {
     "name": "stderr",
     "output_type": "stream",
     "text": [
      "                                                                                \r"
     ]
    }
   ],
   "source": [
    "# Load the fitted tvs_model from disk\n",
    "tvs_model = TrainValidationSplitModel.load(\"tvs_model\")"
   ]
  },
  {
   "cell_type": "code",
   "execution_count": 21,
   "metadata": {
    "ExecuteTime": {
     "end_time": "2023-05-31T21:35:41.364872300Z",
     "start_time": "2023-05-31T21:35:33.502710400Z"
    },
    "collapsed": false,
    "jupyter": {
     "outputs_hidden": false
    }
   },
   "outputs": [],
   "source": [
    "# Make predictions on the test data\n",
    "predictions = tvs_model.transform(test_data)"
   ]
  },
  {
   "cell_type": "code",
   "execution_count": 22,
   "metadata": {
    "ExecuteTime": {
     "end_time": "2023-05-31T21:36:05.894371400Z",
     "start_time": "2023-05-31T21:35:41.367897700Z"
    },
    "collapsed": false
   },
   "outputs": [
    {
     "name": "stderr",
     "output_type": "stream",
     "text": [
      "                                                                                \r"
     ]
    },
    {
     "data": {
      "text/plain": [
       "0.6045748716264853"
      ]
     },
     "execution_count": 22,
     "metadata": {},
     "output_type": "execute_result"
    }
   ],
   "source": [
    "# Compute the micro-averaged F1-score for the predictions\n",
    "evaluator.evaluate(predictions)"
   ]
  },
  {
   "cell_type": "code",
   "execution_count": 23,
   "metadata": {
    "ExecuteTime": {
     "end_time": "2023-05-31T21:36:05.899371600Z",
     "start_time": "2023-05-31T21:36:05.895367300Z"
    },
    "collapsed": false
   },
   "outputs": [],
   "source": [
    "# Retrieve the validation metrics for each model trained in the train-validation-split\n",
    "results = tvs_model.validationMetrics"
   ]
  },
  {
   "cell_type": "code",
   "execution_count": 24,
   "metadata": {
    "ExecuteTime": {
     "end_time": "2023-05-31T21:36:05.991204100Z",
     "start_time": "2023-05-31T21:36:05.903371700Z"
    },
    "collapsed": false
   },
   "outputs": [
    {
     "data": {
      "text/html": [
       "<div>\n",
       "<style scoped>\n",
       "    .dataframe tbody tr th:only-of-type {\n",
       "        vertical-align: middle;\n",
       "    }\n",
       "\n",
       "    .dataframe tbody tr th {\n",
       "        vertical-align: top;\n",
       "    }\n",
       "\n",
       "    .dataframe thead th {\n",
       "        text-align: right;\n",
       "    }\n",
       "</style>\n",
       "<table border=\"1\" class=\"dataframe\">\n",
       "  <thead>\n",
       "    <tr style=\"text-align: right;\">\n",
       "      <th></th>\n",
       "      <th>numTopFeatures</th>\n",
       "      <th>regParam</th>\n",
       "      <th>standardization</th>\n",
       "      <th>maxIter</th>\n",
       "      <th>Evaluation Metric</th>\n",
       "    </tr>\n",
       "  </thead>\n",
       "  <tbody>\n",
       "    <tr>\n",
       "      <th>0</th>\n",
       "      <td>50</td>\n",
       "      <td>0.1</td>\n",
       "      <td>True</td>\n",
       "      <td>10</td>\n",
       "      <td>0.5819229493156207</td>\n",
       "    </tr>\n",
       "    <tr>\n",
       "      <th>1</th>\n",
       "      <td>50</td>\n",
       "      <td>0.1</td>\n",
       "      <td>True</td>\n",
       "      <td>100</td>\n",
       "      <td>0.5986381683598597</td>\n",
       "    </tr>\n",
       "    <tr>\n",
       "      <th>2</th>\n",
       "      <td>50</td>\n",
       "      <td>0.1</td>\n",
       "      <td>False</td>\n",
       "      <td>10</td>\n",
       "      <td>0.2246326892778781</td>\n",
       "    </tr>\n",
       "    <tr>\n",
       "      <th>3</th>\n",
       "      <td>50</td>\n",
       "      <td>0.1</td>\n",
       "      <td>False</td>\n",
       "      <td>100</td>\n",
       "      <td>0.5315731057698442</td>\n",
       "    </tr>\n",
       "    <tr>\n",
       "      <th>4</th>\n",
       "      <td>50</td>\n",
       "      <td>0.01</td>\n",
       "      <td>True</td>\n",
       "      <td>10</td>\n",
       "      <td>0.5820901461374169</td>\n",
       "    </tr>\n",
       "    <tr>\n",
       "      <th>5</th>\n",
       "      <td>50</td>\n",
       "      <td>0.01</td>\n",
       "      <td>True</td>\n",
       "      <td>100</td>\n",
       "      <td>0.5847428310202759</td>\n",
       "    </tr>\n",
       "    <tr>\n",
       "      <th>6</th>\n",
       "      <td>50</td>\n",
       "      <td>0.01</td>\n",
       "      <td>False</td>\n",
       "      <td>10</td>\n",
       "      <td>0.2251149643245378</td>\n",
       "    </tr>\n",
       "    <tr>\n",
       "      <th>7</th>\n",
       "      <td>50</td>\n",
       "      <td>0.01</td>\n",
       "      <td>False</td>\n",
       "      <td>100</td>\n",
       "      <td>0.5321925656014915</td>\n",
       "    </tr>\n",
       "    <tr>\n",
       "      <th>8</th>\n",
       "      <td>50</td>\n",
       "      <td>0.001</td>\n",
       "      <td>True</td>\n",
       "      <td>10</td>\n",
       "      <td>0.5788854651035343</td>\n",
       "    </tr>\n",
       "    <tr>\n",
       "      <th>9</th>\n",
       "      <td>50</td>\n",
       "      <td>0.001</td>\n",
       "      <td>True</td>\n",
       "      <td>100</td>\n",
       "      <td>0.5600604477127051</td>\n",
       "    </tr>\n",
       "    <tr>\n",
       "      <th>10</th>\n",
       "      <td>50</td>\n",
       "      <td>0.001</td>\n",
       "      <td>False</td>\n",
       "      <td>10</td>\n",
       "      <td>0.3105719993622409</td>\n",
       "    </tr>\n",
       "    <tr>\n",
       "      <th>11</th>\n",
       "      <td>50</td>\n",
       "      <td>0.001</td>\n",
       "      <td>False</td>\n",
       "      <td>100</td>\n",
       "      <td>0.5370540692140691</td>\n",
       "    </tr>\n",
       "    <tr>\n",
       "      <th>12</th>\n",
       "      <td>2000</td>\n",
       "      <td>0.1</td>\n",
       "      <td>True</td>\n",
       "      <td>10</td>\n",
       "      <td>0.5819229493156207</td>\n",
       "    </tr>\n",
       "    <tr>\n",
       "      <th>13</th>\n",
       "      <td>2000</td>\n",
       "      <td>0.1</td>\n",
       "      <td>True</td>\n",
       "      <td>100</td>\n",
       "      <td>0.5984936410926261</td>\n",
       "    </tr>\n",
       "    <tr>\n",
       "      <th>14</th>\n",
       "      <td>2000</td>\n",
       "      <td>0.1</td>\n",
       "      <td>False</td>\n",
       "      <td>10</td>\n",
       "      <td>0.2246326892778781</td>\n",
       "    </tr>\n",
       "    <tr>\n",
       "      <th>15</th>\n",
       "      <td>2000</td>\n",
       "      <td>0.1</td>\n",
       "      <td>False</td>\n",
       "      <td>100</td>\n",
       "      <td>0.5316636476177978</td>\n",
       "    </tr>\n",
       "    <tr>\n",
       "      <th>16</th>\n",
       "      <td>2000</td>\n",
       "      <td>0.01</td>\n",
       "      <td>True</td>\n",
       "      <td>10</td>\n",
       "      <td>0.5820901461374169</td>\n",
       "    </tr>\n",
       "    <tr>\n",
       "      <th>17</th>\n",
       "      <td>2000</td>\n",
       "      <td>0.01</td>\n",
       "      <td>True</td>\n",
       "      <td>100</td>\n",
       "      <td>0.5847428310202759</td>\n",
       "    </tr>\n",
       "    <tr>\n",
       "      <th>18</th>\n",
       "      <td>2000</td>\n",
       "      <td>0.01</td>\n",
       "      <td>False</td>\n",
       "      <td>10</td>\n",
       "      <td>0.2251149643245378</td>\n",
       "    </tr>\n",
       "    <tr>\n",
       "      <th>19</th>\n",
       "      <td>2000</td>\n",
       "      <td>0.01</td>\n",
       "      <td>False</td>\n",
       "      <td>100</td>\n",
       "      <td>0.5321956439198107</td>\n",
       "    </tr>\n",
       "    <tr>\n",
       "      <th>20</th>\n",
       "      <td>2000</td>\n",
       "      <td>0.001</td>\n",
       "      <td>True</td>\n",
       "      <td>10</td>\n",
       "      <td>0.5788854651035343</td>\n",
       "    </tr>\n",
       "    <tr>\n",
       "      <th>21</th>\n",
       "      <td>2000</td>\n",
       "      <td>0.001</td>\n",
       "      <td>True</td>\n",
       "      <td>100</td>\n",
       "      <td>0.5602350764154308</td>\n",
       "    </tr>\n",
       "    <tr>\n",
       "      <th>22</th>\n",
       "      <td>2000</td>\n",
       "      <td>0.001</td>\n",
       "      <td>False</td>\n",
       "      <td>10</td>\n",
       "      <td>0.3105719993622409</td>\n",
       "    </tr>\n",
       "    <tr>\n",
       "      <th>23</th>\n",
       "      <td>2000</td>\n",
       "      <td>0.001</td>\n",
       "      <td>False</td>\n",
       "      <td>100</td>\n",
       "      <td>0.5369471246616051</td>\n",
       "    </tr>\n",
       "  </tbody>\n",
       "</table>\n",
       "</div>"
      ],
      "text/plain": [
       "    numTopFeatures  regParam  standardization  maxIter  Evaluation Metric\n",
       "0               50       0.1             True       10 0.5819229493156207\n",
       "1               50       0.1             True      100 0.5986381683598597\n",
       "2               50       0.1            False       10 0.2246326892778781\n",
       "3               50       0.1            False      100 0.5315731057698442\n",
       "4               50      0.01             True       10 0.5820901461374169\n",
       "5               50      0.01             True      100 0.5847428310202759\n",
       "6               50      0.01            False       10 0.2251149643245378\n",
       "7               50      0.01            False      100 0.5321925656014915\n",
       "8               50     0.001             True       10 0.5788854651035343\n",
       "9               50     0.001             True      100 0.5600604477127051\n",
       "10              50     0.001            False       10 0.3105719993622409\n",
       "11              50     0.001            False      100 0.5370540692140691\n",
       "12            2000       0.1             True       10 0.5819229493156207\n",
       "13            2000       0.1             True      100 0.5984936410926261\n",
       "14            2000       0.1            False       10 0.2246326892778781\n",
       "15            2000       0.1            False      100 0.5316636476177978\n",
       "16            2000      0.01             True       10 0.5820901461374169\n",
       "17            2000      0.01             True      100 0.5847428310202759\n",
       "18            2000      0.01            False       10 0.2251149643245378\n",
       "19            2000      0.01            False      100 0.5321956439198107\n",
       "20            2000     0.001             True       10 0.5788854651035343\n",
       "21            2000     0.001             True      100 0.5602350764154308\n",
       "22            2000     0.001            False       10 0.3105719993622409\n",
       "23            2000     0.001            False      100 0.5369471246616051"
      ]
     },
     "execution_count": 24,
     "metadata": {},
     "output_type": "execute_result"
    }
   ],
   "source": [
    "# Create a dictionary with the parameter values and validation metrics for each model trained in the train-validation-split\n",
    "data = {}\n",
    "\n",
    "# Iterate over the parameter grid's parameter values and validation metrics\n",
    "for i, params in enumerate(param_grid):\n",
    "    # Iterate over the parameters in the parameter grid\n",
    "    for param_key, param_value in params.items():\n",
    "        # Add the parameter value to the dictionary\n",
    "        data.setdefault(param_key.name, []).append(param_value)\n",
    "    # Add the validation metric to the dictionary\n",
    "    data.setdefault(\"Evaluation Metric\", []).append(results[i])\n",
    "\n",
    "# Set the display options for Pandas\n",
    "pd.set_option('display.float_format', '{:.16g}'.format)\n",
    "\n",
    "# Create a DataFrame from the dictionary\n",
    "pd.DataFrame(data)"
   ]
  },
  {
   "cell_type": "code",
   "execution_count": 25,
   "metadata": {
    "ExecuteTime": {
     "end_time": "2023-05-31T21:36:07.199056500Z",
     "start_time": "2023-05-31T21:36:05.934203100Z"
    },
    "collapsed": false,
    "jupyter": {
     "outputs_hidden": false
    }
   },
   "outputs": [
    {
     "name": "stderr",
     "output_type": "stream",
     "text": [
      "                                                                                \r"
     ]
    }
   ],
   "source": [
    "# Create a list of category names sorted alphabetically in ascending order\n",
    "category_names = sorted([row[\"category\"] for row in df.select(\"category\").distinct().collect()])"
   ]
  },
  {
   "cell_type": "code",
   "execution_count": 26,
   "metadata": {
    "ExecuteTime": {
     "end_time": "2023-05-31T21:36:07.210505Z",
     "start_time": "2023-05-31T21:36:07.202054900Z"
    },
    "collapsed": false
   },
   "outputs": [],
   "source": [
    "# Get the number of categories\n",
    "num_classes = len(category_names)"
   ]
  },
  {
   "cell_type": "code",
   "execution_count": 27,
   "metadata": {
    "ExecuteTime": {
     "end_time": "2023-05-31T21:36:13.733279700Z",
     "start_time": "2023-05-31T21:36:07.210505Z"
    },
    "collapsed": false
   },
   "outputs": [
    {
     "name": "stderr",
     "output_type": "stream",
     "text": [
      "/usr/lib/spark/python/pyspark/sql/context.py:125: FutureWarning: Deprecated in 3.0.0. Use SparkSession.builder.getOrCreate() instead.\n",
      "  warnings.warn(\n",
      "                                                                                \r"
     ]
    }
   ],
   "source": [
    "# Calculate multiclass metrics for the test data\n",
    "metrics = MulticlassMetrics(predictions.select(\"prediction\", \"categoryIndex\").rdd)"
   ]
  },
  {
   "cell_type": "code",
   "execution_count": 28,
   "metadata": {
    "ExecuteTime": {
     "end_time": "2023-05-31T21:36:20.319189300Z",
     "start_time": "2023-05-31T21:36:13.733279700Z"
    },
    "collapsed": false
   },
   "outputs": [
    {
     "name": "stderr",
     "output_type": "stream",
     "text": [
      "                                                                                \r"
     ]
    },
    {
     "data": {
      "text/html": [
       "<div>\n",
       "<style scoped>\n",
       "    .dataframe tbody tr th:only-of-type {\n",
       "        vertical-align: middle;\n",
       "    }\n",
       "\n",
       "    .dataframe tbody tr th {\n",
       "        vertical-align: top;\n",
       "    }\n",
       "\n",
       "    .dataframe thead th {\n",
       "        text-align: right;\n",
       "    }\n",
       "</style>\n",
       "<table border=\"1\" class=\"dataframe\">\n",
       "  <thead>\n",
       "    <tr style=\"text-align: right;\">\n",
       "      <th></th>\n",
       "      <th>Apps_for_Android</th>\n",
       "      <th>Automotive</th>\n",
       "      <th>Baby</th>\n",
       "      <th>Beauty</th>\n",
       "      <th>Book</th>\n",
       "      <th>CDs_and_Vinyl</th>\n",
       "      <th>Cell_Phones_and_Accessorie</th>\n",
       "      <th>Clothing_Shoes_and_Jewelry</th>\n",
       "      <th>Digital_Music</th>\n",
       "      <th>Electronic</th>\n",
       "      <th>...</th>\n",
       "      <th>Home_and_Kitche</th>\n",
       "      <th>Kindle_Store</th>\n",
       "      <th>Movies_and_TV</th>\n",
       "      <th>Musical_Instrument</th>\n",
       "      <th>Office_Product</th>\n",
       "      <th>Patio_Lawn_and_Garde</th>\n",
       "      <th>Pet_Supplie</th>\n",
       "      <th>Sports_and_Outdoor</th>\n",
       "      <th>Tools_and_Home_Improvement</th>\n",
       "      <th>Toys_and_Game</th>\n",
       "    </tr>\n",
       "  </thead>\n",
       "  <tbody>\n",
       "    <tr>\n",
       "      <th>Apps_for_Android</th>\n",
       "      <td>303</td>\n",
       "      <td>2</td>\n",
       "      <td>2</td>\n",
       "      <td>1</td>\n",
       "      <td>111</td>\n",
       "      <td>9</td>\n",
       "      <td>9</td>\n",
       "      <td>5</td>\n",
       "      <td>1</td>\n",
       "      <td>50</td>\n",
       "      <td>...</td>\n",
       "      <td>6</td>\n",
       "      <td>12</td>\n",
       "      <td>15</td>\n",
       "      <td>0</td>\n",
       "      <td>3</td>\n",
       "      <td>4</td>\n",
       "      <td>3</td>\n",
       "      <td>7</td>\n",
       "      <td>6</td>\n",
       "      <td>13</td>\n",
       "    </tr>\n",
       "    <tr>\n",
       "      <th>Automotive</th>\n",
       "      <td>4</td>\n",
       "      <td>104</td>\n",
       "      <td>1</td>\n",
       "      <td>2</td>\n",
       "      <td>16</td>\n",
       "      <td>0</td>\n",
       "      <td>10</td>\n",
       "      <td>21</td>\n",
       "      <td>0</td>\n",
       "      <td>41</td>\n",
       "      <td>...</td>\n",
       "      <td>17</td>\n",
       "      <td>1</td>\n",
       "      <td>7</td>\n",
       "      <td>0</td>\n",
       "      <td>1</td>\n",
       "      <td>6</td>\n",
       "      <td>3</td>\n",
       "      <td>16</td>\n",
       "      <td>16</td>\n",
       "      <td>1</td>\n",
       "    </tr>\n",
       "    <tr>\n",
       "      <th>Baby</th>\n",
       "      <td>3</td>\n",
       "      <td>6</td>\n",
       "      <td>78</td>\n",
       "      <td>3</td>\n",
       "      <td>10</td>\n",
       "      <td>1</td>\n",
       "      <td>2</td>\n",
       "      <td>9</td>\n",
       "      <td>0</td>\n",
       "      <td>15</td>\n",
       "      <td>...</td>\n",
       "      <td>20</td>\n",
       "      <td>0</td>\n",
       "      <td>1</td>\n",
       "      <td>0</td>\n",
       "      <td>0</td>\n",
       "      <td>2</td>\n",
       "      <td>3</td>\n",
       "      <td>9</td>\n",
       "      <td>6</td>\n",
       "      <td>17</td>\n",
       "    </tr>\n",
       "    <tr>\n",
       "      <th>Beauty</th>\n",
       "      <td>2</td>\n",
       "      <td>5</td>\n",
       "      <td>1</td>\n",
       "      <td>231</td>\n",
       "      <td>30</td>\n",
       "      <td>2</td>\n",
       "      <td>14</td>\n",
       "      <td>23</td>\n",
       "      <td>2</td>\n",
       "      <td>18</td>\n",
       "      <td>...</td>\n",
       "      <td>12</td>\n",
       "      <td>4</td>\n",
       "      <td>4</td>\n",
       "      <td>1</td>\n",
       "      <td>1</td>\n",
       "      <td>1</td>\n",
       "      <td>3</td>\n",
       "      <td>11</td>\n",
       "      <td>3</td>\n",
       "      <td>2</td>\n",
       "    </tr>\n",
       "    <tr>\n",
       "      <th>Book</th>\n",
       "      <td>39</td>\n",
       "      <td>6</td>\n",
       "      <td>2</td>\n",
       "      <td>6</td>\n",
       "      <td>3917</td>\n",
       "      <td>42</td>\n",
       "      <td>7</td>\n",
       "      <td>26</td>\n",
       "      <td>7</td>\n",
       "      <td>37</td>\n",
       "      <td>...</td>\n",
       "      <td>23</td>\n",
       "      <td>121</td>\n",
       "      <td>101</td>\n",
       "      <td>4</td>\n",
       "      <td>6</td>\n",
       "      <td>8</td>\n",
       "      <td>6</td>\n",
       "      <td>27</td>\n",
       "      <td>6</td>\n",
       "      <td>34</td>\n",
       "    </tr>\n",
       "    <tr>\n",
       "      <th>CDs_and_Vinyl</th>\n",
       "      <td>6</td>\n",
       "      <td>1</td>\n",
       "      <td>2</td>\n",
       "      <td>2</td>\n",
       "      <td>94</td>\n",
       "      <td>504</td>\n",
       "      <td>3</td>\n",
       "      <td>11</td>\n",
       "      <td>27</td>\n",
       "      <td>10</td>\n",
       "      <td>...</td>\n",
       "      <td>4</td>\n",
       "      <td>4</td>\n",
       "      <td>46</td>\n",
       "      <td>2</td>\n",
       "      <td>0</td>\n",
       "      <td>2</td>\n",
       "      <td>0</td>\n",
       "      <td>1</td>\n",
       "      <td>0</td>\n",
       "      <td>2</td>\n",
       "    </tr>\n",
       "    <tr>\n",
       "      <th>Cell_Phones_and_Accessorie</th>\n",
       "      <td>13</td>\n",
       "      <td>8</td>\n",
       "      <td>1</td>\n",
       "      <td>11</td>\n",
       "      <td>36</td>\n",
       "      <td>1</td>\n",
       "      <td>368</td>\n",
       "      <td>52</td>\n",
       "      <td>1</td>\n",
       "      <td>149</td>\n",
       "      <td>...</td>\n",
       "      <td>6</td>\n",
       "      <td>1</td>\n",
       "      <td>4</td>\n",
       "      <td>1</td>\n",
       "      <td>7</td>\n",
       "      <td>2</td>\n",
       "      <td>2</td>\n",
       "      <td>16</td>\n",
       "      <td>9</td>\n",
       "      <td>7</td>\n",
       "    </tr>\n",
       "    <tr>\n",
       "      <th>Clothing_Shoes_and_Jewelry</th>\n",
       "      <td>6</td>\n",
       "      <td>7</td>\n",
       "      <td>8</td>\n",
       "      <td>14</td>\n",
       "      <td>46</td>\n",
       "      <td>4</td>\n",
       "      <td>21</td>\n",
       "      <td>849</td>\n",
       "      <td>5</td>\n",
       "      <td>32</td>\n",
       "      <td>...</td>\n",
       "      <td>15</td>\n",
       "      <td>2</td>\n",
       "      <td>6</td>\n",
       "      <td>2</td>\n",
       "      <td>3</td>\n",
       "      <td>1</td>\n",
       "      <td>3</td>\n",
       "      <td>57</td>\n",
       "      <td>5</td>\n",
       "      <td>13</td>\n",
       "    </tr>\n",
       "    <tr>\n",
       "      <th>Digital_Music</th>\n",
       "      <td>5</td>\n",
       "      <td>1</td>\n",
       "      <td>0</td>\n",
       "      <td>0</td>\n",
       "      <td>30</td>\n",
       "      <td>105</td>\n",
       "      <td>2</td>\n",
       "      <td>0</td>\n",
       "      <td>11</td>\n",
       "      <td>6</td>\n",
       "      <td>...</td>\n",
       "      <td>3</td>\n",
       "      <td>3</td>\n",
       "      <td>8</td>\n",
       "      <td>0</td>\n",
       "      <td>1</td>\n",
       "      <td>0</td>\n",
       "      <td>0</td>\n",
       "      <td>0</td>\n",
       "      <td>2</td>\n",
       "      <td>0</td>\n",
       "    </tr>\n",
       "    <tr>\n",
       "      <th>Electronic</th>\n",
       "      <td>20</td>\n",
       "      <td>22</td>\n",
       "      <td>6</td>\n",
       "      <td>7</td>\n",
       "      <td>75</td>\n",
       "      <td>9</td>\n",
       "      <td>125</td>\n",
       "      <td>43</td>\n",
       "      <td>2</td>\n",
       "      <td>1110</td>\n",
       "      <td>...</td>\n",
       "      <td>24</td>\n",
       "      <td>5</td>\n",
       "      <td>19</td>\n",
       "      <td>3</td>\n",
       "      <td>12</td>\n",
       "      <td>3</td>\n",
       "      <td>3</td>\n",
       "      <td>25</td>\n",
       "      <td>29</td>\n",
       "      <td>8</td>\n",
       "    </tr>\n",
       "    <tr>\n",
       "      <th>Grocery_and_Gourmet_Food</th>\n",
       "      <td>4</td>\n",
       "      <td>2</td>\n",
       "      <td>1</td>\n",
       "      <td>4</td>\n",
       "      <td>34</td>\n",
       "      <td>0</td>\n",
       "      <td>5</td>\n",
       "      <td>5</td>\n",
       "      <td>0</td>\n",
       "      <td>4</td>\n",
       "      <td>...</td>\n",
       "      <td>25</td>\n",
       "      <td>1</td>\n",
       "      <td>4</td>\n",
       "      <td>1</td>\n",
       "      <td>1</td>\n",
       "      <td>3</td>\n",
       "      <td>1</td>\n",
       "      <td>1</td>\n",
       "      <td>0</td>\n",
       "      <td>1</td>\n",
       "    </tr>\n",
       "    <tr>\n",
       "      <th>Health_and_Personal_Care</th>\n",
       "      <td>6</td>\n",
       "      <td>4</td>\n",
       "      <td>2</td>\n",
       "      <td>47</td>\n",
       "      <td>55</td>\n",
       "      <td>2</td>\n",
       "      <td>13</td>\n",
       "      <td>44</td>\n",
       "      <td>1</td>\n",
       "      <td>41</td>\n",
       "      <td>...</td>\n",
       "      <td>38</td>\n",
       "      <td>6</td>\n",
       "      <td>7</td>\n",
       "      <td>0</td>\n",
       "      <td>1</td>\n",
       "      <td>4</td>\n",
       "      <td>7</td>\n",
       "      <td>30</td>\n",
       "      <td>20</td>\n",
       "      <td>6</td>\n",
       "    </tr>\n",
       "    <tr>\n",
       "      <th>Home_and_Kitche</th>\n",
       "      <td>4</td>\n",
       "      <td>5</td>\n",
       "      <td>6</td>\n",
       "      <td>7</td>\n",
       "      <td>44</td>\n",
       "      <td>1</td>\n",
       "      <td>20</td>\n",
       "      <td>43</td>\n",
       "      <td>3</td>\n",
       "      <td>33</td>\n",
       "      <td>...</td>\n",
       "      <td>487</td>\n",
       "      <td>2</td>\n",
       "      <td>10</td>\n",
       "      <td>2</td>\n",
       "      <td>2</td>\n",
       "      <td>9</td>\n",
       "      <td>6</td>\n",
       "      <td>26</td>\n",
       "      <td>23</td>\n",
       "      <td>24</td>\n",
       "    </tr>\n",
       "    <tr>\n",
       "      <th>Kindle_Store</th>\n",
       "      <td>9</td>\n",
       "      <td>1</td>\n",
       "      <td>0</td>\n",
       "      <td>2</td>\n",
       "      <td>559</td>\n",
       "      <td>5</td>\n",
       "      <td>6</td>\n",
       "      <td>5</td>\n",
       "      <td>1</td>\n",
       "      <td>10</td>\n",
       "      <td>...</td>\n",
       "      <td>6</td>\n",
       "      <td>38</td>\n",
       "      <td>20</td>\n",
       "      <td>0</td>\n",
       "      <td>0</td>\n",
       "      <td>0</td>\n",
       "      <td>1</td>\n",
       "      <td>2</td>\n",
       "      <td>1</td>\n",
       "      <td>3</td>\n",
       "    </tr>\n",
       "    <tr>\n",
       "      <th>Movies_and_TV</th>\n",
       "      <td>9</td>\n",
       "      <td>2</td>\n",
       "      <td>1</td>\n",
       "      <td>1</td>\n",
       "      <td>229</td>\n",
       "      <td>43</td>\n",
       "      <td>4</td>\n",
       "      <td>13</td>\n",
       "      <td>2</td>\n",
       "      <td>17</td>\n",
       "      <td>...</td>\n",
       "      <td>3</td>\n",
       "      <td>18</td>\n",
       "      <td>534</td>\n",
       "      <td>1</td>\n",
       "      <td>1</td>\n",
       "      <td>0</td>\n",
       "      <td>0</td>\n",
       "      <td>3</td>\n",
       "      <td>0</td>\n",
       "      <td>11</td>\n",
       "    </tr>\n",
       "    <tr>\n",
       "      <th>Musical_Instrument</th>\n",
       "      <td>2</td>\n",
       "      <td>0</td>\n",
       "      <td>0</td>\n",
       "      <td>1</td>\n",
       "      <td>7</td>\n",
       "      <td>4</td>\n",
       "      <td>2</td>\n",
       "      <td>7</td>\n",
       "      <td>0</td>\n",
       "      <td>25</td>\n",
       "      <td>...</td>\n",
       "      <td>7</td>\n",
       "      <td>0</td>\n",
       "      <td>1</td>\n",
       "      <td>26</td>\n",
       "      <td>0</td>\n",
       "      <td>0</td>\n",
       "      <td>0</td>\n",
       "      <td>4</td>\n",
       "      <td>6</td>\n",
       "      <td>5</td>\n",
       "    </tr>\n",
       "    <tr>\n",
       "      <th>Office_Product</th>\n",
       "      <td>1</td>\n",
       "      <td>0</td>\n",
       "      <td>1</td>\n",
       "      <td>4</td>\n",
       "      <td>36</td>\n",
       "      <td>0</td>\n",
       "      <td>6</td>\n",
       "      <td>9</td>\n",
       "      <td>0</td>\n",
       "      <td>54</td>\n",
       "      <td>...</td>\n",
       "      <td>13</td>\n",
       "      <td>1</td>\n",
       "      <td>5</td>\n",
       "      <td>0</td>\n",
       "      <td>86</td>\n",
       "      <td>1</td>\n",
       "      <td>2</td>\n",
       "      <td>11</td>\n",
       "      <td>6</td>\n",
       "      <td>9</td>\n",
       "    </tr>\n",
       "    <tr>\n",
       "      <th>Patio_Lawn_and_Garde</th>\n",
       "      <td>1</td>\n",
       "      <td>7</td>\n",
       "      <td>3</td>\n",
       "      <td>0</td>\n",
       "      <td>20</td>\n",
       "      <td>1</td>\n",
       "      <td>2</td>\n",
       "      <td>8</td>\n",
       "      <td>0</td>\n",
       "      <td>16</td>\n",
       "      <td>...</td>\n",
       "      <td>13</td>\n",
       "      <td>2</td>\n",
       "      <td>5</td>\n",
       "      <td>1</td>\n",
       "      <td>1</td>\n",
       "      <td>74</td>\n",
       "      <td>8</td>\n",
       "      <td>21</td>\n",
       "      <td>11</td>\n",
       "      <td>3</td>\n",
       "    </tr>\n",
       "    <tr>\n",
       "      <th>Pet_Supplie</th>\n",
       "      <td>2</td>\n",
       "      <td>1</td>\n",
       "      <td>6</td>\n",
       "      <td>2</td>\n",
       "      <td>21</td>\n",
       "      <td>1</td>\n",
       "      <td>6</td>\n",
       "      <td>11</td>\n",
       "      <td>1</td>\n",
       "      <td>7</td>\n",
       "      <td>...</td>\n",
       "      <td>13</td>\n",
       "      <td>3</td>\n",
       "      <td>3</td>\n",
       "      <td>0</td>\n",
       "      <td>0</td>\n",
       "      <td>7</td>\n",
       "      <td>137</td>\n",
       "      <td>9</td>\n",
       "      <td>6</td>\n",
       "      <td>6</td>\n",
       "    </tr>\n",
       "    <tr>\n",
       "      <th>Sports_and_Outdoor</th>\n",
       "      <td>7</td>\n",
       "      <td>18</td>\n",
       "      <td>9</td>\n",
       "      <td>8</td>\n",
       "      <td>48</td>\n",
       "      <td>6</td>\n",
       "      <td>22</td>\n",
       "      <td>130</td>\n",
       "      <td>0</td>\n",
       "      <td>37</td>\n",
       "      <td>...</td>\n",
       "      <td>33</td>\n",
       "      <td>1</td>\n",
       "      <td>13</td>\n",
       "      <td>2</td>\n",
       "      <td>5</td>\n",
       "      <td>6</td>\n",
       "      <td>6</td>\n",
       "      <td>238</td>\n",
       "      <td>37</td>\n",
       "      <td>21</td>\n",
       "    </tr>\n",
       "    <tr>\n",
       "      <th>Tools_and_Home_Improvement</th>\n",
       "      <td>2</td>\n",
       "      <td>12</td>\n",
       "      <td>5</td>\n",
       "      <td>8</td>\n",
       "      <td>30</td>\n",
       "      <td>0</td>\n",
       "      <td>10</td>\n",
       "      <td>17</td>\n",
       "      <td>2</td>\n",
       "      <td>38</td>\n",
       "      <td>...</td>\n",
       "      <td>28</td>\n",
       "      <td>0</td>\n",
       "      <td>4</td>\n",
       "      <td>0</td>\n",
       "      <td>4</td>\n",
       "      <td>7</td>\n",
       "      <td>2</td>\n",
       "      <td>23</td>\n",
       "      <td>130</td>\n",
       "      <td>8</td>\n",
       "    </tr>\n",
       "    <tr>\n",
       "      <th>Toys_and_Game</th>\n",
       "      <td>20</td>\n",
       "      <td>6</td>\n",
       "      <td>11</td>\n",
       "      <td>3</td>\n",
       "      <td>53</td>\n",
       "      <td>2</td>\n",
       "      <td>11</td>\n",
       "      <td>36</td>\n",
       "      <td>1</td>\n",
       "      <td>25</td>\n",
       "      <td>...</td>\n",
       "      <td>15</td>\n",
       "      <td>5</td>\n",
       "      <td>10</td>\n",
       "      <td>1</td>\n",
       "      <td>2</td>\n",
       "      <td>6</td>\n",
       "      <td>5</td>\n",
       "      <td>22</td>\n",
       "      <td>4</td>\n",
       "      <td>188</td>\n",
       "    </tr>\n",
       "  </tbody>\n",
       "</table>\n",
       "<p>22 rows × 22 columns</p>\n",
       "</div>"
      ],
      "text/plain": [
       "                            Apps_for_Android  Automotive  Baby  Beauty  Book  \\\n",
       "Apps_for_Android                         303           2     2       1   111   \n",
       "Automotive                                 4         104     1       2    16   \n",
       "Baby                                       3           6    78       3    10   \n",
       "Beauty                                     2           5     1     231    30   \n",
       "Book                                      39           6     2       6  3917   \n",
       "CDs_and_Vinyl                              6           1     2       2    94   \n",
       "Cell_Phones_and_Accessorie                13           8     1      11    36   \n",
       "Clothing_Shoes_and_Jewelry                 6           7     8      14    46   \n",
       "Digital_Music                              5           1     0       0    30   \n",
       "Electronic                                20          22     6       7    75   \n",
       "Grocery_and_Gourmet_Food                   4           2     1       4    34   \n",
       "Health_and_Personal_Care                   6           4     2      47    55   \n",
       "Home_and_Kitche                            4           5     6       7    44   \n",
       "Kindle_Store                               9           1     0       2   559   \n",
       "Movies_and_TV                              9           2     1       1   229   \n",
       "Musical_Instrument                         2           0     0       1     7   \n",
       "Office_Product                             1           0     1       4    36   \n",
       "Patio_Lawn_and_Garde                       1           7     3       0    20   \n",
       "Pet_Supplie                                2           1     6       2    21   \n",
       "Sports_and_Outdoor                         7          18     9       8    48   \n",
       "Tools_and_Home_Improvement                 2          12     5       8    30   \n",
       "Toys_and_Game                             20           6    11       3    53   \n",
       "\n",
       "                            CDs_and_Vinyl  Cell_Phones_and_Accessorie  \\\n",
       "Apps_for_Android                        9                           9   \n",
       "Automotive                              0                          10   \n",
       "Baby                                    1                           2   \n",
       "Beauty                                  2                          14   \n",
       "Book                                   42                           7   \n",
       "CDs_and_Vinyl                         504                           3   \n",
       "Cell_Phones_and_Accessorie              1                         368   \n",
       "Clothing_Shoes_and_Jewelry              4                          21   \n",
       "Digital_Music                         105                           2   \n",
       "Electronic                              9                         125   \n",
       "Grocery_and_Gourmet_Food                0                           5   \n",
       "Health_and_Personal_Care                2                          13   \n",
       "Home_and_Kitche                         1                          20   \n",
       "Kindle_Store                            5                           6   \n",
       "Movies_and_TV                          43                           4   \n",
       "Musical_Instrument                      4                           2   \n",
       "Office_Product                          0                           6   \n",
       "Patio_Lawn_and_Garde                    1                           2   \n",
       "Pet_Supplie                             1                           6   \n",
       "Sports_and_Outdoor                      6                          22   \n",
       "Tools_and_Home_Improvement              0                          10   \n",
       "Toys_and_Game                           2                          11   \n",
       "\n",
       "                            Clothing_Shoes_and_Jewelry  Digital_Music  \\\n",
       "Apps_for_Android                                     5              1   \n",
       "Automotive                                          21              0   \n",
       "Baby                                                 9              0   \n",
       "Beauty                                              23              2   \n",
       "Book                                                26              7   \n",
       "CDs_and_Vinyl                                       11             27   \n",
       "Cell_Phones_and_Accessorie                          52              1   \n",
       "Clothing_Shoes_and_Jewelry                         849              5   \n",
       "Digital_Music                                        0             11   \n",
       "Electronic                                          43              2   \n",
       "Grocery_and_Gourmet_Food                             5              0   \n",
       "Health_and_Personal_Care                            44              1   \n",
       "Home_and_Kitche                                     43              3   \n",
       "Kindle_Store                                         5              1   \n",
       "Movies_and_TV                                       13              2   \n",
       "Musical_Instrument                                   7              0   \n",
       "Office_Product                                       9              0   \n",
       "Patio_Lawn_and_Garde                                 8              0   \n",
       "Pet_Supplie                                         11              1   \n",
       "Sports_and_Outdoor                                 130              0   \n",
       "Tools_and_Home_Improvement                          17              2   \n",
       "Toys_and_Game                                       36              1   \n",
       "\n",
       "                            Electronic  ...  Home_and_Kitche  Kindle_Store  \\\n",
       "Apps_for_Android                    50  ...                6            12   \n",
       "Automotive                          41  ...               17             1   \n",
       "Baby                                15  ...               20             0   \n",
       "Beauty                              18  ...               12             4   \n",
       "Book                                37  ...               23           121   \n",
       "CDs_and_Vinyl                       10  ...                4             4   \n",
       "Cell_Phones_and_Accessorie         149  ...                6             1   \n",
       "Clothing_Shoes_and_Jewelry          32  ...               15             2   \n",
       "Digital_Music                        6  ...                3             3   \n",
       "Electronic                        1110  ...               24             5   \n",
       "Grocery_and_Gourmet_Food             4  ...               25             1   \n",
       "Health_and_Personal_Care            41  ...               38             6   \n",
       "Home_and_Kitche                     33  ...              487             2   \n",
       "Kindle_Store                        10  ...                6            38   \n",
       "Movies_and_TV                       17  ...                3            18   \n",
       "Musical_Instrument                  25  ...                7             0   \n",
       "Office_Product                      54  ...               13             1   \n",
       "Patio_Lawn_and_Garde                16  ...               13             2   \n",
       "Pet_Supplie                          7  ...               13             3   \n",
       "Sports_and_Outdoor                  37  ...               33             1   \n",
       "Tools_and_Home_Improvement          38  ...               28             0   \n",
       "Toys_and_Game                       25  ...               15             5   \n",
       "\n",
       "                            Movies_and_TV  Musical_Instrument  Office_Product  \\\n",
       "Apps_for_Android                       15                   0               3   \n",
       "Automotive                              7                   0               1   \n",
       "Baby                                    1                   0               0   \n",
       "Beauty                                  4                   1               1   \n",
       "Book                                  101                   4               6   \n",
       "CDs_and_Vinyl                          46                   2               0   \n",
       "Cell_Phones_and_Accessorie              4                   1               7   \n",
       "Clothing_Shoes_and_Jewelry              6                   2               3   \n",
       "Digital_Music                           8                   0               1   \n",
       "Electronic                             19                   3              12   \n",
       "Grocery_and_Gourmet_Food                4                   1               1   \n",
       "Health_and_Personal_Care                7                   0               1   \n",
       "Home_and_Kitche                        10                   2               2   \n",
       "Kindle_Store                           20                   0               0   \n",
       "Movies_and_TV                         534                   1               1   \n",
       "Musical_Instrument                      1                  26               0   \n",
       "Office_Product                          5                   0              86   \n",
       "Patio_Lawn_and_Garde                    5                   1               1   \n",
       "Pet_Supplie                             3                   0               0   \n",
       "Sports_and_Outdoor                     13                   2               5   \n",
       "Tools_and_Home_Improvement              4                   0               4   \n",
       "Toys_and_Game                          10                   1               2   \n",
       "\n",
       "                            Patio_Lawn_and_Garde  Pet_Supplie  \\\n",
       "Apps_for_Android                               4            3   \n",
       "Automotive                                     6            3   \n",
       "Baby                                           2            3   \n",
       "Beauty                                         1            3   \n",
       "Book                                           8            6   \n",
       "CDs_and_Vinyl                                  2            0   \n",
       "Cell_Phones_and_Accessorie                     2            2   \n",
       "Clothing_Shoes_and_Jewelry                     1            3   \n",
       "Digital_Music                                  0            0   \n",
       "Electronic                                     3            3   \n",
       "Grocery_and_Gourmet_Food                       3            1   \n",
       "Health_and_Personal_Care                       4            7   \n",
       "Home_and_Kitche                                9            6   \n",
       "Kindle_Store                                   0            1   \n",
       "Movies_and_TV                                  0            0   \n",
       "Musical_Instrument                             0            0   \n",
       "Office_Product                                 1            2   \n",
       "Patio_Lawn_and_Garde                          74            8   \n",
       "Pet_Supplie                                    7          137   \n",
       "Sports_and_Outdoor                             6            6   \n",
       "Tools_and_Home_Improvement                     7            2   \n",
       "Toys_and_Game                                  6            5   \n",
       "\n",
       "                            Sports_and_Outdoor  Tools_and_Home_Improvement  \\\n",
       "Apps_for_Android                             7                           6   \n",
       "Automotive                                  16                          16   \n",
       "Baby                                         9                           6   \n",
       "Beauty                                      11                           3   \n",
       "Book                                        27                           6   \n",
       "CDs_and_Vinyl                                1                           0   \n",
       "Cell_Phones_and_Accessorie                  16                           9   \n",
       "Clothing_Shoes_and_Jewelry                  57                           5   \n",
       "Digital_Music                                0                           2   \n",
       "Electronic                                  25                          29   \n",
       "Grocery_and_Gourmet_Food                     1                           0   \n",
       "Health_and_Personal_Care                    30                          20   \n",
       "Home_and_Kitche                             26                          23   \n",
       "Kindle_Store                                 2                           1   \n",
       "Movies_and_TV                                3                           0   \n",
       "Musical_Instrument                           4                           6   \n",
       "Office_Product                              11                           6   \n",
       "Patio_Lawn_and_Garde                        21                          11   \n",
       "Pet_Supplie                                  9                           6   \n",
       "Sports_and_Outdoor                         238                          37   \n",
       "Tools_and_Home_Improvement                  23                         130   \n",
       "Toys_and_Game                               22                           4   \n",
       "\n",
       "                            Toys_and_Game  \n",
       "Apps_for_Android                       13  \n",
       "Automotive                              1  \n",
       "Baby                                   17  \n",
       "Beauty                                  2  \n",
       "Book                                   34  \n",
       "CDs_and_Vinyl                           2  \n",
       "Cell_Phones_and_Accessorie              7  \n",
       "Clothing_Shoes_and_Jewelry             13  \n",
       "Digital_Music                           0  \n",
       "Electronic                              8  \n",
       "Grocery_and_Gourmet_Food                1  \n",
       "Health_and_Personal_Care                6  \n",
       "Home_and_Kitche                        24  \n",
       "Kindle_Store                            3  \n",
       "Movies_and_TV                          11  \n",
       "Musical_Instrument                      5  \n",
       "Office_Product                          9  \n",
       "Patio_Lawn_and_Garde                    3  \n",
       "Pet_Supplie                             6  \n",
       "Sports_and_Outdoor                     21  \n",
       "Tools_and_Home_Improvement              8  \n",
       "Toys_and_Game                         188  \n",
       "\n",
       "[22 rows x 22 columns]"
      ]
     },
     "execution_count": 28,
     "metadata": {},
     "output_type": "execute_result"
    }
   ],
   "source": [
    "# Select the confusion matrix from the metrics object\n",
    "confusion_matrix = metrics.confusionMatrix()\n",
    "\n",
    "# Convert the confusion matrix to a Pandas DataFrame for better visualization mapping the category indices to the category names\n",
    "pd.DataFrame(confusion_matrix.toArray(), index=category_names, columns=category_names)"
   ]
  },
  {
   "cell_type": "code",
   "execution_count": 29,
   "metadata": {
    "ExecuteTime": {
     "end_time": "2023-05-31T21:36:20.359186300Z",
     "start_time": "2023-05-31T21:36:20.319189300Z"
    },
    "collapsed": false
   },
   "outputs": [
    {
     "data": {
      "text/html": [
       "<div>\n",
       "<style scoped>\n",
       "    .dataframe tbody tr th:only-of-type {\n",
       "        vertical-align: middle;\n",
       "    }\n",
       "\n",
       "    .dataframe tbody tr th {\n",
       "        vertical-align: top;\n",
       "    }\n",
       "\n",
       "    .dataframe thead th {\n",
       "        text-align: right;\n",
       "    }\n",
       "</style>\n",
       "<table border=\"1\" class=\"dataframe\">\n",
       "  <thead>\n",
       "    <tr style=\"text-align: right;\">\n",
       "      <th></th>\n",
       "      <th>f1_score</th>\n",
       "    </tr>\n",
       "  </thead>\n",
       "  <tbody>\n",
       "    <tr>\n",
       "      <th>Apps_for_Android</th>\n",
       "      <td>0.584942084942085</td>\n",
       "    </tr>\n",
       "    <tr>\n",
       "      <th>Automotive</th>\n",
       "      <td>0.4185110663983904</td>\n",
       "    </tr>\n",
       "    <tr>\n",
       "      <th>Baby</th>\n",
       "      <td>0.456140350877193</td>\n",
       "    </tr>\n",
       "    <tr>\n",
       "      <th>Beauty</th>\n",
       "      <td>0.6055045871559633</td>\n",
       "    </tr>\n",
       "    <tr>\n",
       "      <th>Book</th>\n",
       "      <td>0.7875741429576757</td>\n",
       "    </tr>\n",
       "    <tr>\n",
       "      <th>CDs_and_Vinyl</th>\n",
       "      <td>0.6857142857142857</td>\n",
       "    </tr>\n",
       "    <tr>\n",
       "      <th>Cell_Phones_and_Accessorie</th>\n",
       "      <td>0.5356622998544396</td>\n",
       "    </tr>\n",
       "    <tr>\n",
       "      <th>Clothing_Shoes_and_Jewelry</th>\n",
       "      <td>0.6832997987927565</td>\n",
       "    </tr>\n",
       "    <tr>\n",
       "      <th>Digital_Music</th>\n",
       "      <td>0.09016393442622951</td>\n",
       "    </tr>\n",
       "    <tr>\n",
       "      <th>Electronic</th>\n",
       "      <td>0.6624888093106536</td>\n",
       "    </tr>\n",
       "    <tr>\n",
       "      <th>Grocery_and_Gourmet_Food</th>\n",
       "      <td>0.5780590717299577</td>\n",
       "    </tr>\n",
       "    <tr>\n",
       "      <th>Health_and_Personal_Care</th>\n",
       "      <td>0.451858913250715</td>\n",
       "    </tr>\n",
       "    <tr>\n",
       "      <th>Home_and_Kitche</th>\n",
       "      <td>0.6064757160647571</td>\n",
       "    </tr>\n",
       "    <tr>\n",
       "      <th>Kindle_Store</th>\n",
       "      <td>0.08379272326350606</td>\n",
       "    </tr>\n",
       "    <tr>\n",
       "      <th>Movies_and_TV</th>\n",
       "      <td>0.6187717265353417</td>\n",
       "    </tr>\n",
       "    <tr>\n",
       "      <th>Musical_Instrument</th>\n",
       "      <td>0.3586206896551725</td>\n",
       "    </tr>\n",
       "    <tr>\n",
       "      <th>Office_Product</th>\n",
       "      <td>0.4444444444444444</td>\n",
       "    </tr>\n",
       "    <tr>\n",
       "      <th>Patio_Lawn_and_Garde</th>\n",
       "      <td>0.4252873563218391</td>\n",
       "    </tr>\n",
       "    <tr>\n",
       "      <th>Pet_Supplie</th>\n",
       "      <td>0.589247311827957</td>\n",
       "    </tr>\n",
       "    <tr>\n",
       "      <th>Sports_and_Outdoor</th>\n",
       "      <td>0.3876221498371336</td>\n",
       "    </tr>\n",
       "    <tr>\n",
       "      <th>Tools_and_Home_Improvement</th>\n",
       "      <td>0.3886397608370702</td>\n",
       "    </tr>\n",
       "    <tr>\n",
       "      <th>Toys_and_Game</th>\n",
       "      <td>0.4613496932515337</td>\n",
       "    </tr>\n",
       "  </tbody>\n",
       "</table>\n",
       "</div>"
      ],
      "text/plain": [
       "                                      f1_score\n",
       "Apps_for_Android             0.584942084942085\n",
       "Automotive                  0.4185110663983904\n",
       "Baby                         0.456140350877193\n",
       "Beauty                      0.6055045871559633\n",
       "Book                        0.7875741429576757\n",
       "CDs_and_Vinyl               0.6857142857142857\n",
       "Cell_Phones_and_Accessorie  0.5356622998544396\n",
       "Clothing_Shoes_and_Jewelry  0.6832997987927565\n",
       "Digital_Music              0.09016393442622951\n",
       "Electronic                  0.6624888093106536\n",
       "Grocery_and_Gourmet_Food    0.5780590717299577\n",
       "Health_and_Personal_Care     0.451858913250715\n",
       "Home_and_Kitche             0.6064757160647571\n",
       "Kindle_Store               0.08379272326350606\n",
       "Movies_and_TV               0.6187717265353417\n",
       "Musical_Instrument          0.3586206896551725\n",
       "Office_Product              0.4444444444444444\n",
       "Patio_Lawn_and_Garde        0.4252873563218391\n",
       "Pet_Supplie                  0.589247311827957\n",
       "Sports_and_Outdoor          0.3876221498371336\n",
       "Tools_and_Home_Improvement  0.3886397608370702\n",
       "Toys_and_Game               0.4613496932515337"
      ]
     },
     "execution_count": 29,
     "metadata": {},
     "output_type": "execute_result"
    }
   ],
   "source": [
    "# Collect the F1-score for each category into a dataframe\n",
    "pd.DataFrame([(metrics.fMeasure(float(i))) for i in range(num_classes)], index=category_names, columns=[\"f1_score\"])"
   ]
  },
  {
   "cell_type": "code",
   "execution_count": 30,
   "metadata": {
    "ExecuteTime": {
     "end_time": "2023-05-31T21:36:20.359186300Z",
     "start_time": "2023-05-31T21:36:20.337186Z"
    },
    "collapsed": false
   },
   "outputs": [
    {
     "name": "stdout",
     "output_type": "stream",
     "text": [
      "Macro-Average F1 score: 0.495644\n"
     ]
    }
   ],
   "source": [
    "# Print the macro-average f1-score using the test data\n",
    "print(\"Macro-Average F1 score: %f\" % (sum((metrics.fMeasure(float(i))) for i in range(num_classes)) / num_classes))"
   ]
  },
  {
   "cell_type": "code",
   "execution_count": 31,
   "metadata": {
    "ExecuteTime": {
     "end_time": "2023-05-31T21:36:21.187690400Z",
     "start_time": "2023-05-31T21:36:20.370181400Z"
    },
    "collapsed": false
   },
   "outputs": [],
   "source": [
    "spark.stop()"
   ]
  },
  {
   "cell_type": "markdown",
   "metadata": {
    "collapsed": false
   },
   "source": [
    "# Archive"
   ]
  },
  {
   "cell_type": "code",
   "execution_count": null,
   "metadata": {
    "collapsed": false,
    "is_executing": true
   },
   "outputs": [],
   "source": [
    "# Create a cross-validator using the pipeline, parameter grid, and evaluator\n",
    "# cv = CrossValidator(estimator=pipeline, estimatorParamMaps=param_grid, evaluator=evaluator, numFolds=3)\n",
    "\n",
    "# Fit the cross-validator to the training data\n",
    "# cv_model = cv.fit(training_data)\n",
    "\n",
    "# Make predictions on the test data\n",
    "# predictions = cv_model.transform(test_data)\n",
    "\n",
    "# Compute the micro-averaged F1-score for the predictions\n",
    "# evaluator.evaluate(predictions)"
   ]
  },
  {
   "cell_type": "code",
   "execution_count": null,
   "metadata": {
    "collapsed": false,
    "is_executing": true,
    "jupyter": {
     "outputs_hidden": false
    }
   },
   "outputs": [],
   "source": []
  }
 ],
 "metadata": {
  "kernelspec": {
   "display_name": "Python 3 (DIC23)",
   "language": "python",
   "name": "python3_dic23"
  },
  "language_info": {
   "codemirror_mode": {
    "name": "ipython",
    "version": 3
   },
   "file_extension": ".py",
   "mimetype": "text/x-python",
   "name": "python",
   "nbconvert_exporter": "python",
   "pygments_lexer": "ipython3",
   "version": "3.9.13"
  }
 },
 "nbformat": 4,
 "nbformat_minor": 4
}
