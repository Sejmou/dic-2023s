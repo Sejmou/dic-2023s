{
 "cells": [
  {
   "cell_type": "markdown",
   "metadata": {},
   "source": [
    "# Part 2: Datasets/DataFrames"
   ]
  },
  {
   "cell_type": "code",
   "execution_count": 1,
   "metadata": {
    "ExecuteTime": {
     "end_time": "2023-05-27T15:21:24.593285700Z",
     "start_time": "2023-05-27T15:21:23.691464700Z"
    }
   },
   "outputs": [],
   "source": [
    "import os\n",
    "import re\n",
    "\n",
    "from pyspark.ml import Pipeline\n",
    "from pyspark.ml.classification import LinearSVC, OneVsRest\n",
    "from pyspark.ml.evaluation import MulticlassClassificationEvaluator\n",
    "from pyspark.ml.feature import ChiSqSelector, RegexTokenizer, StringIndexer, IDF, StopWordsRemover, \\\n",
    "    Normalizer, CountVectorizer\n",
    "from pyspark.sql import SparkSession"
   ]
  },
  {
   "cell_type": "code",
   "execution_count": 2,
   "metadata": {
    "ExecuteTime": {
     "end_time": "2023-05-27T15:21:48.491063700Z",
     "start_time": "2023-05-27T15:21:24.596267600Z"
    }
   },
   "outputs": [
    {
     "name": "stderr",
     "output_type": "stream",
     "text": [
      "SLF4J: Class path contains multiple SLF4J bindings.\n",
      "SLF4J: Found binding in [jar:file:/usr/lib/spark/jars/slf4j-log4j12-1.7.30.jar!/org/slf4j/impl/StaticLoggerBinder.class]\n",
      "SLF4J: Found binding in [jar:file:/usr/lib/hadoop/lib/slf4j-reload4j-1.7.36.jar!/org/slf4j/impl/StaticLoggerBinder.class]\n",
      "SLF4J: See http://www.slf4j.org/codes.html#multiple_bindings for an explanation.\n",
      "SLF4J: Actual binding is of type [org.slf4j.impl.Log4jLoggerFactory]\n",
      "23/05/27 17:21:29 WARN NativeCodeLoader: Unable to load native-hadoop library for your platform... using builtin-java classes where applicable\n",
      "23/05/27 17:21:30 WARN Utils: Service 'SparkUI' could not bind on port 4040. Attempting port 4041.\n",
      "23/05/27 17:21:30 WARN Utils: Service 'SparkUI' could not bind on port 4041. Attempting port 4042.\n",
      "23/05/27 17:21:30 WARN Utils: Service 'SparkUI' could not bind on port 4042. Attempting port 4043.\n",
      "23/05/27 17:21:30 WARN Utils: Service 'SparkUI' could not bind on port 4043. Attempting port 4044.\n",
      "23/05/27 17:21:30 WARN Utils: Service 'SparkUI' could not bind on port 4044. Attempting port 4045.\n",
      "23/05/27 17:21:30 WARN Utils: Service 'SparkUI' could not bind on port 4045. Attempting port 4046.\n",
      "23/05/27 17:21:30 WARN Utils: Service 'SparkUI' could not bind on port 4046. Attempting port 4047.\n",
      "23/05/27 17:21:30 WARN Utils: Service 'SparkUI' could not bind on port 4047. Attempting port 4048.\n",
      "23/05/27 17:21:30 WARN Utils: Service 'SparkUI' could not bind on port 4048. Attempting port 4049.\n",
      "23/05/27 17:21:30 WARN Utils: Service 'SparkUI' could not bind on port 4049. Attempting port 4050.\n",
      "23/05/27 17:21:30 WARN Utils: Service 'SparkUI' could not bind on port 4050. Attempting port 4051.\n",
      "23/05/27 17:21:30 WARN Utils: Service 'SparkUI' could not bind on port 4051. Attempting port 4052.\n",
      "23/05/27 17:21:32 WARN Client: Neither spark.yarn.jars nor spark.yarn.archive is set, falling back to uploading libraries under SPARK_HOME.\n"
     ]
    }
   ],
   "source": [
    "# Create or retrieve a SparkSession\n",
    "spark = SparkSession.builder.appName(\"ChiSquaredPipeline\").getOrCreate()\n",
    "sc = spark.sparkContext"
   ]
  },
  {
   "cell_type": "code",
   "execution_count": 3,
   "metadata": {
    "ExecuteTime": {
     "end_time": "2023-05-27T15:21:53.756829800Z",
     "start_time": "2023-05-27T15:21:48.499155700Z"
    },
    "collapsed": false
   },
   "outputs": [
    {
     "name": "stderr",
     "output_type": "stream",
     "text": [
      "                                                                                \r"
     ]
    }
   ],
   "source": [
    "# Extract the 8-digit matriculation number with preceding e from the absolute path of the current working directory\n",
    "matriculation_number = re.search(r\"/e\\d{8}/\", os.getcwd()).group(0)[1:-1]\n",
    "\n",
    "# Put the stopwords file in the HDFS home directory for the current user (e.g. /user/e12345678/stopwords.txt)\n",
    "# Only do this if it does not already exist in the HDFS home directory\n",
    "if os.system(\"hdfs dfs -test -e /user/%s/stopwords.txt\" % matriculation_number):\n",
    "    os.system(\"hdfs dfs -put stopwords.txt /user/%s/stopwords.txt\" % matriculation_number)\n",
    "\n",
    "# Load the review file as an RDD\n",
    "# review_path = \"hdfs:///user/dic23_shared/amazon-reviews/full/reviewscombined.json\"\n",
    "review_path = \"hdfs:///user/dic23_shared/amazon-reviews/full/reviews_devset.json\"\n",
    "\n",
    "# Load the stopword file as a set\n",
    "stopwords_path = \"hdfs:///user/%s/stopwords.txt\" % matriculation_number\n",
    "stopwords = set(sc.textFile(stopwords_path).collect())"
   ]
  },
  {
   "cell_type": "code",
   "execution_count": 4,
   "metadata": {
    "ExecuteTime": {
     "end_time": "2023-05-27T15:21:59.156669700Z",
     "start_time": "2023-05-27T15:21:53.759855900Z"
    }
   },
   "outputs": [
    {
     "name": "stderr",
     "output_type": "stream",
     "text": [
      "                                                                                \r"
     ]
    }
   ],
   "source": [
    "# Read the review file into a DataFrame\n",
    "df = spark.read.json(review_path)"
   ]
  },
  {
   "cell_type": "code",
   "execution_count": 5,
   "metadata": {
    "ExecuteTime": {
     "end_time": "2023-05-27T15:21:59.200328800Z",
     "start_time": "2023-05-27T15:21:59.162744300Z"
    }
   },
   "outputs": [],
   "source": [
    "# Tokenize the review text into words using a regular expression pattern\n",
    "tokenizer = RegexTokenizer(inputCol=\"reviewText\", outputCol=\"words\", pattern=\"[^a-zA-Z<>^|]+\", gaps=True,\n",
    "                           toLowercase=True)"
   ]
  },
  {
   "cell_type": "code",
   "execution_count": 6,
   "metadata": {
    "ExecuteTime": {
     "end_time": "2023-05-27T15:21:59.284609800Z",
     "start_time": "2023-05-27T15:21:59.199351400Z"
    },
    "tags": []
   },
   "outputs": [],
   "source": [
    "# Remove stopwords from the tokenized words list using the stopword set\n",
    "remover = StopWordsRemover(inputCol=\"words\", outputCol=\"filtered\", stopWords=list(stopwords))"
   ]
  },
  {
   "cell_type": "code",
   "execution_count": 7,
   "metadata": {
    "ExecuteTime": {
     "end_time": "2023-05-27T15:21:59.306658400Z",
     "start_time": "2023-05-27T15:21:59.286609Z"
    }
   },
   "outputs": [],
   "source": [
    "# Convert the category column to a numeric type\n",
    "indexer = StringIndexer(inputCol=\"category\", outputCol=\"categoryIndex\", stringOrderType=\"alphabetAsc\")"
   ]
  },
  {
   "cell_type": "code",
   "execution_count": 8,
   "metadata": {
    "ExecuteTime": {
     "end_time": "2023-05-27T15:21:59.325659200Z",
     "start_time": "2023-05-27T15:21:59.308680900Z"
    },
    "collapsed": false
   },
   "outputs": [],
   "source": [
    "# Compute the term frequency vector for each document (review)\n",
    "# tf = HashingTF(inputCol=\"filtered\", outputCol=\"rawFeatures\")\n",
    "tf = CountVectorizer(inputCol=\"filtered\", outputCol=\"rawFeatures\")"
   ]
  },
  {
   "cell_type": "code",
   "execution_count": 9,
   "metadata": {
    "ExecuteTime": {
     "end_time": "2023-05-27T15:21:59.339961800Z",
     "start_time": "2023-05-27T15:21:59.328699Z"
    },
    "collapsed": false
   },
   "outputs": [],
   "source": [
    "# Compute the inverse document frequency vector for each document (review)\n",
    "idf = IDF(inputCol=\"rawFeatures\", outputCol=\"features\")"
   ]
  },
  {
   "cell_type": "code",
   "execution_count": 10,
   "metadata": {
    "ExecuteTime": {
     "end_time": "2023-05-27T15:21:59.371356200Z",
     "start_time": "2023-05-27T15:21:59.345956Z"
    }
   },
   "outputs": [],
   "source": [
    "# Select the top 2000 features based on the chi-squared test for feature independence\n",
    "css = ChiSqSelector(featuresCol=\"features\", outputCol=\"selectedFeatures\", labelCol=\"categoryIndex\", numTopFeatures=2000)"
   ]
  },
  {
   "cell_type": "code",
   "execution_count": 11,
   "metadata": {
    "ExecuteTime": {
     "end_time": "2023-05-27T15:21:59.371356200Z",
     "start_time": "2023-05-27T15:21:59.371356200Z"
    },
    "collapsed": false
   },
   "outputs": [],
   "source": [
    "# Create pipeline combining all steps\n",
    "pipeline = Pipeline(stages=[tokenizer, remover, indexer, tf, idf, css])"
   ]
  },
  {
   "cell_type": "code",
   "execution_count": 12,
   "metadata": {
    "ExecuteTime": {
     "end_time": "2023-05-27T15:22:49.030516800Z",
     "start_time": "2023-05-27T15:21:59.380429Z"
    },
    "collapsed": false
   },
   "outputs": [
    {
     "name": "stderr",
     "output_type": "stream",
     "text": [
      "23/05/27 17:22:14 WARN DAGScheduler: Broadcasting large task binary with size 1059.7 KiB\n",
      "23/05/27 17:22:21 WARN DAGScheduler: Broadcasting large task binary with size 2.5 MiB\n",
      "23/05/27 17:22:21 WARN DAGScheduler: Broadcasting large task binary with size 2.5 MiB\n",
      "23/05/27 17:22:28 WARN DAGScheduler: Broadcasting large task binary with size 2.5 MiB\n",
      "                                                                                \r"
     ]
    }
   ],
   "source": [
    "# Fit the pipeline to the DataFrame\n",
    "pipeline_model = pipeline.fit(df)"
   ]
  },
  {
   "cell_type": "code",
   "execution_count": 13,
   "metadata": {
    "ExecuteTime": {
     "end_time": "2023-05-27T15:22:49.524927700Z",
     "start_time": "2023-05-27T15:22:49.034602500Z"
    },
    "collapsed": false
   },
   "outputs": [],
   "source": [
    "# Get the vocabulary and selected features\n",
    "vocab = pipeline_model.stages[3].vocabulary\n",
    "selected_features = pipeline_model.stages[5].selectedFeatures"
   ]
  },
  {
   "cell_type": "code",
   "execution_count": 14,
   "metadata": {
    "ExecuteTime": {
     "end_time": "2023-05-27T15:22:49.535928200Z",
     "start_time": "2023-05-27T15:22:49.530956100Z"
    },
    "collapsed": false
   },
   "outputs": [],
   "source": [
    "# Save the names of the selected features to a file sorted alphabetically in ascending order (space separated)\n",
    "with open(\"selected_features.txt\", \"w\") as f:\n",
    "    f.write(\" \".join(sorted([vocab[i] for i in selected_features])))"
   ]
  },
  {
   "cell_type": "markdown",
   "metadata": {},
   "source": [
    "# Part 3: Text Classification"
   ]
  },
  {
   "cell_type": "code",
   "execution_count": 15,
   "metadata": {
    "ExecuteTime": {
     "end_time": "2023-05-27T15:22:49.572956300Z",
     "start_time": "2023-05-27T15:22:49.538958400Z"
    },
    "collapsed": false
   },
   "outputs": [],
   "source": [
    "# Split the data into training, test, and validation sets\n",
    "training_data, test_data, validation_data = df.randomSplit([0.7, 0.2, 0.1], seed=69)"
   ]
  },
  {
   "cell_type": "code",
   "execution_count": 16,
   "metadata": {
    "ExecuteTime": {
     "end_time": "2023-05-27T15:22:49.611956700Z",
     "start_time": "2023-05-27T15:22:49.575956700Z"
    }
   },
   "outputs": [],
   "source": [
    "# Normalize each Vector using $L^2$ norm.\n",
    "normalizer = Normalizer(inputCol=\"features\", outputCol=\"normFeatures\", p=2.0)"
   ]
  },
  {
   "cell_type": "code",
   "execution_count": 17,
   "metadata": {
    "ExecuteTime": {
     "end_time": "2023-05-27T15:22:49.625929100Z",
     "start_time": "2023-05-27T15:22:49.609928200Z"
    },
    "collapsed": false
   },
   "outputs": [],
   "source": [
    "# Train an SVM classifier on the training data using the pipeline and the selected features as input and the category as output column\n",
    "svm = LinearSVC(featuresCol=\"normFeatures\", labelCol=\"categoryIndex\", maxIter=10)\n",
    "ovr = OneVsRest(classifier=svm, featuresCol=\"normFeatures\", labelCol=\"categoryIndex\")"
   ]
  },
  {
   "cell_type": "code",
   "execution_count": 18,
   "metadata": {
    "ExecuteTime": {
     "end_time": "2023-05-27T15:22:49.630928900Z",
     "start_time": "2023-05-27T15:22:49.627929400Z"
    },
    "collapsed": false
   },
   "outputs": [],
   "source": [
    "# Create a pipeline combining all steps\n",
    "pipeline = Pipeline(stages=[tokenizer, remover, indexer, tf, idf, normalizer, css, ovr])"
   ]
  },
  {
   "cell_type": "code",
   "execution_count": 19,
   "metadata": {
    "ExecuteTime": {
     "end_time": "2023-05-27T15:27:54.106758100Z",
     "start_time": "2023-05-27T15:22:49.632929200Z"
    },
    "collapsed": false
   },
   "outputs": [
    {
     "name": "stderr",
     "output_type": "stream",
     "text": [
      "23/05/27 17:23:03 WARN DAGScheduler: Broadcasting large task binary with size 2.1 MiB\n",
      "23/05/27 17:23:03 WARN DAGScheduler: Broadcasting large task binary with size 2.1 MiB\n",
      "23/05/27 17:23:08 WARN DAGScheduler: Broadcasting large task binary with size 2.1 MiB\n",
      "23/05/27 17:23:28 WARN DAGScheduler: Broadcasting large task binary with size 2.1 MiB\n",
      "23/05/27 17:23:33 WARN DAGScheduler: Broadcasting large task binary with size 2.1 MiB\n",
      "23/05/27 17:23:37 WARN InstanceBuilder$NativeBLAS: Failed to load implementation from:dev.ludovic.netlib.blas.JNIBLAS\n",
      "23/05/27 17:23:37 WARN InstanceBuilder$NativeBLAS: Failed to load implementation from:dev.ludovic.netlib.blas.ForeignLinkerBLAS\n",
      "23/05/27 17:23:37 WARN BLAS: Failed to load implementation from: com.github.fommil.netlib.NativeSystemBLAS\n",
      "23/05/27 17:23:37 WARN BLAS: Failed to load implementation from: com.github.fommil.netlib.NativeRefBLAS\n",
      "23/05/27 17:23:37 WARN DAGScheduler: Broadcasting large task binary with size 2.1 MiB\n",
      "23/05/27 17:23:38 WARN DAGScheduler: Broadcasting large task binary with size 2.1 MiB\n",
      "23/05/27 17:23:38 WARN DAGScheduler: Broadcasting large task binary with size 2.1 MiB\n",
      "23/05/27 17:23:38 WARN DAGScheduler: Broadcasting large task binary with size 2.1 MiB\n",
      "23/05/27 17:23:38 WARN DAGScheduler: Broadcasting large task binary with size 2.1 MiB\n",
      "23/05/27 17:23:38 WARN DAGScheduler: Broadcasting large task binary with size 2.1 MiB\n",
      "23/05/27 17:23:38 WARN DAGScheduler: Broadcasting large task binary with size 2.1 MiB\n",
      "23/05/27 17:23:39 WARN DAGScheduler: Broadcasting large task binary with size 2.1 MiB\n",
      "23/05/27 17:23:39 WARN DAGScheduler: Broadcasting large task binary with size 2.1 MiB\n",
      "23/05/27 17:23:39 WARN DAGScheduler: Broadcasting large task binary with size 2.1 MiB\n",
      "23/05/27 17:23:39 WARN DAGScheduler: Broadcasting large task binary with size 2.1 MiB\n",
      "23/05/27 17:23:39 WARN DAGScheduler: Broadcasting large task binary with size 2.1 MiB\n",
      "23/05/27 17:23:39 WARN DAGScheduler: Broadcasting large task binary with size 2.1 MiB\n",
      "23/05/27 17:23:39 WARN DAGScheduler: Broadcasting large task binary with size 2.1 MiB\n",
      "23/05/27 17:23:40 WARN DAGScheduler: Broadcasting large task binary with size 2.1 MiB\n",
      "23/05/27 17:23:40 WARN DAGScheduler: Broadcasting large task binary with size 2.1 MiB\n",
      "23/05/27 17:23:40 WARN DAGScheduler: Broadcasting large task binary with size 2.1 MiB\n",
      "23/05/27 17:23:40 WARN DAGScheduler: Broadcasting large task binary with size 2.1 MiB\n",
      "23/05/27 17:23:40 WARN DAGScheduler: Broadcasting large task binary with size 2.1 MiB\n",
      "23/05/27 17:23:40 WARN DAGScheduler: Broadcasting large task binary with size 2.1 MiB\n",
      "23/05/27 17:23:41 WARN DAGScheduler: Broadcasting large task binary with size 2.1 MiB\n",
      "23/05/27 17:23:41 WARN DAGScheduler: Broadcasting large task binary with size 2.1 MiB\n",
      "23/05/27 17:23:41 WARN DAGScheduler: Broadcasting large task binary with size 2.1 MiB\n",
      "23/05/27 17:23:42 WARN DAGScheduler: Broadcasting large task binary with size 2.1 MiB\n",
      "23/05/27 17:23:46 WARN DAGScheduler: Broadcasting large task binary with size 2.1 MiB\n",
      "23/05/27 17:23:50 WARN DAGScheduler: Broadcasting large task binary with size 2.1 MiB\n",
      "23/05/27 17:23:50 WARN DAGScheduler: Broadcasting large task binary with size 2.1 MiB\n",
      "23/05/27 17:23:50 WARN DAGScheduler: Broadcasting large task binary with size 2.1 MiB\n",
      "23/05/27 17:23:50 WARN DAGScheduler: Broadcasting large task binary with size 2.1 MiB\n",
      "23/05/27 17:23:50 WARN DAGScheduler: Broadcasting large task binary with size 2.1 MiB\n",
      "23/05/27 17:23:51 WARN DAGScheduler: Broadcasting large task binary with size 2.1 MiB\n",
      "23/05/27 17:23:51 WARN DAGScheduler: Broadcasting large task binary with size 2.1 MiB\n",
      "23/05/27 17:23:51 WARN DAGScheduler: Broadcasting large task binary with size 2.1 MiB\n",
      "23/05/27 17:23:51 WARN DAGScheduler: Broadcasting large task binary with size 2.1 MiB\n",
      "23/05/27 17:23:51 WARN DAGScheduler: Broadcasting large task binary with size 2.1 MiB\n",
      "23/05/27 17:23:51 WARN DAGScheduler: Broadcasting large task binary with size 2.1 MiB\n",
      "23/05/27 17:23:52 WARN DAGScheduler: Broadcasting large task binary with size 2.1 MiB\n",
      "23/05/27 17:23:52 WARN DAGScheduler: Broadcasting large task binary with size 2.1 MiB\n",
      "23/05/27 17:23:52 WARN DAGScheduler: Broadcasting large task binary with size 2.1 MiB\n",
      "23/05/27 17:23:52 WARN DAGScheduler: Broadcasting large task binary with size 2.1 MiB\n",
      "23/05/27 17:23:52 WARN DAGScheduler: Broadcasting large task binary with size 2.1 MiB\n",
      "23/05/27 17:23:52 WARN DAGScheduler: Broadcasting large task binary with size 2.1 MiB\n",
      "23/05/27 17:23:52 WARN DAGScheduler: Broadcasting large task binary with size 2.1 MiB\n",
      "23/05/27 17:23:53 WARN DAGScheduler: Broadcasting large task binary with size 2.1 MiB\n",
      "23/05/27 17:23:53 WARN DAGScheduler: Broadcasting large task binary with size 2.1 MiB\n",
      "23/05/27 17:23:53 WARN DAGScheduler: Broadcasting large task binary with size 2.1 MiB\n",
      "23/05/27 17:23:53 WARN DAGScheduler: Broadcasting large task binary with size 2.1 MiB\n",
      "23/05/27 17:23:53 WARN DAGScheduler: Broadcasting large task binary with size 2.1 MiB\n",
      "23/05/27 17:23:53 WARN DAGScheduler: Broadcasting large task binary with size 2.1 MiB\n",
      "23/05/27 17:23:54 WARN DAGScheduler: Broadcasting large task binary with size 2.1 MiB\n",
      "23/05/27 17:23:58 WARN DAGScheduler: Broadcasting large task binary with size 2.1 MiB\n",
      "23/05/27 17:24:03 WARN DAGScheduler: Broadcasting large task binary with size 2.1 MiB\n",
      "23/05/27 17:24:03 WARN DAGScheduler: Broadcasting large task binary with size 2.1 MiB\n",
      "23/05/27 17:24:03 WARN DAGScheduler: Broadcasting large task binary with size 2.1 MiB\n",
      "23/05/27 17:24:03 WARN DAGScheduler: Broadcasting large task binary with size 2.1 MiB\n",
      "23/05/27 17:24:03 WARN DAGScheduler: Broadcasting large task binary with size 2.1 MiB\n",
      "23/05/27 17:24:03 WARN DAGScheduler: Broadcasting large task binary with size 2.1 MiB\n",
      "23/05/27 17:24:03 WARN DAGScheduler: Broadcasting large task binary with size 2.1 MiB\n",
      "23/05/27 17:24:04 WARN DAGScheduler: Broadcasting large task binary with size 2.1 MiB\n",
      "23/05/27 17:24:04 WARN DAGScheduler: Broadcasting large task binary with size 2.1 MiB\n",
      "23/05/27 17:24:04 WARN DAGScheduler: Broadcasting large task binary with size 2.1 MiB\n",
      "23/05/27 17:24:04 WARN DAGScheduler: Broadcasting large task binary with size 2.1 MiB\n",
      "23/05/27 17:24:04 WARN DAGScheduler: Broadcasting large task binary with size 2.1 MiB\n",
      "23/05/27 17:24:04 WARN DAGScheduler: Broadcasting large task binary with size 2.1 MiB\n",
      "23/05/27 17:24:04 WARN DAGScheduler: Broadcasting large task binary with size 2.1 MiB\n",
      "23/05/27 17:24:05 WARN DAGScheduler: Broadcasting large task binary with size 2.1 MiB\n",
      "23/05/27 17:24:05 WARN DAGScheduler: Broadcasting large task binary with size 2.1 MiB\n",
      "23/05/27 17:24:05 WARN DAGScheduler: Broadcasting large task binary with size 2.1 MiB\n",
      "23/05/27 17:24:05 WARN DAGScheduler: Broadcasting large task binary with size 2.1 MiB\n",
      "23/05/27 17:24:05 WARN DAGScheduler: Broadcasting large task binary with size 2.1 MiB\n",
      "23/05/27 17:24:05 WARN DAGScheduler: Broadcasting large task binary with size 2.1 MiB\n",
      "23/05/27 17:24:05 WARN DAGScheduler: Broadcasting large task binary with size 2.1 MiB\n",
      "23/05/27 17:24:06 WARN DAGScheduler: Broadcasting large task binary with size 2.1 MiB\n",
      "23/05/27 17:24:06 WARN DAGScheduler: Broadcasting large task binary with size 2.1 MiB\n",
      "23/05/27 17:24:06 WARN DAGScheduler: Broadcasting large task binary with size 2.1 MiB\n",
      "23/05/27 17:24:07 WARN DAGScheduler: Broadcasting large task binary with size 2.1 MiB\n",
      "23/05/27 17:24:11 WARN DAGScheduler: Broadcasting large task binary with size 2.1 MiB\n",
      "23/05/27 17:24:15 WARN DAGScheduler: Broadcasting large task binary with size 2.1 MiB\n",
      "23/05/27 17:24:15 WARN DAGScheduler: Broadcasting large task binary with size 2.1 MiB\n",
      "23/05/27 17:24:15 WARN DAGScheduler: Broadcasting large task binary with size 2.1 MiB\n",
      "23/05/27 17:24:15 WARN DAGScheduler: Broadcasting large task binary with size 2.1 MiB\n",
      "23/05/27 17:24:15 WARN DAGScheduler: Broadcasting large task binary with size 2.1 MiB\n",
      "23/05/27 17:24:15 WARN DAGScheduler: Broadcasting large task binary with size 2.1 MiB\n",
      "23/05/27 17:24:16 WARN DAGScheduler: Broadcasting large task binary with size 2.1 MiB\n",
      "23/05/27 17:24:16 WARN DAGScheduler: Broadcasting large task binary with size 2.1 MiB\n",
      "23/05/27 17:24:16 WARN DAGScheduler: Broadcasting large task binary with size 2.1 MiB\n",
      "23/05/27 17:24:16 WARN DAGScheduler: Broadcasting large task binary with size 2.1 MiB\n",
      "23/05/27 17:24:16 WARN DAGScheduler: Broadcasting large task binary with size 2.1 MiB\n",
      "23/05/27 17:24:16 WARN DAGScheduler: Broadcasting large task binary with size 2.1 MiB\n",
      "23/05/27 17:24:16 WARN DAGScheduler: Broadcasting large task binary with size 2.1 MiB\n",
      "23/05/27 17:24:17 WARN DAGScheduler: Broadcasting large task binary with size 2.1 MiB\n",
      "23/05/27 17:24:17 WARN DAGScheduler: Broadcasting large task binary with size 2.1 MiB\n",
      "23/05/27 17:24:17 WARN DAGScheduler: Broadcasting large task binary with size 2.1 MiB\n",
      "23/05/27 17:24:17 WARN DAGScheduler: Broadcasting large task binary with size 2.1 MiB\n",
      "23/05/27 17:24:17 WARN DAGScheduler: Broadcasting large task binary with size 2.1 MiB\n",
      "23/05/27 17:24:17 WARN DAGScheduler: Broadcasting large task binary with size 2.1 MiB\n",
      "23/05/27 17:24:17 WARN DAGScheduler: Broadcasting large task binary with size 2.1 MiB\n",
      "23/05/27 17:24:18 WARN DAGScheduler: Broadcasting large task binary with size 2.1 MiB\n",
      "23/05/27 17:24:18 WARN DAGScheduler: Broadcasting large task binary with size 2.1 MiB\n",
      "23/05/27 17:24:18 WARN DAGScheduler: Broadcasting large task binary with size 2.1 MiB\n",
      "23/05/27 17:24:19 WARN DAGScheduler: Broadcasting large task binary with size 2.1 MiB\n",
      "23/05/27 17:24:23 WARN DAGScheduler: Broadcasting large task binary with size 2.1 MiB\n",
      "23/05/27 17:24:27 WARN DAGScheduler: Broadcasting large task binary with size 2.1 MiB\n",
      "23/05/27 17:24:27 WARN DAGScheduler: Broadcasting large task binary with size 2.1 MiB\n",
      "23/05/27 17:24:28 WARN DAGScheduler: Broadcasting large task binary with size 2.1 MiB\n",
      "23/05/27 17:24:28 WARN DAGScheduler: Broadcasting large task binary with size 2.1 MiB\n",
      "23/05/27 17:24:28 WARN DAGScheduler: Broadcasting large task binary with size 2.1 MiB\n",
      "23/05/27 17:24:28 WARN DAGScheduler: Broadcasting large task binary with size 2.1 MiB\n",
      "23/05/27 17:24:28 WARN DAGScheduler: Broadcasting large task binary with size 2.1 MiB\n",
      "23/05/27 17:24:28 WARN DAGScheduler: Broadcasting large task binary with size 2.1 MiB\n",
      "23/05/27 17:24:28 WARN DAGScheduler: Broadcasting large task binary with size 2.1 MiB\n",
      "23/05/27 17:24:29 WARN DAGScheduler: Broadcasting large task binary with size 2.1 MiB\n",
      "23/05/27 17:24:29 WARN DAGScheduler: Broadcasting large task binary with size 2.1 MiB\n",
      "23/05/27 17:24:29 WARN DAGScheduler: Broadcasting large task binary with size 2.1 MiB\n",
      "23/05/27 17:24:29 WARN DAGScheduler: Broadcasting large task binary with size 2.1 MiB\n",
      "23/05/27 17:24:29 WARN DAGScheduler: Broadcasting large task binary with size 2.1 MiB\n",
      "23/05/27 17:24:29 WARN DAGScheduler: Broadcasting large task binary with size 2.1 MiB\n",
      "23/05/27 17:24:29 WARN DAGScheduler: Broadcasting large task binary with size 2.1 MiB\n",
      "23/05/27 17:24:30 WARN DAGScheduler: Broadcasting large task binary with size 2.1 MiB\n",
      "23/05/27 17:24:30 WARN DAGScheduler: Broadcasting large task binary with size 2.1 MiB\n",
      "23/05/27 17:24:30 WARN DAGScheduler: Broadcasting large task binary with size 2.1 MiB\n",
      "23/05/27 17:24:30 WARN DAGScheduler: Broadcasting large task binary with size 2.1 MiB\n",
      "23/05/27 17:24:30 WARN DAGScheduler: Broadcasting large task binary with size 2.1 MiB\n",
      "23/05/27 17:24:31 WARN DAGScheduler: Broadcasting large task binary with size 2.1 MiB\n",
      "23/05/27 17:24:35 WARN DAGScheduler: Broadcasting large task binary with size 2.1 MiB\n",
      "23/05/27 17:24:39 WARN DAGScheduler: Broadcasting large task binary with size 2.1 MiB\n",
      "23/05/27 17:24:39 WARN DAGScheduler: Broadcasting large task binary with size 2.1 MiB\n",
      "23/05/27 17:24:39 WARN DAGScheduler: Broadcasting large task binary with size 2.1 MiB\n",
      "23/05/27 17:24:40 WARN DAGScheduler: Broadcasting large task binary with size 2.1 MiB\n",
      "23/05/27 17:24:40 WARN DAGScheduler: Broadcasting large task binary with size 2.1 MiB\n",
      "23/05/27 17:24:40 WARN DAGScheduler: Broadcasting large task binary with size 2.1 MiB\n",
      "23/05/27 17:24:40 WARN DAGScheduler: Broadcasting large task binary with size 2.1 MiB\n",
      "23/05/27 17:24:40 WARN DAGScheduler: Broadcasting large task binary with size 2.1 MiB\n",
      "23/05/27 17:24:40 WARN DAGScheduler: Broadcasting large task binary with size 2.1 MiB\n",
      "23/05/27 17:24:40 WARN DAGScheduler: Broadcasting large task binary with size 2.1 MiB\n",
      "23/05/27 17:24:40 WARN DAGScheduler: Broadcasting large task binary with size 2.1 MiB\n",
      "23/05/27 17:24:41 WARN DAGScheduler: Broadcasting large task binary with size 2.1 MiB\n",
      "23/05/27 17:24:41 WARN DAGScheduler: Broadcasting large task binary with size 2.1 MiB\n",
      "23/05/27 17:24:41 WARN DAGScheduler: Broadcasting large task binary with size 2.1 MiB\n",
      "23/05/27 17:24:41 WARN DAGScheduler: Broadcasting large task binary with size 2.1 MiB\n",
      "23/05/27 17:24:41 WARN DAGScheduler: Broadcasting large task binary with size 2.1 MiB\n",
      "23/05/27 17:24:41 WARN DAGScheduler: Broadcasting large task binary with size 2.1 MiB\n",
      "23/05/27 17:24:41 WARN DAGScheduler: Broadcasting large task binary with size 2.1 MiB\n",
      "23/05/27 17:24:42 WARN DAGScheduler: Broadcasting large task binary with size 2.1 MiB\n",
      "23/05/27 17:24:42 WARN DAGScheduler: Broadcasting large task binary with size 2.1 MiB\n",
      "23/05/27 17:24:42 WARN DAGScheduler: Broadcasting large task binary with size 2.1 MiB\n",
      "23/05/27 17:24:43 WARN DAGScheduler: Broadcasting large task binary with size 2.1 MiB\n",
      "23/05/27 17:24:47 WARN DAGScheduler: Broadcasting large task binary with size 2.1 MiB\n",
      "23/05/27 17:24:51 WARN DAGScheduler: Broadcasting large task binary with size 2.1 MiB\n",
      "23/05/27 17:24:51 WARN DAGScheduler: Broadcasting large task binary with size 2.1 MiB\n",
      "23/05/27 17:24:51 WARN DAGScheduler: Broadcasting large task binary with size 2.1 MiB\n",
      "23/05/27 17:24:51 WARN DAGScheduler: Broadcasting large task binary with size 2.1 MiB\n",
      "23/05/27 17:24:52 WARN DAGScheduler: Broadcasting large task binary with size 2.1 MiB\n",
      "23/05/27 17:24:52 WARN DAGScheduler: Broadcasting large task binary with size 2.1 MiB\n",
      "23/05/27 17:24:52 WARN DAGScheduler: Broadcasting large task binary with size 2.1 MiB\n",
      "23/05/27 17:24:52 WARN DAGScheduler: Broadcasting large task binary with size 2.1 MiB\n",
      "23/05/27 17:24:52 WARN DAGScheduler: Broadcasting large task binary with size 2.1 MiB\n",
      "23/05/27 17:24:52 WARN DAGScheduler: Broadcasting large task binary with size 2.1 MiB\n",
      "23/05/27 17:24:52 WARN DAGScheduler: Broadcasting large task binary with size 2.1 MiB\n",
      "23/05/27 17:24:53 WARN DAGScheduler: Broadcasting large task binary with size 2.1 MiB\n",
      "23/05/27 17:24:53 WARN DAGScheduler: Broadcasting large task binary with size 2.1 MiB\n",
      "23/05/27 17:24:53 WARN DAGScheduler: Broadcasting large task binary with size 2.1 MiB\n",
      "23/05/27 17:24:53 WARN DAGScheduler: Broadcasting large task binary with size 2.1 MiB\n",
      "23/05/27 17:24:53 WARN DAGScheduler: Broadcasting large task binary with size 2.1 MiB\n",
      "23/05/27 17:24:53 WARN DAGScheduler: Broadcasting large task binary with size 2.1 MiB\n",
      "23/05/27 17:24:53 WARN DAGScheduler: Broadcasting large task binary with size 2.1 MiB\n",
      "23/05/27 17:24:54 WARN DAGScheduler: Broadcasting large task binary with size 2.1 MiB\n",
      "23/05/27 17:24:54 WARN DAGScheduler: Broadcasting large task binary with size 2.1 MiB\n",
      "23/05/27 17:24:54 WARN DAGScheduler: Broadcasting large task binary with size 2.1 MiB\n",
      "23/05/27 17:24:54 WARN DAGScheduler: Broadcasting large task binary with size 2.1 MiB\n",
      "23/05/27 17:24:54 WARN DAGScheduler: Broadcasting large task binary with size 2.1 MiB\n",
      "23/05/27 17:24:55 WARN DAGScheduler: Broadcasting large task binary with size 2.1 MiB\n",
      "23/05/27 17:24:59 WARN DAGScheduler: Broadcasting large task binary with size 2.1 MiB\n",
      "23/05/27 17:25:03 WARN DAGScheduler: Broadcasting large task binary with size 2.1 MiB\n",
      "23/05/27 17:25:03 WARN DAGScheduler: Broadcasting large task binary with size 2.1 MiB\n",
      "23/05/27 17:25:03 WARN DAGScheduler: Broadcasting large task binary with size 2.1 MiB\n",
      "23/05/27 17:25:03 WARN DAGScheduler: Broadcasting large task binary with size 2.1 MiB\n",
      "23/05/27 17:25:04 WARN DAGScheduler: Broadcasting large task binary with size 2.1 MiB\n",
      "23/05/27 17:25:04 WARN DAGScheduler: Broadcasting large task binary with size 2.1 MiB\n",
      "23/05/27 17:25:04 WARN DAGScheduler: Broadcasting large task binary with size 2.1 MiB\n",
      "23/05/27 17:25:04 WARN DAGScheduler: Broadcasting large task binary with size 2.1 MiB\n",
      "23/05/27 17:25:04 WARN DAGScheduler: Broadcasting large task binary with size 2.1 MiB\n",
      "23/05/27 17:25:04 WARN DAGScheduler: Broadcasting large task binary with size 2.1 MiB\n",
      "23/05/27 17:25:04 WARN DAGScheduler: Broadcasting large task binary with size 2.1 MiB\n",
      "23/05/27 17:25:04 WARN DAGScheduler: Broadcasting large task binary with size 2.1 MiB\n",
      "23/05/27 17:25:05 WARN DAGScheduler: Broadcasting large task binary with size 2.1 MiB\n",
      "23/05/27 17:25:05 WARN DAGScheduler: Broadcasting large task binary with size 2.1 MiB\n",
      "23/05/27 17:25:05 WARN DAGScheduler: Broadcasting large task binary with size 2.1 MiB\n",
      "23/05/27 17:25:05 WARN DAGScheduler: Broadcasting large task binary with size 2.1 MiB\n",
      "23/05/27 17:25:05 WARN DAGScheduler: Broadcasting large task binary with size 2.1 MiB\n",
      "23/05/27 17:25:05 WARN DAGScheduler: Broadcasting large task binary with size 2.1 MiB\n",
      "23/05/27 17:25:05 WARN DAGScheduler: Broadcasting large task binary with size 2.1 MiB\n",
      "23/05/27 17:25:06 WARN DAGScheduler: Broadcasting large task binary with size 2.1 MiB\n",
      "23/05/27 17:25:06 WARN DAGScheduler: Broadcasting large task binary with size 2.1 MiB\n",
      "23/05/27 17:25:06 WARN DAGScheduler: Broadcasting large task binary with size 2.1 MiB\n",
      "23/05/27 17:25:07 WARN DAGScheduler: Broadcasting large task binary with size 2.1 MiB\n",
      "23/05/27 17:25:11 WARN DAGScheduler: Broadcasting large task binary with size 2.1 MiB\n",
      "23/05/27 17:25:15 WARN DAGScheduler: Broadcasting large task binary with size 2.1 MiB\n",
      "23/05/27 17:25:15 WARN DAGScheduler: Broadcasting large task binary with size 2.1 MiB\n",
      "23/05/27 17:25:16 WARN DAGScheduler: Broadcasting large task binary with size 2.1 MiB\n",
      "23/05/27 17:25:16 WARN DAGScheduler: Broadcasting large task binary with size 2.1 MiB\n",
      "23/05/27 17:25:16 WARN DAGScheduler: Broadcasting large task binary with size 2.1 MiB\n",
      "23/05/27 17:25:16 WARN DAGScheduler: Broadcasting large task binary with size 2.1 MiB\n",
      "23/05/27 17:25:16 WARN DAGScheduler: Broadcasting large task binary with size 2.1 MiB\n",
      "23/05/27 17:25:16 WARN DAGScheduler: Broadcasting large task binary with size 2.1 MiB\n",
      "23/05/27 17:25:16 WARN DAGScheduler: Broadcasting large task binary with size 2.1 MiB\n",
      "23/05/27 17:25:17 WARN DAGScheduler: Broadcasting large task binary with size 2.1 MiB\n",
      "23/05/27 17:25:17 WARN DAGScheduler: Broadcasting large task binary with size 2.1 MiB\n",
      "23/05/27 17:25:17 WARN DAGScheduler: Broadcasting large task binary with size 2.1 MiB\n",
      "23/05/27 17:25:17 WARN DAGScheduler: Broadcasting large task binary with size 2.1 MiB\n",
      "23/05/27 17:25:17 WARN DAGScheduler: Broadcasting large task binary with size 2.1 MiB\n",
      "23/05/27 17:25:17 WARN DAGScheduler: Broadcasting large task binary with size 2.1 MiB\n",
      "23/05/27 17:25:17 WARN DAGScheduler: Broadcasting large task binary with size 2.1 MiB\n",
      "23/05/27 17:25:18 WARN DAGScheduler: Broadcasting large task binary with size 2.1 MiB\n",
      "23/05/27 17:25:18 WARN DAGScheduler: Broadcasting large task binary with size 2.1 MiB\n",
      "23/05/27 17:25:18 WARN DAGScheduler: Broadcasting large task binary with size 2.1 MiB\n",
      "23/05/27 17:25:18 WARN DAGScheduler: Broadcasting large task binary with size 2.1 MiB\n",
      "23/05/27 17:25:18 WARN DAGScheduler: Broadcasting large task binary with size 2.1 MiB\n",
      "23/05/27 17:25:18 WARN DAGScheduler: Broadcasting large task binary with size 2.1 MiB\n",
      "23/05/27 17:25:18 WARN DAGScheduler: Broadcasting large task binary with size 2.1 MiB\n",
      "23/05/27 17:25:18 WARN DAGScheduler: Broadcasting large task binary with size 2.1 MiB\n",
      "23/05/27 17:25:19 WARN DAGScheduler: Broadcasting large task binary with size 2.1 MiB\n",
      "23/05/27 17:25:23 WARN DAGScheduler: Broadcasting large task binary with size 2.1 MiB\n",
      "23/05/27 17:25:27 WARN DAGScheduler: Broadcasting large task binary with size 2.1 MiB\n",
      "23/05/27 17:25:27 WARN DAGScheduler: Broadcasting large task binary with size 2.1 MiB\n",
      "23/05/27 17:25:28 WARN DAGScheduler: Broadcasting large task binary with size 2.1 MiB\n",
      "23/05/27 17:25:28 WARN DAGScheduler: Broadcasting large task binary with size 2.1 MiB\n",
      "23/05/27 17:25:28 WARN DAGScheduler: Broadcasting large task binary with size 2.1 MiB\n",
      "23/05/27 17:25:28 WARN DAGScheduler: Broadcasting large task binary with size 2.1 MiB\n",
      "23/05/27 17:25:28 WARN DAGScheduler: Broadcasting large task binary with size 2.1 MiB\n",
      "23/05/27 17:25:28 WARN DAGScheduler: Broadcasting large task binary with size 2.1 MiB\n",
      "23/05/27 17:25:28 WARN DAGScheduler: Broadcasting large task binary with size 2.1 MiB\n",
      "23/05/27 17:25:28 WARN DAGScheduler: Broadcasting large task binary with size 2.1 MiB\n",
      "23/05/27 17:25:29 WARN DAGScheduler: Broadcasting large task binary with size 2.1 MiB\n",
      "23/05/27 17:25:29 WARN DAGScheduler: Broadcasting large task binary with size 2.1 MiB\n",
      "23/05/27 17:25:29 WARN DAGScheduler: Broadcasting large task binary with size 2.1 MiB\n",
      "23/05/27 17:25:29 WARN DAGScheduler: Broadcasting large task binary with size 2.1 MiB\n",
      "23/05/27 17:25:29 WARN DAGScheduler: Broadcasting large task binary with size 2.1 MiB\n",
      "23/05/27 17:25:29 WARN DAGScheduler: Broadcasting large task binary with size 2.1 MiB\n",
      "23/05/27 17:25:29 WARN DAGScheduler: Broadcasting large task binary with size 2.1 MiB\n",
      "23/05/27 17:25:30 WARN DAGScheduler: Broadcasting large task binary with size 2.1 MiB\n",
      "23/05/27 17:25:30 WARN DAGScheduler: Broadcasting large task binary with size 2.1 MiB\n",
      "23/05/27 17:25:30 WARN DAGScheduler: Broadcasting large task binary with size 2.1 MiB\n",
      "23/05/27 17:25:30 WARN DAGScheduler: Broadcasting large task binary with size 2.1 MiB\n",
      "23/05/27 17:25:30 WARN DAGScheduler: Broadcasting large task binary with size 2.1 MiB\n",
      "23/05/27 17:25:31 WARN DAGScheduler: Broadcasting large task binary with size 2.1 MiB\n",
      "23/05/27 17:25:35 WARN DAGScheduler: Broadcasting large task binary with size 2.1 MiB\n",
      "23/05/27 17:25:39 WARN DAGScheduler: Broadcasting large task binary with size 2.1 MiB\n",
      "23/05/27 17:25:39 WARN DAGScheduler: Broadcasting large task binary with size 2.1 MiB\n",
      "23/05/27 17:25:39 WARN DAGScheduler: Broadcasting large task binary with size 2.1 MiB\n",
      "23/05/27 17:25:39 WARN DAGScheduler: Broadcasting large task binary with size 2.1 MiB\n",
      "23/05/27 17:25:39 WARN DAGScheduler: Broadcasting large task binary with size 2.1 MiB\n",
      "23/05/27 17:25:40 WARN DAGScheduler: Broadcasting large task binary with size 2.1 MiB\n",
      "23/05/27 17:25:40 WARN DAGScheduler: Broadcasting large task binary with size 2.1 MiB\n",
      "23/05/27 17:25:40 WARN DAGScheduler: Broadcasting large task binary with size 2.1 MiB\n",
      "23/05/27 17:25:40 WARN DAGScheduler: Broadcasting large task binary with size 2.1 MiB\n",
      "23/05/27 17:25:40 WARN DAGScheduler: Broadcasting large task binary with size 2.1 MiB\n",
      "23/05/27 17:25:40 WARN DAGScheduler: Broadcasting large task binary with size 2.1 MiB\n",
      "23/05/27 17:25:40 WARN DAGScheduler: Broadcasting large task binary with size 2.1 MiB\n",
      "23/05/27 17:25:41 WARN DAGScheduler: Broadcasting large task binary with size 2.1 MiB\n",
      "23/05/27 17:25:41 WARN DAGScheduler: Broadcasting large task binary with size 2.1 MiB\n",
      "23/05/27 17:25:41 WARN DAGScheduler: Broadcasting large task binary with size 2.1 MiB\n",
      "23/05/27 17:25:41 WARN DAGScheduler: Broadcasting large task binary with size 2.1 MiB\n",
      "23/05/27 17:25:41 WARN DAGScheduler: Broadcasting large task binary with size 2.1 MiB\n",
      "23/05/27 17:25:41 WARN DAGScheduler: Broadcasting large task binary with size 2.1 MiB\n",
      "23/05/27 17:25:41 WARN DAGScheduler: Broadcasting large task binary with size 2.1 MiB\n",
      "23/05/27 17:25:42 WARN DAGScheduler: Broadcasting large task binary with size 2.1 MiB\n",
      "23/05/27 17:25:42 WARN DAGScheduler: Broadcasting large task binary with size 2.1 MiB\n",
      "23/05/27 17:25:42 WARN DAGScheduler: Broadcasting large task binary with size 2.1 MiB\n",
      "23/05/27 17:25:42 WARN DAGScheduler: Broadcasting large task binary with size 2.1 MiB\n",
      "23/05/27 17:25:42 WARN DAGScheduler: Broadcasting large task binary with size 2.1 MiB\n",
      "23/05/27 17:25:43 WARN DAGScheduler: Broadcasting large task binary with size 2.1 MiB\n",
      "23/05/27 17:25:47 WARN DAGScheduler: Broadcasting large task binary with size 2.1 MiB\n",
      "23/05/27 17:25:51 WARN DAGScheduler: Broadcasting large task binary with size 2.1 MiB\n",
      "23/05/27 17:25:51 WARN DAGScheduler: Broadcasting large task binary with size 2.1 MiB\n",
      "23/05/27 17:25:51 WARN DAGScheduler: Broadcasting large task binary with size 2.1 MiB\n",
      "23/05/27 17:25:51 WARN DAGScheduler: Broadcasting large task binary with size 2.1 MiB\n",
      "23/05/27 17:25:51 WARN DAGScheduler: Broadcasting large task binary with size 2.1 MiB\n",
      "23/05/27 17:25:52 WARN DAGScheduler: Broadcasting large task binary with size 2.1 MiB\n",
      "23/05/27 17:25:52 WARN DAGScheduler: Broadcasting large task binary with size 2.1 MiB\n",
      "23/05/27 17:25:52 WARN DAGScheduler: Broadcasting large task binary with size 2.1 MiB\n",
      "23/05/27 17:25:52 WARN DAGScheduler: Broadcasting large task binary with size 2.1 MiB\n",
      "23/05/27 17:25:52 WARN DAGScheduler: Broadcasting large task binary with size 2.1 MiB\n",
      "23/05/27 17:25:52 WARN DAGScheduler: Broadcasting large task binary with size 2.1 MiB\n",
      "23/05/27 17:25:52 WARN DAGScheduler: Broadcasting large task binary with size 2.1 MiB\n",
      "23/05/27 17:25:52 WARN DAGScheduler: Broadcasting large task binary with size 2.1 MiB\n",
      "23/05/27 17:25:53 WARN DAGScheduler: Broadcasting large task binary with size 2.1 MiB\n",
      "23/05/27 17:25:53 WARN DAGScheduler: Broadcasting large task binary with size 2.1 MiB\n",
      "23/05/27 17:25:53 WARN DAGScheduler: Broadcasting large task binary with size 2.1 MiB\n",
      "23/05/27 17:25:53 WARN DAGScheduler: Broadcasting large task binary with size 2.1 MiB\n",
      "23/05/27 17:25:53 WARN DAGScheduler: Broadcasting large task binary with size 2.1 MiB\n",
      "23/05/27 17:25:53 WARN DAGScheduler: Broadcasting large task binary with size 2.1 MiB\n",
      "23/05/27 17:25:53 WARN DAGScheduler: Broadcasting large task binary with size 2.1 MiB\n",
      "23/05/27 17:25:54 WARN DAGScheduler: Broadcasting large task binary with size 2.1 MiB\n",
      "23/05/27 17:25:54 WARN DAGScheduler: Broadcasting large task binary with size 2.1 MiB\n",
      "23/05/27 17:25:54 WARN DAGScheduler: Broadcasting large task binary with size 2.1 MiB\n",
      "23/05/27 17:25:54 WARN DAGScheduler: Broadcasting large task binary with size 2.1 MiB\n",
      "23/05/27 17:25:59 WARN DAGScheduler: Broadcasting large task binary with size 2.1 MiB\n",
      "23/05/27 17:26:03 WARN DAGScheduler: Broadcasting large task binary with size 2.1 MiB\n",
      "23/05/27 17:26:03 WARN DAGScheduler: Broadcasting large task binary with size 2.1 MiB\n",
      "23/05/27 17:26:03 WARN DAGScheduler: Broadcasting large task binary with size 2.1 MiB\n",
      "23/05/27 17:26:04 WARN DAGScheduler: Broadcasting large task binary with size 2.1 MiB\n",
      "23/05/27 17:26:04 WARN DAGScheduler: Broadcasting large task binary with size 2.1 MiB\n",
      "23/05/27 17:26:04 WARN DAGScheduler: Broadcasting large task binary with size 2.1 MiB\n",
      "23/05/27 17:26:04 WARN DAGScheduler: Broadcasting large task binary with size 2.1 MiB\n",
      "23/05/27 17:26:04 WARN DAGScheduler: Broadcasting large task binary with size 2.1 MiB\n",
      "23/05/27 17:26:04 WARN DAGScheduler: Broadcasting large task binary with size 2.1 MiB\n",
      "23/05/27 17:26:04 WARN DAGScheduler: Broadcasting large task binary with size 2.1 MiB\n",
      "23/05/27 17:26:05 WARN DAGScheduler: Broadcasting large task binary with size 2.1 MiB\n",
      "23/05/27 17:26:05 WARN DAGScheduler: Broadcasting large task binary with size 2.1 MiB\n",
      "23/05/27 17:26:05 WARN DAGScheduler: Broadcasting large task binary with size 2.1 MiB\n",
      "23/05/27 17:26:05 WARN DAGScheduler: Broadcasting large task binary with size 2.1 MiB\n",
      "23/05/27 17:26:05 WARN DAGScheduler: Broadcasting large task binary with size 2.1 MiB\n",
      "23/05/27 17:26:05 WARN DAGScheduler: Broadcasting large task binary with size 2.1 MiB\n",
      "23/05/27 17:26:05 WARN DAGScheduler: Broadcasting large task binary with size 2.1 MiB\n",
      "23/05/27 17:26:06 WARN DAGScheduler: Broadcasting large task binary with size 2.1 MiB\n",
      "23/05/27 17:26:06 WARN DAGScheduler: Broadcasting large task binary with size 2.1 MiB\n",
      "23/05/27 17:26:06 WARN DAGScheduler: Broadcasting large task binary with size 2.1 MiB\n",
      "23/05/27 17:26:06 WARN DAGScheduler: Broadcasting large task binary with size 2.1 MiB\n",
      "23/05/27 17:26:06 WARN DAGScheduler: Broadcasting large task binary with size 2.1 MiB\n",
      "23/05/27 17:26:06 WARN DAGScheduler: Broadcasting large task binary with size 2.1 MiB\n",
      "23/05/27 17:26:07 WARN DAGScheduler: Broadcasting large task binary with size 2.1 MiB\n",
      "23/05/27 17:26:11 WARN DAGScheduler: Broadcasting large task binary with size 2.1 MiB\n",
      "23/05/27 17:26:15 WARN DAGScheduler: Broadcasting large task binary with size 2.1 MiB\n",
      "23/05/27 17:26:15 WARN DAGScheduler: Broadcasting large task binary with size 2.1 MiB\n",
      "23/05/27 17:26:15 WARN DAGScheduler: Broadcasting large task binary with size 2.1 MiB\n",
      "23/05/27 17:26:15 WARN DAGScheduler: Broadcasting large task binary with size 2.1 MiB\n",
      "23/05/27 17:26:16 WARN DAGScheduler: Broadcasting large task binary with size 2.1 MiB\n",
      "23/05/27 17:26:16 WARN DAGScheduler: Broadcasting large task binary with size 2.1 MiB\n",
      "23/05/27 17:26:16 WARN DAGScheduler: Broadcasting large task binary with size 2.1 MiB\n",
      "23/05/27 17:26:16 WARN DAGScheduler: Broadcasting large task binary with size 2.1 MiB\n",
      "23/05/27 17:26:16 WARN DAGScheduler: Broadcasting large task binary with size 2.1 MiB\n",
      "23/05/27 17:26:16 WARN DAGScheduler: Broadcasting large task binary with size 2.1 MiB\n",
      "23/05/27 17:26:16 WARN DAGScheduler: Broadcasting large task binary with size 2.1 MiB\n",
      "23/05/27 17:26:17 WARN DAGScheduler: Broadcasting large task binary with size 2.1 MiB\n",
      "23/05/27 17:26:17 WARN DAGScheduler: Broadcasting large task binary with size 2.1 MiB\n",
      "23/05/27 17:26:17 WARN DAGScheduler: Broadcasting large task binary with size 2.1 MiB\n",
      "23/05/27 17:26:17 WARN DAGScheduler: Broadcasting large task binary with size 2.1 MiB\n",
      "23/05/27 17:26:17 WARN DAGScheduler: Broadcasting large task binary with size 2.1 MiB\n",
      "23/05/27 17:26:17 WARN DAGScheduler: Broadcasting large task binary with size 2.1 MiB\n",
      "23/05/27 17:26:17 WARN DAGScheduler: Broadcasting large task binary with size 2.1 MiB\n",
      "23/05/27 17:26:18 WARN DAGScheduler: Broadcasting large task binary with size 2.1 MiB\n",
      "23/05/27 17:26:18 WARN DAGScheduler: Broadcasting large task binary with size 2.1 MiB\n",
      "23/05/27 17:26:18 WARN DAGScheduler: Broadcasting large task binary with size 2.1 MiB\n",
      "23/05/27 17:26:18 WARN DAGScheduler: Broadcasting large task binary with size 2.1 MiB\n",
      "23/05/27 17:26:18 WARN DAGScheduler: Broadcasting large task binary with size 2.1 MiB\n",
      "23/05/27 17:26:19 WARN DAGScheduler: Broadcasting large task binary with size 2.1 MiB\n",
      "23/05/27 17:26:23 WARN DAGScheduler: Broadcasting large task binary with size 2.1 MiB\n",
      "23/05/27 17:26:28 WARN DAGScheduler: Broadcasting large task binary with size 2.1 MiB\n",
      "23/05/27 17:26:28 WARN DAGScheduler: Broadcasting large task binary with size 2.1 MiB\n",
      "23/05/27 17:26:28 WARN DAGScheduler: Broadcasting large task binary with size 2.1 MiB\n",
      "23/05/27 17:26:28 WARN DAGScheduler: Broadcasting large task binary with size 2.1 MiB\n",
      "23/05/27 17:26:28 WARN DAGScheduler: Broadcasting large task binary with size 2.1 MiB\n",
      "23/05/27 17:26:28 WARN DAGScheduler: Broadcasting large task binary with size 2.1 MiB\n",
      "23/05/27 17:26:28 WARN DAGScheduler: Broadcasting large task binary with size 2.1 MiB\n",
      "23/05/27 17:26:29 WARN DAGScheduler: Broadcasting large task binary with size 2.1 MiB\n",
      "23/05/27 17:26:29 WARN DAGScheduler: Broadcasting large task binary with size 2.1 MiB\n",
      "23/05/27 17:26:29 WARN DAGScheduler: Broadcasting large task binary with size 2.1 MiB\n",
      "23/05/27 17:26:29 WARN DAGScheduler: Broadcasting large task binary with size 2.1 MiB\n",
      "23/05/27 17:26:29 WARN DAGScheduler: Broadcasting large task binary with size 2.1 MiB\n",
      "23/05/27 17:26:29 WARN DAGScheduler: Broadcasting large task binary with size 2.1 MiB\n",
      "23/05/27 17:26:29 WARN DAGScheduler: Broadcasting large task binary with size 2.1 MiB\n",
      "23/05/27 17:26:30 WARN DAGScheduler: Broadcasting large task binary with size 2.1 MiB\n",
      "23/05/27 17:26:30 WARN DAGScheduler: Broadcasting large task binary with size 2.1 MiB\n",
      "23/05/27 17:26:30 WARN DAGScheduler: Broadcasting large task binary with size 2.1 MiB\n",
      "23/05/27 17:26:30 WARN DAGScheduler: Broadcasting large task binary with size 2.1 MiB\n",
      "23/05/27 17:26:30 WARN DAGScheduler: Broadcasting large task binary with size 2.1 MiB\n",
      "23/05/27 17:26:30 WARN DAGScheduler: Broadcasting large task binary with size 2.1 MiB\n",
      "23/05/27 17:26:30 WARN DAGScheduler: Broadcasting large task binary with size 2.1 MiB\n",
      "23/05/27 17:26:31 WARN DAGScheduler: Broadcasting large task binary with size 2.1 MiB\n",
      "23/05/27 17:26:35 WARN DAGScheduler: Broadcasting large task binary with size 2.1 MiB\n",
      "23/05/27 17:26:40 WARN DAGScheduler: Broadcasting large task binary with size 2.1 MiB\n",
      "23/05/27 17:26:40 WARN DAGScheduler: Broadcasting large task binary with size 2.1 MiB\n",
      "23/05/27 17:26:40 WARN DAGScheduler: Broadcasting large task binary with size 2.1 MiB\n",
      "23/05/27 17:26:40 WARN DAGScheduler: Broadcasting large task binary with size 2.1 MiB\n",
      "23/05/27 17:26:40 WARN DAGScheduler: Broadcasting large task binary with size 2.1 MiB\n",
      "23/05/27 17:26:40 WARN DAGScheduler: Broadcasting large task binary with size 2.1 MiB\n",
      "23/05/27 17:26:40 WARN DAGScheduler: Broadcasting large task binary with size 2.1 MiB\n",
      "23/05/27 17:26:40 WARN DAGScheduler: Broadcasting large task binary with size 2.1 MiB\n",
      "23/05/27 17:26:41 WARN DAGScheduler: Broadcasting large task binary with size 2.1 MiB\n",
      "23/05/27 17:26:41 WARN DAGScheduler: Broadcasting large task binary with size 2.1 MiB\n",
      "23/05/27 17:26:41 WARN DAGScheduler: Broadcasting large task binary with size 2.1 MiB\n",
      "23/05/27 17:26:41 WARN DAGScheduler: Broadcasting large task binary with size 2.1 MiB\n",
      "23/05/27 17:26:41 WARN DAGScheduler: Broadcasting large task binary with size 2.1 MiB\n",
      "23/05/27 17:26:41 WARN DAGScheduler: Broadcasting large task binary with size 2.1 MiB\n",
      "23/05/27 17:26:41 WARN DAGScheduler: Broadcasting large task binary with size 2.1 MiB\n",
      "23/05/27 17:26:42 WARN DAGScheduler: Broadcasting large task binary with size 2.1 MiB\n",
      "23/05/27 17:26:42 WARN DAGScheduler: Broadcasting large task binary with size 2.1 MiB\n",
      "23/05/27 17:26:42 WARN DAGScheduler: Broadcasting large task binary with size 2.1 MiB\n",
      "23/05/27 17:26:42 WARN DAGScheduler: Broadcasting large task binary with size 2.1 MiB\n",
      "23/05/27 17:26:42 WARN DAGScheduler: Broadcasting large task binary with size 2.1 MiB\n",
      "23/05/27 17:26:42 WARN DAGScheduler: Broadcasting large task binary with size 2.1 MiB\n",
      "23/05/27 17:26:42 WARN DAGScheduler: Broadcasting large task binary with size 2.1 MiB\n",
      "23/05/27 17:26:43 WARN DAGScheduler: Broadcasting large task binary with size 2.1 MiB\n",
      "23/05/27 17:26:43 WARN DAGScheduler: Broadcasting large task binary with size 2.1 MiB\n",
      "23/05/27 17:26:43 WARN DAGScheduler: Broadcasting large task binary with size 2.1 MiB\n",
      "23/05/27 17:26:48 WARN DAGScheduler: Broadcasting large task binary with size 2.1 MiB\n",
      "23/05/27 17:26:52 WARN DAGScheduler: Broadcasting large task binary with size 2.1 MiB\n",
      "23/05/27 17:26:52 WARN DAGScheduler: Broadcasting large task binary with size 2.1 MiB\n",
      "23/05/27 17:26:52 WARN DAGScheduler: Broadcasting large task binary with size 2.1 MiB\n",
      "23/05/27 17:26:52 WARN DAGScheduler: Broadcasting large task binary with size 2.1 MiB\n",
      "23/05/27 17:26:52 WARN DAGScheduler: Broadcasting large task binary with size 2.1 MiB\n",
      "23/05/27 17:26:53 WARN DAGScheduler: Broadcasting large task binary with size 2.1 MiB\n",
      "23/05/27 17:26:53 WARN DAGScheduler: Broadcasting large task binary with size 2.1 MiB\n",
      "23/05/27 17:26:53 WARN DAGScheduler: Broadcasting large task binary with size 2.1 MiB\n",
      "23/05/27 17:26:53 WARN DAGScheduler: Broadcasting large task binary with size 2.1 MiB\n",
      "23/05/27 17:26:53 WARN DAGScheduler: Broadcasting large task binary with size 2.1 MiB\n",
      "23/05/27 17:26:53 WARN DAGScheduler: Broadcasting large task binary with size 2.1 MiB\n",
      "23/05/27 17:26:53 WARN DAGScheduler: Broadcasting large task binary with size 2.1 MiB\n",
      "23/05/27 17:26:54 WARN DAGScheduler: Broadcasting large task binary with size 2.1 MiB\n",
      "23/05/27 17:26:54 WARN DAGScheduler: Broadcasting large task binary with size 2.1 MiB\n",
      "23/05/27 17:26:54 WARN DAGScheduler: Broadcasting large task binary with size 2.1 MiB\n",
      "23/05/27 17:26:54 WARN DAGScheduler: Broadcasting large task binary with size 2.1 MiB\n",
      "23/05/27 17:26:54 WARN DAGScheduler: Broadcasting large task binary with size 2.1 MiB\n",
      "23/05/27 17:26:54 WARN DAGScheduler: Broadcasting large task binary with size 2.1 MiB\n",
      "23/05/27 17:26:54 WARN DAGScheduler: Broadcasting large task binary with size 2.1 MiB\n",
      "23/05/27 17:26:55 WARN DAGScheduler: Broadcasting large task binary with size 2.1 MiB\n",
      "23/05/27 17:26:55 WARN DAGScheduler: Broadcasting large task binary with size 2.1 MiB\n",
      "23/05/27 17:26:55 WARN DAGScheduler: Broadcasting large task binary with size 2.1 MiB\n",
      "23/05/27 17:26:55 WARN DAGScheduler: Broadcasting large task binary with size 2.1 MiB\n",
      "23/05/27 17:26:55 WARN DAGScheduler: Broadcasting large task binary with size 2.1 MiB\n",
      "23/05/27 17:26:56 WARN DAGScheduler: Broadcasting large task binary with size 2.1 MiB\n",
      "23/05/27 17:27:00 WARN DAGScheduler: Broadcasting large task binary with size 2.1 MiB\n",
      "23/05/27 17:27:04 WARN DAGScheduler: Broadcasting large task binary with size 2.1 MiB\n",
      "23/05/27 17:27:04 WARN DAGScheduler: Broadcasting large task binary with size 2.1 MiB\n",
      "23/05/27 17:27:04 WARN DAGScheduler: Broadcasting large task binary with size 2.1 MiB\n",
      "23/05/27 17:27:04 WARN DAGScheduler: Broadcasting large task binary with size 2.1 MiB\n",
      "23/05/27 17:27:04 WARN DAGScheduler: Broadcasting large task binary with size 2.1 MiB\n",
      "23/05/27 17:27:05 WARN DAGScheduler: Broadcasting large task binary with size 2.1 MiB\n",
      "23/05/27 17:27:05 WARN DAGScheduler: Broadcasting large task binary with size 2.1 MiB\n",
      "23/05/27 17:27:05 WARN DAGScheduler: Broadcasting large task binary with size 2.1 MiB\n",
      "23/05/27 17:27:05 WARN DAGScheduler: Broadcasting large task binary with size 2.1 MiB\n",
      "23/05/27 17:27:05 WARN DAGScheduler: Broadcasting large task binary with size 2.1 MiB\n",
      "23/05/27 17:27:05 WARN DAGScheduler: Broadcasting large task binary with size 2.1 MiB\n",
      "23/05/27 17:27:05 WARN DAGScheduler: Broadcasting large task binary with size 2.1 MiB\n",
      "23/05/27 17:27:05 WARN DAGScheduler: Broadcasting large task binary with size 2.1 MiB\n",
      "23/05/27 17:27:06 WARN DAGScheduler: Broadcasting large task binary with size 2.1 MiB\n",
      "23/05/27 17:27:06 WARN DAGScheduler: Broadcasting large task binary with size 2.1 MiB\n",
      "23/05/27 17:27:06 WARN DAGScheduler: Broadcasting large task binary with size 2.1 MiB\n",
      "23/05/27 17:27:06 WARN DAGScheduler: Broadcasting large task binary with size 2.1 MiB\n",
      "23/05/27 17:27:06 WARN DAGScheduler: Broadcasting large task binary with size 2.1 MiB\n",
      "23/05/27 17:27:06 WARN DAGScheduler: Broadcasting large task binary with size 2.1 MiB\n",
      "23/05/27 17:27:06 WARN DAGScheduler: Broadcasting large task binary with size 2.1 MiB\n",
      "23/05/27 17:27:07 WARN DAGScheduler: Broadcasting large task binary with size 2.1 MiB\n",
      "23/05/27 17:27:07 WARN DAGScheduler: Broadcasting large task binary with size 2.1 MiB\n",
      "23/05/27 17:27:07 WARN DAGScheduler: Broadcasting large task binary with size 2.1 MiB\n",
      "23/05/27 17:27:07 WARN DAGScheduler: Broadcasting large task binary with size 2.1 MiB\n",
      "23/05/27 17:27:08 WARN DAGScheduler: Broadcasting large task binary with size 2.1 MiB\n",
      "23/05/27 17:27:12 WARN DAGScheduler: Broadcasting large task binary with size 2.1 MiB\n",
      "23/05/27 17:27:16 WARN DAGScheduler: Broadcasting large task binary with size 2.1 MiB\n",
      "23/05/27 17:27:16 WARN DAGScheduler: Broadcasting large task binary with size 2.1 MiB\n",
      "23/05/27 17:27:16 WARN DAGScheduler: Broadcasting large task binary with size 2.1 MiB\n",
      "23/05/27 17:27:16 WARN DAGScheduler: Broadcasting large task binary with size 2.1 MiB\n",
      "23/05/27 17:27:17 WARN DAGScheduler: Broadcasting large task binary with size 2.1 MiB\n",
      "23/05/27 17:27:17 WARN DAGScheduler: Broadcasting large task binary with size 2.1 MiB\n",
      "23/05/27 17:27:17 WARN DAGScheduler: Broadcasting large task binary with size 2.1 MiB\n",
      "23/05/27 17:27:17 WARN DAGScheduler: Broadcasting large task binary with size 2.1 MiB\n",
      "23/05/27 17:27:17 WARN DAGScheduler: Broadcasting large task binary with size 2.1 MiB\n",
      "23/05/27 17:27:17 WARN DAGScheduler: Broadcasting large task binary with size 2.1 MiB\n",
      "23/05/27 17:27:17 WARN DAGScheduler: Broadcasting large task binary with size 2.1 MiB\n",
      "23/05/27 17:27:18 WARN DAGScheduler: Broadcasting large task binary with size 2.1 MiB\n",
      "23/05/27 17:27:18 WARN DAGScheduler: Broadcasting large task binary with size 2.1 MiB\n",
      "23/05/27 17:27:18 WARN DAGScheduler: Broadcasting large task binary with size 2.1 MiB\n",
      "23/05/27 17:27:18 WARN DAGScheduler: Broadcasting large task binary with size 2.1 MiB\n",
      "23/05/27 17:27:18 WARN DAGScheduler: Broadcasting large task binary with size 2.1 MiB\n",
      "23/05/27 17:27:18 WARN DAGScheduler: Broadcasting large task binary with size 2.1 MiB\n",
      "23/05/27 17:27:18 WARN DAGScheduler: Broadcasting large task binary with size 2.1 MiB\n",
      "23/05/27 17:27:18 WARN DAGScheduler: Broadcasting large task binary with size 2.1 MiB\n",
      "23/05/27 17:27:19 WARN DAGScheduler: Broadcasting large task binary with size 2.1 MiB\n",
      "23/05/27 17:27:19 WARN DAGScheduler: Broadcasting large task binary with size 2.1 MiB\n",
      "23/05/27 17:27:19 WARN DAGScheduler: Broadcasting large task binary with size 2.1 MiB\n",
      "23/05/27 17:27:19 WARN DAGScheduler: Broadcasting large task binary with size 2.1 MiB\n",
      "23/05/27 17:27:19 WARN DAGScheduler: Broadcasting large task binary with size 2.1 MiB\n",
      "23/05/27 17:27:20 WARN DAGScheduler: Broadcasting large task binary with size 2.1 MiB\n",
      "23/05/27 17:27:24 WARN DAGScheduler: Broadcasting large task binary with size 2.1 MiB\n",
      "23/05/27 17:27:28 WARN DAGScheduler: Broadcasting large task binary with size 2.1 MiB\n",
      "23/05/27 17:27:28 WARN DAGScheduler: Broadcasting large task binary with size 2.1 MiB\n",
      "23/05/27 17:27:28 WARN DAGScheduler: Broadcasting large task binary with size 2.1 MiB\n",
      "23/05/27 17:27:28 WARN DAGScheduler: Broadcasting large task binary with size 2.1 MiB\n",
      "23/05/27 17:27:28 WARN DAGScheduler: Broadcasting large task binary with size 2.1 MiB\n",
      "23/05/27 17:27:29 WARN DAGScheduler: Broadcasting large task binary with size 2.1 MiB\n",
      "23/05/27 17:27:29 WARN DAGScheduler: Broadcasting large task binary with size 2.1 MiB\n",
      "23/05/27 17:27:29 WARN DAGScheduler: Broadcasting large task binary with size 2.1 MiB\n",
      "23/05/27 17:27:29 WARN DAGScheduler: Broadcasting large task binary with size 2.1 MiB\n",
      "23/05/27 17:27:29 WARN DAGScheduler: Broadcasting large task binary with size 2.1 MiB\n",
      "23/05/27 17:27:29 WARN DAGScheduler: Broadcasting large task binary with size 2.1 MiB\n",
      "23/05/27 17:27:29 WARN DAGScheduler: Broadcasting large task binary with size 2.1 MiB\n",
      "23/05/27 17:27:29 WARN DAGScheduler: Broadcasting large task binary with size 2.1 MiB\n",
      "23/05/27 17:27:30 WARN DAGScheduler: Broadcasting large task binary with size 2.1 MiB\n",
      "23/05/27 17:27:30 WARN DAGScheduler: Broadcasting large task binary with size 2.1 MiB\n",
      "23/05/27 17:27:30 WARN DAGScheduler: Broadcasting large task binary with size 2.1 MiB\n",
      "23/05/27 17:27:30 WARN DAGScheduler: Broadcasting large task binary with size 2.1 MiB\n",
      "23/05/27 17:27:30 WARN DAGScheduler: Broadcasting large task binary with size 2.1 MiB\n",
      "23/05/27 17:27:30 WARN DAGScheduler: Broadcasting large task binary with size 2.1 MiB\n",
      "23/05/27 17:27:30 WARN DAGScheduler: Broadcasting large task binary with size 2.1 MiB\n",
      "23/05/27 17:27:31 WARN DAGScheduler: Broadcasting large task binary with size 2.1 MiB\n",
      "23/05/27 17:27:31 WARN DAGScheduler: Broadcasting large task binary with size 2.1 MiB\n",
      "23/05/27 17:27:31 WARN DAGScheduler: Broadcasting large task binary with size 2.1 MiB\n",
      "23/05/27 17:27:31 WARN DAGScheduler: Broadcasting large task binary with size 2.1 MiB\n",
      "23/05/27 17:27:36 WARN DAGScheduler: Broadcasting large task binary with size 2.1 MiB\n",
      "23/05/27 17:27:40 WARN DAGScheduler: Broadcasting large task binary with size 2.1 MiB\n",
      "23/05/27 17:27:40 WARN DAGScheduler: Broadcasting large task binary with size 2.1 MiB\n",
      "23/05/27 17:27:40 WARN DAGScheduler: Broadcasting large task binary with size 2.1 MiB\n",
      "23/05/27 17:27:41 WARN DAGScheduler: Broadcasting large task binary with size 2.1 MiB\n",
      "23/05/27 17:27:41 WARN DAGScheduler: Broadcasting large task binary with size 2.1 MiB\n",
      "23/05/27 17:27:41 WARN DAGScheduler: Broadcasting large task binary with size 2.1 MiB\n",
      "23/05/27 17:27:41 WARN DAGScheduler: Broadcasting large task binary with size 2.1 MiB\n",
      "23/05/27 17:27:41 WARN DAGScheduler: Broadcasting large task binary with size 2.1 MiB\n",
      "23/05/27 17:27:41 WARN DAGScheduler: Broadcasting large task binary with size 2.1 MiB\n",
      "23/05/27 17:27:41 WARN DAGScheduler: Broadcasting large task binary with size 2.1 MiB\n",
      "23/05/27 17:27:41 WARN DAGScheduler: Broadcasting large task binary with size 2.1 MiB\n",
      "23/05/27 17:27:42 WARN DAGScheduler: Broadcasting large task binary with size 2.1 MiB\n",
      "23/05/27 17:27:42 WARN DAGScheduler: Broadcasting large task binary with size 2.1 MiB\n",
      "23/05/27 17:27:42 WARN DAGScheduler: Broadcasting large task binary with size 2.1 MiB\n",
      "23/05/27 17:27:42 WARN DAGScheduler: Broadcasting large task binary with size 2.1 MiB\n",
      "23/05/27 17:27:42 WARN DAGScheduler: Broadcasting large task binary with size 2.1 MiB\n",
      "23/05/27 17:27:42 WARN DAGScheduler: Broadcasting large task binary with size 2.1 MiB\n",
      "23/05/27 17:27:42 WARN DAGScheduler: Broadcasting large task binary with size 2.1 MiB\n",
      "23/05/27 17:27:43 WARN DAGScheduler: Broadcasting large task binary with size 2.1 MiB\n",
      "23/05/27 17:27:43 WARN DAGScheduler: Broadcasting large task binary with size 2.1 MiB\n",
      "23/05/27 17:27:43 WARN DAGScheduler: Broadcasting large task binary with size 2.1 MiB\n",
      "23/05/27 17:27:43 WARN DAGScheduler: Broadcasting large task binary with size 2.1 MiB\n",
      "23/05/27 17:27:43 WARN DAGScheduler: Broadcasting large task binary with size 2.1 MiB\n",
      "23/05/27 17:27:43 WARN DAGScheduler: Broadcasting large task binary with size 2.1 MiB\n",
      "23/05/27 17:27:44 WARN DAGScheduler: Broadcasting large task binary with size 2.1 MiB\n",
      "23/05/27 17:27:48 WARN DAGScheduler: Broadcasting large task binary with size 2.1 MiB\n",
      "23/05/27 17:27:52 WARN DAGScheduler: Broadcasting large task binary with size 2.1 MiB\n",
      "23/05/27 17:27:53 WARN DAGScheduler: Broadcasting large task binary with size 2.1 MiB\n",
      "23/05/27 17:27:53 WARN DAGScheduler: Broadcasting large task binary with size 2.1 MiB\n",
      "23/05/27 17:27:53 WARN DAGScheduler: Broadcasting large task binary with size 2.1 MiB\n",
      "23/05/27 17:27:53 WARN DAGScheduler: Broadcasting large task binary with size 2.1 MiB\n",
      "23/05/27 17:27:53 WARN DAGScheduler: Broadcasting large task binary with size 2.1 MiB\n",
      "23/05/27 17:27:53 WARN DAGScheduler: Broadcasting large task binary with size 2.1 MiB\n",
      "23/05/27 17:27:53 WARN DAGScheduler: Broadcasting large task binary with size 2.1 MiB\n",
      "23/05/27 17:27:53 WARN DAGScheduler: Broadcasting large task binary with size 2.1 MiB\n",
      "23/05/27 17:27:54 WARN DAGScheduler: Broadcasting large task binary with size 2.1 MiB\n",
      "23/05/27 17:27:54 WARN DAGScheduler: Broadcasting large task binary with size 2.1 MiB\n",
      "23/05/27 17:27:54 WARN DAGScheduler: Broadcasting large task binary with size 2.1 MiB\n",
      "23/05/27 17:27:54 WARN DAGScheduler: Broadcasting large task binary with size 2.1 MiB\n",
      "23/05/27 17:27:54 WARN DAGScheduler: Broadcasting large task binary with size 2.1 MiB\n",
      "23/05/27 17:27:54 WARN DAGScheduler: Broadcasting large task binary with size 2.1 MiB\n",
      "23/05/27 17:27:54 WARN DAGScheduler: Broadcasting large task binary with size 2.1 MiB\n",
      "23/05/27 17:27:55 WARN DAGScheduler: Broadcasting large task binary with size 2.1 MiB\n",
      "23/05/27 17:27:55 WARN DAGScheduler: Broadcasting large task binary with size 2.1 MiB\n",
      "23/05/27 17:27:55 WARN DAGScheduler: Broadcasting large task binary with size 2.1 MiB\n",
      "23/05/27 17:27:55 WARN DAGScheduler: Broadcasting large task binary with size 2.1 MiB\n",
      "23/05/27 17:27:55 WARN DAGScheduler: Broadcasting large task binary with size 2.1 MiB\n",
      "23/05/27 17:27:55 WARN DAGScheduler: Broadcasting large task binary with size 2.1 MiB\n",
      "23/05/27 17:27:55 WARN DAGScheduler: Broadcasting large task binary with size 2.1 MiB\n",
      "23/05/27 17:27:55 WARN DAGScheduler: Broadcasting large task binary with size 2.1 MiB\n"
     ]
    }
   ],
   "source": [
    "# Fit the pipeline to the training data\n",
    "pipeline_model = pipeline.fit(training_data)"
   ]
  },
  {
   "cell_type": "code",
   "execution_count": 20,
   "metadata": {
    "ExecuteTime": {
     "end_time": "2023-05-27T15:28:00.779901700Z",
     "start_time": "2023-05-27T15:27:54.112789400Z"
    },
    "collapsed": false
   },
   "outputs": [],
   "source": [
    "# Make predictions on the test data\n",
    "predictions = pipeline_model.transform(test_data)"
   ]
  },
  {
   "cell_type": "code",
   "execution_count": 21,
   "metadata": {
    "ExecuteTime": {
     "end_time": "2023-05-27T15:28:18.665207Z",
     "start_time": "2023-05-27T15:28:00.779901700Z"
    },
    "collapsed": false
   },
   "outputs": [
    {
     "name": "stderr",
     "output_type": "stream",
     "text": [
      "23/05/27 17:28:05 WARN DAGScheduler: Broadcasting large task binary with size 15.7 MiB\n",
      "                                                                                \r"
     ]
    },
    {
     "data": {
      "text/plain": [
       "0.5812300788452468"
      ]
     },
     "execution_count": 21,
     "metadata": {},
     "output_type": "execute_result"
    }
   ],
   "source": [
    "# Compute the F1 score for the test data\n",
    "evaluator = MulticlassClassificationEvaluator(labelCol=\"categoryIndex\", predictionCol=\"prediction\", metricName=\"f1\")\n",
    "f1_score = evaluator.evaluate(predictions)\n",
    "f1_score"
   ]
  },
  {
   "cell_type": "code",
   "execution_count": 22,
   "metadata": {
    "ExecuteTime": {
     "end_time": "2023-05-27T15:29:36.298301100Z",
     "start_time": "2023-05-27T15:28:18.669410900Z"
    },
    "collapsed": false
   },
   "outputs": [
    {
     "name": "stderr",
     "output_type": "stream",
     "text": [
      "23/05/27 17:28:23 WARN DAGScheduler: Broadcasting large task binary with size 15.8 MiB\n",
      "23/05/27 17:28:26 WARN DAGScheduler: Broadcasting large task binary with size 15.8 MiB\n",
      "23/05/27 17:28:29 WARN DAGScheduler: Broadcasting large task binary with size 15.8 MiB\n",
      "23/05/27 17:28:32 WARN DAGScheduler: Broadcasting large task binary with size 15.8 MiB\n",
      "23/05/27 17:28:36 WARN DAGScheduler: Broadcasting large task binary with size 15.8 MiB\n",
      "23/05/27 17:28:41 WARN DAGScheduler: Broadcasting large task binary with size 15.8 MiB\n",
      "23/05/27 17:28:45 WARN DAGScheduler: Broadcasting large task binary with size 15.8 MiB\n",
      "23/05/27 17:28:48 WARN DAGScheduler: Broadcasting large task binary with size 15.8 MiB\n",
      "23/05/27 17:28:52 WARN DAGScheduler: Broadcasting large task binary with size 15.8 MiB\n",
      "23/05/27 17:28:55 WARN DAGScheduler: Broadcasting large task binary with size 15.8 MiB\n",
      "23/05/27 17:28:59 WARN DAGScheduler: Broadcasting large task binary with size 15.8 MiB\n",
      "23/05/27 17:29:02 WARN DAGScheduler: Broadcasting large task binary with size 15.8 MiB\n",
      "23/05/27 17:29:06 WARN DAGScheduler: Broadcasting large task binary with size 15.8 MiB\n",
      "23/05/27 17:29:09 WARN DAGScheduler: Broadcasting large task binary with size 15.8 MiB\n",
      "23/05/27 17:29:13 WARN DAGScheduler: Broadcasting large task binary with size 15.8 MiB\n",
      "23/05/27 17:29:17 WARN DAGScheduler: Broadcasting large task binary with size 15.8 MiB\n",
      "23/05/27 17:29:20 WARN DAGScheduler: Broadcasting large task binary with size 15.8 MiB\n",
      "23/05/27 17:29:23 WARN DAGScheduler: Broadcasting large task binary with size 15.8 MiB\n",
      "23/05/27 17:29:27 WARN DAGScheduler: Broadcasting large task binary with size 15.8 MiB\n",
      "23/05/27 17:29:30 WARN DAGScheduler: Broadcasting large task binary with size 15.8 MiB\n",
      "23/05/27 17:29:33 WARN DAGScheduler: Broadcasting large task binary with size 15.8 MiB\n",
      "23/05/27 17:29:37 WARN DAGScheduler: Broadcasting large task binary with size 15.8 MiB\n",
      "                                                                                \r"
     ]
    },
    {
     "data": {
      "text/plain": [
       "{0: 0.6991473812423873,\n",
       " 1: 0.5351351351351351,\n",
       " 2: 0.5259259259259259,\n",
       " 3: 0.7884057971014493,\n",
       " 4: 0.8756476683937823,\n",
       " 5: 0.8242811501597443,\n",
       " 6: 0.693953488372093,\n",
       " 7: 0.8230088495575222,\n",
       " 8: 0.17679558011049726,\n",
       " 9: 0.7998469192499044,\n",
       " 10: 0.6486486486486487,\n",
       " 11: 0.6089887640449438,\n",
       " 12: 0.7460674157303369,\n",
       " 13: 0.1459227467811159,\n",
       " 14: 0.7418232428670841,\n",
       " 15: 0.3779527559055118,\n",
       " 16: 0.6015037593984962,\n",
       " 17: 0.5101214574898786,\n",
       " 18: 0.7017543859649124,\n",
       " 19: 0.5242937853107345,\n",
       " 20: 0.5182341650671786,\n",
       " 21: 0.5062836624775584}"
      ]
     },
     "execution_count": 22,
     "metadata": {},
     "output_type": "execute_result"
    }
   ],
   "source": [
    "f1_scores = {}\n",
    "# retrieve the number of classes\n",
    "num_classes = predictions.select(\"category\").distinct().count()\n",
    "for i in range(num_classes):\n",
    "    class_predictions = predictions.filter(predictions[\"categoryIndex\"] == i)\n",
    "    f1_score = evaluator.evaluate(class_predictions)\n",
    "    f1_scores[i] = f1_score\n",
    "f1_scores"
   ]
  },
  {
   "cell_type": "code",
   "execution_count": 23,
   "metadata": {
    "ExecuteTime": {
     "end_time": "2023-05-27T15:29:37.307098700Z",
     "start_time": "2023-05-27T15:29:36.301269500Z"
    },
    "tags": []
   },
   "outputs": [],
   "source": [
    "spark.stop()"
   ]
  },
  {
   "cell_type": "code",
   "execution_count": 23,
   "metadata": {
    "ExecuteTime": {
     "end_time": "2023-05-27T15:29:37.309029Z",
     "start_time": "2023-05-27T15:29:37.307098700Z"
    },
    "collapsed": false
   },
   "outputs": [],
   "source": []
  }
 ],
 "metadata": {
  "kernelspec": {
   "display_name": "Python 3 (DIC23)",
   "language": "python",
   "name": "python3_dic23"
  },
  "language_info": {
   "codemirror_mode": {
    "name": "ipython",
    "version": 3
   },
   "file_extension": ".py",
   "mimetype": "text/x-python",
   "name": "python",
   "nbconvert_exporter": "python",
   "pygments_lexer": "ipython3",
   "version": "3.9.13"
  }
 },
 "nbformat": 4,
 "nbformat_minor": 4
}
