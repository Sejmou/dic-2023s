{
 "cells": [
  {
   "cell_type": "code",
   "execution_count": 2,
   "outputs": [],
   "source": [
    "import base64\n",
    "import io\n",
    "import json\n",
    "import os\n",
    "\n",
    "import requests\n",
    "from PIL import Image"
   ],
   "metadata": {
    "collapsed": false,
    "ExecuteTime": {
     "end_time": "2023-06-16T15:28:25.692688100Z",
     "start_time": "2023-06-16T15:28:25.654686200Z"
    }
   }
  },
  {
   "cell_type": "code",
   "execution_count": 3,
   "outputs": [],
   "source": [
    "# directory of the images\n",
    "IMAGE_DIR_SMALL = os.path.join(os.path.dirname(os.getcwd()), \"Object Detection\", \"object-detection-SMALL\")\n",
    "IMAGE_DIR_MEDIUM = os.path.join(os.path.dirname(os.getcwd()), \"Object Detection\", \"object-detection-MEDIUM\")\n",
    "IMAGE_DIR_BIG = os.path.join(os.path.dirname(os.getcwd()), \"Object Detection\", \"object-detection-BIG\")"
   ],
   "metadata": {
    "collapsed": false,
    "ExecuteTime": {
     "end_time": "2023-06-16T15:28:25.692688100Z",
     "start_time": "2023-06-16T15:28:25.673690200Z"
    }
   }
  },
  {
   "cell_type": "code",
   "execution_count": 4,
   "outputs": [],
   "source": [
    "# load all images from the directory\n",
    "def load_images_from_folder(folder):\n",
    "    images = []\n",
    "    for filename in os.listdir(folder):\n",
    "        if filename.endswith(\".jpg\"):\n",
    "            images.append(Image.open(os.path.join(folder, filename)))\n",
    "    return images"
   ],
   "metadata": {
    "collapsed": false,
    "ExecuteTime": {
     "end_time": "2023-06-16T15:28:25.703688900Z",
     "start_time": "2023-06-16T15:28:25.689688700Z"
    }
   }
  },
  {
   "cell_type": "code",
   "execution_count": 5,
   "outputs": [],
   "source": [
    "# load sample image from the directory\n",
    "def load_sample_image_from_folder(folder):\n",
    "    for filename in os.listdir(folder):\n",
    "        if filename.endswith(\".jpg\"):\n",
    "            return Image.open(os.path.join(folder, filename))"
   ],
   "metadata": {
    "collapsed": false,
    "ExecuteTime": {
     "end_time": "2023-06-16T15:28:25.730689300Z",
     "start_time": "2023-06-16T15:28:25.705685400Z"
    }
   }
  },
  {
   "cell_type": "code",
   "execution_count": 6,
   "outputs": [],
   "source": [
    "image = load_sample_image_from_folder(IMAGE_DIR_SMALL)"
   ],
   "metadata": {
    "collapsed": false,
    "ExecuteTime": {
     "end_time": "2023-06-16T15:28:25.750687200Z",
     "start_time": "2023-06-16T15:28:25.721686Z"
    }
   }
  },
  {
   "cell_type": "code",
   "execution_count": 7,
   "outputs": [],
   "source": [
    "# base64 encode an image\n",
    "def encode_image(image):\n",
    "    buffered = io.BytesIO()\n",
    "    image.save(buffered, format=\"JPEG\")\n",
    "    return base64.b64encode(buffered.getvalue()).decode('utf-8')"
   ],
   "metadata": {
    "collapsed": false,
    "ExecuteTime": {
     "end_time": "2023-06-16T15:28:25.771683200Z",
     "start_time": "2023-06-16T15:28:25.752685700Z"
    }
   }
  },
  {
   "cell_type": "code",
   "execution_count": 8,
   "outputs": [],
   "source": [
    "def encode_images(images):\n",
    "    return [encode_image(image) for image in images]"
   ],
   "metadata": {
    "collapsed": false,
    "ExecuteTime": {
     "end_time": "2023-06-16T15:28:25.781684400Z",
     "start_time": "2023-06-16T15:28:25.766687800Z"
    }
   }
  },
  {
   "cell_type": "code",
   "execution_count": 9,
   "outputs": [],
   "source": [
    "# decode the image from base64 encoding to image format\n",
    "def decode_image(image):\n",
    "    return Image.open(io.BytesIO(base64.b64decode(image)))"
   ],
   "metadata": {
    "collapsed": false,
    "ExecuteTime": {
     "end_time": "2023-06-16T15:28:25.799688800Z",
     "start_time": "2023-06-16T15:28:25.783685200Z"
    }
   }
  },
  {
   "cell_type": "code",
   "execution_count": 10,
   "outputs": [],
   "source": [
    "encoded_images = encode_images(load_images_from_folder(IMAGE_DIR_SMALL))"
   ],
   "metadata": {
    "collapsed": false,
    "ExecuteTime": {
     "end_time": "2023-06-16T15:28:27.194683100Z",
     "start_time": "2023-06-16T15:28:25.799688800Z"
    }
   }
  },
  {
   "cell_type": "code",
   "execution_count": 14,
   "outputs": [],
   "source": [
    "# select 3 images from the list\n",
    "images = encoded_images[:3]"
   ],
   "metadata": {
    "collapsed": false,
    "ExecuteTime": {
     "end_time": "2023-06-16T16:41:43.313033900Z",
     "start_time": "2023-06-16T16:41:43.304033900Z"
    }
   }
  },
  {
   "cell_type": "code",
   "execution_count": 15,
   "outputs": [],
   "source": [
    "url = \"http://127.0.0.1:5000/api/detect\"\n",
    "payload = json.dumps({\"images\": images})\n",
    "headers = {\"content-type\": \"application/json\"}\n",
    "\n",
    "response = requests.post(url, data=payload, headers=headers)"
   ],
   "metadata": {
    "collapsed": false,
    "ExecuteTime": {
     "end_time": "2023-06-16T16:44:41.538040Z",
     "start_time": "2023-06-16T16:41:44.576426300Z"
    }
   }
  },
  {
   "cell_type": "code",
   "execution_count": 17,
   "outputs": [
    {
     "data": {
      "text/plain": "{'avg_inf_time': '38.56221008300781',\n 'avg_upload_time': '38.56821878751119',\n 'bounding_boxes': [[[0.5463399887084961,\n    0.8795954585075378,\n    0.6625896096229553,\n    0.9239476919174194],\n   [0.6030558347702026, 0.7631683349609375, 0.7244568467140198, 1.0],\n   [0.22294770181179047, 0.8265525698661804, 0.2231614887714386, 1.0],\n   [0.08003731817007065,\n    0.23777708411216736,\n    0.0843622237443924,\n    0.25121819972991943],\n   [0.16605527698993683,\n    0.19100366532802582,\n    0.17042183876037598,\n    0.24810339510440826],\n   [0.05017441511154175,\n    0.8517669439315796,\n    0.05174560099840164,\n    0.928158700466156],\n   [0.011357724666595459,\n    0.24741743505001068,\n    0.01722661964595318,\n    0.26779690384864807],\n   [0.21232478320598602,\n    0.37212663888931274,\n    0.22588908672332764,\n    0.4091385006904602],\n   [0.38798874616622925,\n    0.3812750577926636,\n    0.3886432945728302,\n    0.40619027614593506],\n   [0.6360184550285339,\n    0.1209162026643753,\n    0.7321436405181885,\n    0.16506819427013397]],\n  [],\n  [[0.7716214656829834,\n    0.8554133176803589,\n    0.7820191383361816,\n    0.889986515045166],\n   [0.7703009247779846,\n    0.8907690644264221,\n    0.8213658928871155,\n    0.9473732709884644],\n   [0.8412299752235413,\n    0.5734221339225769,\n    0.9399539232254028,\n    0.6544567942619324],\n   [0.8329635262489319,\n    0.832701563835144,\n    0.8955675959587097,\n    0.8871800899505615],\n   [0.7986329793930054,\n    0.8678709864616394,\n    0.8459432721138,\n    0.9236500263214111],\n   [0.8335151672363281,\n    0.9879122972488403,\n    0.8417776823043823,\n    0.9960181713104248],\n   [0.7437882423400879,\n    0.6321660280227661,\n    0.9389976263046265,\n    0.7360374927520752],\n   [0.816848635673523,\n    0.7595719695091248,\n    0.8295960426330566,\n    0.875569760799408],\n   [0.5962280631065369, 0.9884420037269592, 0.714424729347229, 1.0],\n   [0.7351204752922058,\n    0.8492816686630249,\n    0.923858642578125,\n    0.9346696138381958],\n   [0.7868873476982117,\n    0.8150479793548584,\n    0.799406886100769,\n    0.8187336921691895],\n   [0.8196098804473877,\n    0.9589018821716309,\n    0.8548750877380371,\n    0.9661310911178589],\n   [0.7277930378913879,\n    0.8387172818183899,\n    0.7968475222587585,\n    0.9413381218910217],\n   [0.7955461740493774, 0.7735605239868164, 0.8021171689033508, 1.0],\n   [0.8551116585731506,\n    0.7890880703926086,\n    0.8869490623474121,\n    0.8095698356628418],\n   [0.8295113444328308,\n    0.8805118799209595,\n    0.8405375480651855,\n    0.8832977414131165],\n   [0.7240545153617859,\n    0.7381328344345093,\n    0.7627469897270203,\n    0.8512837886810303],\n   [0.5753481984138489,\n    0.7981998920440674,\n    0.9995603561401367,\n    0.9648579955101013],\n   [0.616400957107544, 0.7940731644630432, 1.0, 0.8212735652923584],\n   [0.8086562752723694,\n    0.9180789589881897,\n    0.8885784149169922,\n    0.9463150501251221],\n   [0.8372172117233276,\n    0.810046911239624,\n    0.9556574821472168,\n    0.8163735270500183],\n   [0.6327701210975647,\n    0.8496249318122864,\n    0.7794848084449768,\n    0.8501737117767334],\n   [0.0420951284468174, 0.7756757140159607, 1.0, 0.7781745195388794],\n   [0.850354015827179, 0.8279629945755005, 0.891724705696106, 1.0],\n   [0.873837411403656,\n    0.5804343819618225,\n    0.9091789722442627,\n    0.9514968991279602],\n   [0.5500668883323669,\n    0.5881546139717102,\n    0.6220870614051819,\n    0.6611074805259705],\n   [0.8465180993080139,\n    0.9223604798316956,\n    0.8785746693611145,\n    0.9982263445854187],\n   [0.5662223100662231, 0.7628122568130493, 1.0, 0.8239785432815552],\n   [0.7032808065414429,\n    0.8701282143592834,\n    0.9380680918693542,\n    0.8706557154655457],\n   [0.7347626686096191,\n    0.9257972240447998,\n    0.830085039138794,\n    0.9318769574165344],\n   [0.7612273097038269,\n    0.9247296452522278,\n    0.7775576710700989,\n    0.9297788739204407]]],\n 'inf_time': [63.0926296710968, 27.61899971961975, 24.975000858306885],\n 'upload_time': [63.09365487098694, 27.636000633239746, 24.975000858306885]}"
     },
     "execution_count": 17,
     "metadata": {},
     "output_type": "execute_result"
    }
   ],
   "source": [
    "response.json()"
   ],
   "metadata": {
    "collapsed": false,
    "ExecuteTime": {
     "end_time": "2023-06-16T16:44:58.413873400Z",
     "start_time": "2023-06-16T16:44:58.384874500Z"
    }
   }
  },
  {
   "cell_type": "code",
   "execution_count": null,
   "outputs": [],
   "source": [],
   "metadata": {
    "collapsed": false
   }
  }
 ],
 "metadata": {
  "kernelspec": {
   "display_name": "Python 3",
   "language": "python",
   "name": "python3"
  },
  "language_info": {
   "codemirror_mode": {
    "name": "ipython",
    "version": 2
   },
   "file_extension": ".py",
   "mimetype": "text/x-python",
   "name": "python",
   "nbconvert_exporter": "python",
   "pygments_lexer": "ipython2",
   "version": "2.7.6"
  }
 },
 "nbformat": 4,
 "nbformat_minor": 0
}
