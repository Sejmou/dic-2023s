{
 "cells": [
  {
   "cell_type": "markdown",
   "metadata": {},
   "source": [
    "# Analzying object detection results"
   ]
  },
  {
   "cell_type": "code",
   "execution_count": 2,
   "metadata": {},
   "outputs": [],
   "source": [
    "import pandas as pd\n",
    "import os"
   ]
  },
  {
   "cell_type": "code",
   "execution_count": 4,
   "metadata": {},
   "outputs": [
    {
     "data": {
      "text/plain": [
       "['l_flask_object-detection-XTRA-SMALL_2023-07-11T17:13:18.977769Z.json',\n",
       " 'r_flask_object-detection-SMALL_2023-07-11T17:15:44.414486Z.json',\n",
       " 'l_flask_object-detection-MEDIUM_2023-07-11T15:33:48.661918Z.json',\n",
       " 'l_flask_object-detection-SMALL_2023-07-11T15:32:51.393759Z.json',\n",
       " 'l_flask_object-detection-BIG_2023-07-11T16:05:21.054575Z.json',\n",
       " 'r_flask_object-detection-XTRA-SMALL_2023-07-11T17:15:33.487924Z.json']"
      ]
     },
     "execution_count": 4,
     "metadata": {},
     "output_type": "execute_result"
    }
   ],
   "source": [
    "results_folder = os.path.join(\"data\", \"results\")\n",
    "result_files = [f for f in os.listdir(results_folder) if f.endswith(\".json\")]"
   ]
  },
  {
   "cell_type": "markdown",
   "metadata": {},
   "source": [
    "## Flask API"
   ]
  },
  {
   "cell_type": "code",
   "execution_count": null,
   "metadata": {},
   "outputs": [],
   "source": []
  },
  {
   "cell_type": "code",
   "execution_count": null,
   "metadata": {},
   "outputs": [],
   "source": []
  }
 ],
 "metadata": {
  "kernelspec": {
   "display_name": "base",
   "language": "python",
   "name": "python3"
  },
  "language_info": {
   "codemirror_mode": {
    "name": "ipython",
    "version": 3
   },
   "file_extension": ".py",
   "mimetype": "text/x-python",
   "name": "python",
   "nbconvert_exporter": "python",
   "pygments_lexer": "ipython3",
   "version": "3.9.12"
  },
  "orig_nbformat": 4
 },
 "nbformat": 4,
 "nbformat_minor": 2
}
